{
 "cells": [
  {
   "cell_type": "markdown",
   "id": "19cba462-2821-4fb4-aaa1-56c6f902e07d",
   "metadata": {},
   "source": [
    "# Hardware Requirements"
   ]
  },
  {
   "cell_type": "markdown",
   "id": "06236757-e44c-4b48-b44b-4240e9ede249",
   "metadata": {},
   "source": [
    "The overall training process takes around **5 hours** using a single P100 GPU (tested on Kaggle). <br>\n",
    "On Google Colab with a T4 GPU, it will take longer, roughly **8 hours** (Not recommended since Colab might automatically lose connection)\n",
    "\n",
    "GPU RAM usage:  14GB <br>\n",
    "Disk: 10 GB"
   ]
  },
  {
   "cell_type": "code",
   "execution_count": 1,
   "id": "f4cdb633-6008-47e1-974e-bc50b072e440",
   "metadata": {},
   "outputs": [],
   "source": [
    "import os\n",
    "os.environ[\"CUDA_VISIBLE_DEVICES\"]=\"0\""
   ]
  },
  {
   "cell_type": "markdown",
   "id": "44e38cf8-2a1e-4982-a0d0-96970bbd05e8",
   "metadata": {
    "id": "44e38cf8-2a1e-4982-a0d0-96970bbd05e8",
    "tags": []
   },
   "source": [
    "# Install Dependencies"
   ]
  },
  {
   "cell_type": "code",
   "execution_count": 2,
   "id": "5d8f87f4-fa40-4621-b74d-6e9cd87c05af",
   "metadata": {
    "colab": {
     "base_uri": "https://localhost:8080/"
    },
    "id": "5d8f87f4-fa40-4621-b74d-6e9cd87c05af",
    "outputId": "2af8549d-9552-4cea-ecbc-c529a7ca61de"
   },
   "outputs": [
    {
     "name": "stdout",
     "output_type": "stream",
     "text": [
      "Requirement already satisfied: numpy in /home/scieditor/anaconda3/envs/pdf_vqa/lib/python3.10/site-packages (1.26.0)\n",
      "Requirement already satisfied: tqdm in /home/scieditor/anaconda3/envs/pdf_vqa/lib/python3.10/site-packages (4.66.1)\n",
      "Requirement already satisfied: nltk in /home/scieditor/anaconda3/envs/pdf_vqa/lib/python3.10/site-packages (3.8.1)\n",
      "Requirement already satisfied: transformers==4.31.0 in /home/scieditor/anaconda3/envs/pdf_vqa/lib/python3.10/site-packages (4.31.0)\n",
      "Requirement already satisfied: peft==0.4.0 in /home/scieditor/anaconda3/envs/pdf_vqa/lib/python3.10/site-packages (0.4.0)\n",
      "Requirement already satisfied: accelerate==0.21.0 in /home/scieditor/anaconda3/envs/pdf_vqa/lib/python3.10/site-packages (0.21.0)\n",
      "Requirement already satisfied: bitsandbytes==0.41.1 in /home/scieditor/anaconda3/envs/pdf_vqa/lib/python3.10/site-packages (0.41.1)\n",
      "Requirement already satisfied: pandas in /home/scieditor/anaconda3/envs/pdf_vqa/lib/python3.10/site-packages (2.1.1)\n",
      "Requirement already satisfied: filelock in /home/scieditor/anaconda3/envs/pdf_vqa/lib/python3.10/site-packages (from transformers==4.31.0) (3.12.4)\n",
      "Requirement already satisfied: huggingface-hub<1.0,>=0.14.1 in /home/scieditor/anaconda3/envs/pdf_vqa/lib/python3.10/site-packages (from transformers==4.31.0) (0.17.3)\n",
      "Requirement already satisfied: packaging>=20.0 in /home/scieditor/anaconda3/envs/pdf_vqa/lib/python3.10/site-packages (from transformers==4.31.0) (23.2)\n",
      "Requirement already satisfied: pyyaml>=5.1 in /home/scieditor/anaconda3/envs/pdf_vqa/lib/python3.10/site-packages (from transformers==4.31.0) (6.0.1)\n",
      "Requirement already satisfied: regex!=2019.12.17 in /home/scieditor/anaconda3/envs/pdf_vqa/lib/python3.10/site-packages (from transformers==4.31.0) (2023.10.3)\n",
      "Requirement already satisfied: requests in /home/scieditor/anaconda3/envs/pdf_vqa/lib/python3.10/site-packages (from transformers==4.31.0) (2.31.0)\n",
      "Requirement already satisfied: tokenizers!=0.11.3,<0.14,>=0.11.1 in /home/scieditor/anaconda3/envs/pdf_vqa/lib/python3.10/site-packages (from transformers==4.31.0) (0.13.3)\n",
      "Requirement already satisfied: safetensors>=0.3.1 in /home/scieditor/anaconda3/envs/pdf_vqa/lib/python3.10/site-packages (from transformers==4.31.0) (0.3.3)\n",
      "Requirement already satisfied: psutil in /home/scieditor/anaconda3/envs/pdf_vqa/lib/python3.10/site-packages (from peft==0.4.0) (5.9.5)\n",
      "Requirement already satisfied: torch>=1.13.0 in /home/scieditor/anaconda3/envs/pdf_vqa/lib/python3.10/site-packages (from peft==0.4.0) (2.0.1)\n",
      "Requirement already satisfied: click in /home/scieditor/anaconda3/envs/pdf_vqa/lib/python3.10/site-packages (from nltk) (8.1.7)\n",
      "Requirement already satisfied: joblib in /home/scieditor/anaconda3/envs/pdf_vqa/lib/python3.10/site-packages (from nltk) (1.3.2)\n",
      "Requirement already satisfied: python-dateutil>=2.8.2 in /home/scieditor/anaconda3/envs/pdf_vqa/lib/python3.10/site-packages (from pandas) (2.8.2)\n",
      "Requirement already satisfied: pytz>=2020.1 in /home/scieditor/anaconda3/envs/pdf_vqa/lib/python3.10/site-packages (from pandas) (2023.3.post1)\n",
      "Requirement already satisfied: tzdata>=2022.1 in /home/scieditor/anaconda3/envs/pdf_vqa/lib/python3.10/site-packages (from pandas) (2023.3)\n",
      "Requirement already satisfied: fsspec in /home/scieditor/anaconda3/envs/pdf_vqa/lib/python3.10/site-packages (from huggingface-hub<1.0,>=0.14.1->transformers==4.31.0) (2023.9.2)\n",
      "Requirement already satisfied: typing-extensions>=3.7.4.3 in /home/scieditor/anaconda3/envs/pdf_vqa/lib/python3.10/site-packages (from huggingface-hub<1.0,>=0.14.1->transformers==4.31.0) (4.8.0)\n",
      "Requirement already satisfied: six>=1.5 in /home/scieditor/anaconda3/envs/pdf_vqa/lib/python3.10/site-packages (from python-dateutil>=2.8.2->pandas) (1.16.0)\n",
      "Requirement already satisfied: sympy in /home/scieditor/anaconda3/envs/pdf_vqa/lib/python3.10/site-packages (from torch>=1.13.0->peft==0.4.0) (1.12)\n",
      "Requirement already satisfied: networkx in /home/scieditor/anaconda3/envs/pdf_vqa/lib/python3.10/site-packages (from torch>=1.13.0->peft==0.4.0) (3.1)\n",
      "Requirement already satisfied: jinja2 in /home/scieditor/anaconda3/envs/pdf_vqa/lib/python3.10/site-packages (from torch>=1.13.0->peft==0.4.0) (3.1.2)\n",
      "Requirement already satisfied: nvidia-cuda-nvrtc-cu11==11.7.99 in /home/scieditor/anaconda3/envs/pdf_vqa/lib/python3.10/site-packages (from torch>=1.13.0->peft==0.4.0) (11.7.99)\n",
      "Requirement already satisfied: nvidia-cuda-runtime-cu11==11.7.99 in /home/scieditor/anaconda3/envs/pdf_vqa/lib/python3.10/site-packages (from torch>=1.13.0->peft==0.4.0) (11.7.99)\n",
      "Requirement already satisfied: nvidia-cuda-cupti-cu11==11.7.101 in /home/scieditor/anaconda3/envs/pdf_vqa/lib/python3.10/site-packages (from torch>=1.13.0->peft==0.4.0) (11.7.101)\n",
      "Requirement already satisfied: nvidia-cudnn-cu11==8.5.0.96 in /home/scieditor/anaconda3/envs/pdf_vqa/lib/python3.10/site-packages (from torch>=1.13.0->peft==0.4.0) (8.5.0.96)\n",
      "Requirement already satisfied: nvidia-cublas-cu11==11.10.3.66 in /home/scieditor/anaconda3/envs/pdf_vqa/lib/python3.10/site-packages (from torch>=1.13.0->peft==0.4.0) (11.10.3.66)\n",
      "Requirement already satisfied: nvidia-cufft-cu11==10.9.0.58 in /home/scieditor/anaconda3/envs/pdf_vqa/lib/python3.10/site-packages (from torch>=1.13.0->peft==0.4.0) (10.9.0.58)\n",
      "Requirement already satisfied: nvidia-curand-cu11==10.2.10.91 in /home/scieditor/anaconda3/envs/pdf_vqa/lib/python3.10/site-packages (from torch>=1.13.0->peft==0.4.0) (10.2.10.91)\n",
      "Requirement already satisfied: nvidia-cusolver-cu11==11.4.0.1 in /home/scieditor/anaconda3/envs/pdf_vqa/lib/python3.10/site-packages (from torch>=1.13.0->peft==0.4.0) (11.4.0.1)\n",
      "Requirement already satisfied: nvidia-cusparse-cu11==11.7.4.91 in /home/scieditor/anaconda3/envs/pdf_vqa/lib/python3.10/site-packages (from torch>=1.13.0->peft==0.4.0) (11.7.4.91)\n",
      "Requirement already satisfied: nvidia-nccl-cu11==2.14.3 in /home/scieditor/anaconda3/envs/pdf_vqa/lib/python3.10/site-packages (from torch>=1.13.0->peft==0.4.0) (2.14.3)\n",
      "Requirement already satisfied: nvidia-nvtx-cu11==11.7.91 in /home/scieditor/anaconda3/envs/pdf_vqa/lib/python3.10/site-packages (from torch>=1.13.0->peft==0.4.0) (11.7.91)\n",
      "Requirement already satisfied: triton==2.0.0 in /home/scieditor/anaconda3/envs/pdf_vqa/lib/python3.10/site-packages (from torch>=1.13.0->peft==0.4.0) (2.0.0)\n",
      "Requirement already satisfied: setuptools in /home/scieditor/anaconda3/envs/pdf_vqa/lib/python3.10/site-packages (from nvidia-cublas-cu11==11.10.3.66->torch>=1.13.0->peft==0.4.0) (68.0.0)\n",
      "Requirement already satisfied: wheel in /home/scieditor/anaconda3/envs/pdf_vqa/lib/python3.10/site-packages (from nvidia-cublas-cu11==11.10.3.66->torch>=1.13.0->peft==0.4.0) (0.41.2)\n",
      "Requirement already satisfied: cmake in /home/scieditor/anaconda3/envs/pdf_vqa/lib/python3.10/site-packages (from triton==2.0.0->torch>=1.13.0->peft==0.4.0) (3.27.6)\n",
      "Requirement already satisfied: lit in /home/scieditor/anaconda3/envs/pdf_vqa/lib/python3.10/site-packages (from triton==2.0.0->torch>=1.13.0->peft==0.4.0) (17.0.2)\n",
      "Requirement already satisfied: charset-normalizer<4,>=2 in /home/scieditor/anaconda3/envs/pdf_vqa/lib/python3.10/site-packages (from requests->transformers==4.31.0) (3.3.0)\n",
      "Requirement already satisfied: idna<4,>=2.5 in /home/scieditor/anaconda3/envs/pdf_vqa/lib/python3.10/site-packages (from requests->transformers==4.31.0) (3.4)\n",
      "Requirement already satisfied: urllib3<3,>=1.21.1 in /home/scieditor/anaconda3/envs/pdf_vqa/lib/python3.10/site-packages (from requests->transformers==4.31.0) (2.0.6)\n",
      "Requirement already satisfied: certifi>=2017.4.17 in /home/scieditor/anaconda3/envs/pdf_vqa/lib/python3.10/site-packages (from requests->transformers==4.31.0) (2023.7.22)\n",
      "Requirement already satisfied: MarkupSafe>=2.0 in /home/scieditor/anaconda3/envs/pdf_vqa/lib/python3.10/site-packages (from jinja2->torch>=1.13.0->peft==0.4.0) (2.1.3)\n",
      "Requirement already satisfied: mpmath>=0.19 in /home/scieditor/anaconda3/envs/pdf_vqa/lib/python3.10/site-packages (from sympy->torch>=1.13.0->peft==0.4.0) (1.3.0)\n"
     ]
    }
   ],
   "source": [
    "!pip install numpy tqdm nltk transformers==4.31.0 peft==0.4.0 accelerate==0.21.0 bitsandbytes==0.41.1 pandas"
   ]
  },
  {
   "cell_type": "markdown",
   "id": "668bb90d-4c8b-4d86-88cc-a4d080059537",
   "metadata": {
    "id": "668bb90d-4c8b-4d86-88cc-a4d080059537",
    "tags": []
   },
   "source": [
    "# Download the PDF-VQA Dataset"
   ]
  },
  {
   "cell_type": "markdown",
   "id": "9921b066-bfdd-47f1-898c-94dd8ee12f96",
   "metadata": {
    "id": "9921b066-bfdd-47f1-898c-94dd8ee12f96"
   },
   "source": [
    "**Note:** Although in the provided [**strong baseline juypter notebook**](https://colab.research.google.com/drive/1C4HgX_Yl3vc6u5Wq6duZe0YQBU34ooh2?usp=sharing) there is a way of downloading the files via gdrive API, we noticed that in this way the downloaded validation file \"val_dataframe.csv\" **DOES NOT** contain the ground-truth answer, which make it impossible to use the validation set for validating the training.\n",
    "Therefore, we have to download the full dataset from kaggle instead.\n",
    "\n",
    "Download the full dataset from the Kaggle competition data page: https://www.kaggle.com/competitions/pdfvqa/data, by clicking the button \"Download All\" in the bottom right. Unzip, and put the downloaded folder \"**pdfvqa**\" to the same folder as this notebook.\n",
    "\n",
    "Alternatively, you can try the following command: (This might not work after certain time, since the downloading link was dynamically allocated.)"
   ]
  },
  {
   "cell_type": "code",
   "execution_count": 3,
   "id": "b93ee16f-b1fe-401c-895e-12e27e89806e",
   "metadata": {
    "colab": {
     "base_uri": "https://localhost:8080/"
    },
    "id": "b93ee16f-b1fe-401c-895e-12e27e89806e",
    "outputId": "29e29665-a019-433a-fc07-3e6ea3d1c141",
    "tags": []
   },
   "outputs": [
    {
     "name": "stdout",
     "output_type": "stream",
     "text": [
      "  % Total    % Received % Xferd  Average Speed   Time    Time     Time  Current\n",
      "                                 Dload  Upload   Total   Spent    Left  Speed\n",
      "100 2103M  100 2103M    0     0  26.1M      0  0:01:20  0:01:20 --:--:-- 27.3M:19  0:01:02 28.8M20  0:00:37  0:00:43 27.9M0  0:01:16  0:00:04 29.9M\n"
     ]
    }
   ],
   "source": [
    "!curl -o pdfvqa.zip 'https://storage.googleapis.com/kaggle-competitions-data/kaggle-v2/56858/6336428/bundle/archive.zip?GoogleAccessId=web-data@kaggle-161607.iam.gserviceaccount.com&Expires=1696621416&Signature=MD2fz4I6wSiWcaViYmZ31JBfS5A4Qlcsjt557vgdgLydNC5uCRwH21OcX9AzJ4AbYEd9gt9w%2FACLBd%2BUEuMd8%2FLaJ5unJWcgSbERUDLnLCr9p1SE1UCwseAbM2FnocPC3yelMTTjZ8SoMq49rZuB3Fx%2BbCqS6ddTmssDhPZQ5tOrdQD31PDOBXxbmoZxx7JQco6%2FOCMXy%2BoWaeDf9leZfOro5YfNu%2FANo%2FoUDzLQ2kPxL%2B%2F2oGMFpFmoM60zaupqBsaUJz0XIKnO0LfiT7kv6Jd%2BOJLD45iRyXkcHIUYuTCNvTKSjABqelJjDloVRPLZfV1%2BrCNc2C%2BtzaeJSH2sdg%3D%3D&response-content-disposition=attachment%3B+filename%3Dpdfvqa.zip'\n",
    "!unzip -q pdfvqa.zip -d pdfvqa/"
   ]
  },
  {
   "cell_type": "markdown",
   "id": "b43d1c10-6270-4c02-af43-95c887edc86a",
   "metadata": {
    "id": "b43d1c10-6270-4c02-af43-95c887edc86a"
   },
   "source": [
    "Or, alternatively, use the kaggle API: ([**User authentication of Kaggle API is needed**](https://www.kaggle.com/discussions/general/74235))"
   ]
  },
  {
   "cell_type": "code",
   "execution_count": 4,
   "id": "8f5e1d79-4530-4649-92e4-d15b75a55940",
   "metadata": {
    "id": "8f5e1d79-4530-4649-92e4-d15b75a55940",
    "tags": []
   },
   "outputs": [],
   "source": [
    "# !kaggle competitions download -c pdfvqa"
   ]
  },
  {
   "cell_type": "markdown",
   "id": "28de0746-a301-4640-9ba4-278eb2f4a500",
   "metadata": {
    "id": "28de0746-a301-4640-9ba4-278eb2f4a500"
   },
   "source": [
    "### Here is the structure of the data folder\n",
    "```\n",
    "pdfvqa\n",
    "├── test_dataframe_without_answer.csv\n",
    "├── test_doc_info.pkl\n",
    "├── test_images\n",
    "├── train_dataframe.csv\n",
    "├── train_doc_info.pkl\n",
    "├── train_images\n",
    "├── val_dataframe.csv\n",
    "├── val_doc_info.pkl\n",
    "└── val_images\n",
    "```"
   ]
  },
  {
   "cell_type": "markdown",
   "id": "d48079cb-356f-4daf-98d8-105ad7a40fc2",
   "metadata": {
    "id": "d48079cb-356f-4daf-98d8-105ad7a40fc2",
    "tags": []
   },
   "source": [
    "# Code for the Model"
   ]
  },
  {
   "cell_type": "markdown",
   "id": "d1755d5a-dd06-4c4c-8685-8cea11a8c963",
   "metadata": {
    "id": "d1755d5a-dd06-4c4c-8685-8cea11a8c963"
   },
   "source": [
    "## Utils"
   ]
  },
  {
   "cell_type": "code",
   "execution_count": 5,
   "id": "b8b7a287-94ce-4810-b4ab-19f256a20f44",
   "metadata": {
    "id": "b8b7a287-94ce-4810-b4ab-19f256a20f44",
    "tags": []
   },
   "outputs": [],
   "source": [
    "import os\n",
    "from glob import glob\n",
    "import torch\n",
    "import torch.nn as nn\n",
    "import json\n",
    "from tqdm import tqdm\n",
    "\n",
    "def load_model( model_folder ):\n",
    "    ckpt_list =  glob( model_folder + \"/*.pt\" )\n",
    "    if len( ckpt_list ) >0:\n",
    "        ckpt_list.sort( key = os.path.getmtime )\n",
    "        ckpt_name = ckpt_list[-1]\n",
    "        if torch.cuda.is_available():\n",
    "            ckpt = torch.load( ckpt_name )\n",
    "        else:\n",
    "            ckpt = torch.load( ckpt_name,  map_location=torch.device('cpu') )\n",
    "    else:\n",
    "        ckpt = None\n",
    "    return ckpt\n",
    "\n",
    "def save_model(  module_dicts ,save_name , max_to_keep = 0, overwrite = True ):\n",
    "    folder_path = os.path.dirname( os.path.abspath( save_name )  )\n",
    "    if not os.path.exists( folder_path  ):\n",
    "        os.makedirs( folder_path )\n",
    "\n",
    "    state_dicts = {}\n",
    "    for key in module_dicts.keys():\n",
    "        if isinstance( module_dicts[key], nn.DataParallel ):\n",
    "            state_dicts[key] = module_dicts[key].module.state_dict()\n",
    "        elif isinstance( module_dicts[key], nn.Module ):\n",
    "            state_dicts[key] = module_dicts[key].state_dict()\n",
    "        else:\n",
    "            state_dicts[key] = module_dicts[key]\n",
    "\n",
    "    if os.path.exists( save_name ):\n",
    "        if overwrite:\n",
    "            os.remove( save_name )\n",
    "            torch.save( state_dicts, save_name )\n",
    "        else:\n",
    "            print(\"Warning: checkpoint file already exists!\")\n",
    "            return\n",
    "    else:\n",
    "        torch.save( state_dicts, save_name )\n",
    "\n",
    "    if max_to_keep > 0:\n",
    "        pt_file_list = glob(folder_path+\"/*.pt\")\n",
    "        pt_file_list.sort( key= lambda x: os.path.getmtime(x) )\n",
    "        for idx in range( len( pt_file_list ) - max_to_keep ):\n",
    "            os.remove( pt_file_list[idx]  )\n",
    "\n",
    "\n",
    "def get_lr(optimizer):\n",
    "    return [param_group['lr'] for param_group in optimizer.param_groups ]"
   ]
  },
  {
   "cell_type": "markdown",
   "id": "73f1ea0a-dc4a-4a18-8af7-97c792a3a482",
   "metadata": {
    "id": "73f1ea0a-dc4a-4a18-8af7-97c792a3a482"
   },
   "source": [
    "## Datautils"
   ]
  },
  {
   "cell_type": "code",
   "execution_count": 6,
   "id": "cd8e7901-4e2e-426b-bb67-5314c69954b2",
   "metadata": {
    "id": "cd8e7901-4e2e-426b-bb67-5314c69954b2",
    "tags": []
   },
   "outputs": [],
   "source": [
    "import torch\n",
    "from torch.utils.data import Dataset, DataLoader\n",
    "import numpy as np\n",
    "import os\n",
    "from copy import deepcopy\n",
    "from tqdm import tqdm\n",
    "\n",
    "import ast, pickle\n",
    "import pandas as pd\n",
    "\n",
    "from nltk.tokenize import RegexpTokenizer\n",
    "word_tok = RegexpTokenizer(r\"\\w+\")\n",
    "\n",
    "\n",
    "## the corpus has been preprocessed, so here only lower is needed\n",
    "## all digits are kept, since sent2vec unigram embedding has digit embedding\n",
    "## no stemming, no lemmatization\n",
    "class SentenceTokenizer:\n",
    "    def __init__(self ):\n",
    "        pass\n",
    "    def tokenize(self, sen ):\n",
    "        return sen.lower()\n",
    "\n",
    "class Vocab:\n",
    "    def __init__(self, words, eos_token = \"<eos>\", pad_token = \"<pad>\", unk_token = \"<unk>\" ):\n",
    "        self.words = words\n",
    "        self.index_to_word = {}\n",
    "        self.word_to_index = {}\n",
    "        for idx in range( len(words) ):\n",
    "            self.index_to_word[ idx ] = words[idx]\n",
    "            self.word_to_index[ words[idx] ] = idx\n",
    "        self.eos_token = eos_token\n",
    "        self.pad_token = pad_token\n",
    "        self.unk_token = unk_token\n",
    "        self.eos_index = self.word_to_index[self.eos_token]\n",
    "        self.pad_index = self.word_to_index[self.pad_token]\n",
    "\n",
    "        self.tokenizer = SentenceTokenizer()\n",
    "\n",
    "    def index2word( self, idx ):\n",
    "        return self.index_to_word.get( idx, self.unk_token)\n",
    "    def word2index( self, word ):\n",
    "        return self.word_to_index.get( word, -1 )\n",
    "    # The sentence needs to be tokenized\n",
    "    def sent2seq( self, sent, max_len = None , tokenize = True):\n",
    "        if tokenize:\n",
    "            sent = self.tokenizer.tokenize(sent)\n",
    "        seq = []\n",
    "        for w in sent.split():\n",
    "            if w in self.word_to_index:\n",
    "                seq.append( self.word2index(w) )\n",
    "        if max_len is not None:\n",
    "            if len(seq) >= max_len:\n",
    "                seq = seq[:max_len -1]\n",
    "                seq.append( self.eos_index )\n",
    "            else:\n",
    "                seq.append( self.eos_index )\n",
    "                seq += [ self.pad_index ] * ( max_len - len(seq) )\n",
    "        return seq\n",
    "    def seq2sent( self, seq ):\n",
    "        sent = []\n",
    "        for i in seq:\n",
    "            if i == self.eos_index or i == self.pad_index:\n",
    "                break\n",
    "            sent.append( self.index2word(i) )\n",
    "        return \" \".join(sent)\n",
    "\n",
    "class ExtractionDataset(Dataset):\n",
    "    def __init__( self,  corpus, vocab , max_seq_len , max_doc_len  ):\n",
    "        self.vocab = vocab\n",
    "        self.max_seq_len = max_seq_len\n",
    "        self.max_doc_len = max_doc_len\n",
    "        ## corpus is a list\n",
    "        self.corpus = corpus\n",
    "\n",
    "    def __len__(self):\n",
    "        return len(self.corpus)\n",
    "\n",
    "    def __getitem__( self, idx ):\n",
    "\n",
    "        doc_data = self.corpus[idx]\n",
    "        sentences = doc_data[\"text\"]\n",
    "        valid_sen_idxs = deepcopy( doc_data[\"indices\"] )\n",
    "\n",
    "        sentences = sentences[:self.max_doc_len]\n",
    "        num_sentences_in_doc = len( sentences )\n",
    "\n",
    "        np.random.shuffle( valid_sen_idxs )\n",
    "        valid_sen_idxs = np.array( valid_sen_idxs )\n",
    "        valid_sen_idxs = valid_sen_idxs[ valid_sen_idxs < num_sentences_in_doc ]\n",
    "        valid_sen_idxs = valid_sen_idxs[:self.max_doc_len]\n",
    "\n",
    "        stop_loss_mask = np.zeros( self.max_doc_len ).astype(np.float32)\n",
    "        stop_loss_mask[:len(valid_sen_idxs) + 1] = 1.0\n",
    "\n",
    "        valid_sen_idxs = np.array(valid_sen_idxs.tolist() + [-1] * ( self.max_doc_len - len(valid_sen_idxs)))\n",
    "\n",
    "        sentences += [\"\"] * ( self.max_doc_len - num_sentences_in_doc )\n",
    "        doc_mask = np.array(  [ True if sen.strip() == \"\" else False for sen in  sentences   ]  )\n",
    "\n",
    "        seqs = [  self.vocab.sent2seq( sen, self.max_seq_len ) for sen in sentences ]\n",
    "        seqs = np.asarray( seqs )\n",
    "\n",
    "        return seqs, valid_sen_idxs, doc_mask, stop_loss_mask\n",
    "\n",
    "def tokenize_sent(sent):\n",
    "    return \" \".join( word_tok.tokenize( sent ) )\n",
    "\n",
    "\n",
    "def load_dataset_for_inference( doc_info_path, dataframe_path ):\n",
    "    doc_info = pickle.load(open(doc_info_path, \"rb\"))\n",
    "    paper_dict = {}\n",
    "    for count, pmcid in enumerate(doc_info):\n",
    "        paper = doc_info[pmcid]\n",
    "        paper_info = []\n",
    "        for _, page in paper[\"pages\"].items():\n",
    "            for obj_id in page.get(\"ordered_id\", []):\n",
    "                paper_info.append( {\n",
    "                    \"global_id\":page[\"objects\"][obj_id][\"global_id\"],\n",
    "                    \"text\":page[\"objects\"][obj_id].get(\"text\", \"\").replace(\"\\n\", \" \")\n",
    "                } )\n",
    "        paper_dict[pmcid] = paper_info\n",
    "\n",
    "    query_data = pd.read_csv(dataframe_path)\n",
    "    if \"global_id\" in query_data:\n",
    "        query_data[\"global_id\"] = query_data[\"global_id\"].apply(ast.literal_eval)\n",
    "\n",
    "    corpus = []\n",
    "    for pos in range(len( query_data )):\n",
    "        question = query_data[\"question\"][pos]\n",
    "        question_type = query_data[\"question_type\"][pos]\n",
    "        pmcid = str(query_data[\"pmcid\"][pos])\n",
    "        if \"global_id\" in query_data:\n",
    "            answer_global_ids = set(query_data[\"global_id\"][pos])\n",
    "        else:\n",
    "            answer_global_ids = None\n",
    "\n",
    "        corpus.append( {\n",
    "            \"question\":question,\n",
    "            \"question_type\":question_type,\n",
    "            \"pmcid\":pmcid,\n",
    "            \"answer_global_ids\":answer_global_ids\n",
    "        } )\n",
    "\n",
    "    return corpus, paper_dict\n",
    "\n",
    "def load_corpus( doc_info_path, dataframe_path  ):\n",
    "\n",
    "    doc_info = pickle.load(open(doc_info_path, \"rb\"))\n",
    "    query_data = pd.read_csv(dataframe_path)\n",
    "    query_data[\"global_id\"] = query_data[\"global_id\"].apply(ast.literal_eval)\n",
    "\n",
    "    paper_dict = {}\n",
    "    for count, pmcid in enumerate(doc_info):\n",
    "        paper = doc_info[pmcid]\n",
    "        paper_info = []\n",
    "        for _, page in paper[\"pages\"].items():\n",
    "            for obj_id in page.get(\"ordered_id\", []):\n",
    "                paper_info.append( {\n",
    "                    \"global_id\":page[\"objects\"][obj_id][\"global_id\"],\n",
    "                    \"text\":page[\"objects\"][obj_id].get(\"text\", \"\").replace(\"\\n\", \" \")\n",
    "                } )\n",
    "        paper_dict[pmcid] = paper_info\n",
    "\n",
    "    corpus = []\n",
    "    for pos in range(len( query_data )):\n",
    "        question = query_data[\"question\"][pos]\n",
    "        question_type = query_data[\"question_type\"][pos]\n",
    "        pmcid = str(query_data[\"pmcid\"][pos])\n",
    "        answer_global_ids = set(query_data[\"global_id\"][pos])\n",
    "\n",
    "        # valid_indices = []\n",
    "        # sentence_list = [ question_type.replace(\"_\", \" \") + \" : \" + question ]\n",
    "        # for text_block in paper_dict[pmcid]:\n",
    "        #     if text_block[\"global_id\"] in answer_global_ids:\n",
    "        #         valid_indices.append( len( sentence_list ) )\n",
    "        #     sentence_list.append( text_block[\"text\"] )\n",
    "\n",
    "        valid_indices = []\n",
    "        sentence_list = [] #[ question + \" : \" + question_type.replace(\"_\", \" \") ]\n",
    "        for text_block in paper_dict[pmcid]:\n",
    "            if text_block[\"global_id\"] in answer_global_ids:\n",
    "                valid_indices.append( len( sentence_list ) )\n",
    "            sentence_list.append(  question + \" \" + question_type.replace(\"_\", \" \") + \" \" + text_block[\"text\"] )\n",
    "\n",
    "        data_example = {\n",
    "            \"text\":[ tokenize_sent(sen) for sen in sentence_list],\n",
    "            \"indices\":valid_indices\n",
    "        }\n",
    "\n",
    "        corpus.append( data_example )\n",
    "    return corpus"
   ]
  },
  {
   "cell_type": "markdown",
   "id": "bc9db9e1-df98-4d6b-b5fa-78e8ca6ff95a",
   "metadata": {
    "id": "bc9db9e1-df98-4d6b-b5fa-78e8ca6ff95a"
   },
   "source": [
    "## Model"
   ]
  },
  {
   "cell_type": "code",
   "execution_count": 7,
   "id": "e485c2e8-fb39-4e99-bb7d-b446d1a95628",
   "metadata": {
    "id": "e485c2e8-fb39-4e99-bb7d-b446d1a95628",
    "tags": []
   },
   "outputs": [],
   "source": [
    "import torch\n",
    "import torch.nn as nn\n",
    "import torch.nn.functional as F\n",
    "import math\n",
    "import numpy as np\n",
    "from torch.distributions import Categorical\n",
    "\n",
    "class AddMask( nn.Module ):\n",
    "    def __init__( self, pad_index ):\n",
    "        super().__init__()\n",
    "        self.pad_index = pad_index\n",
    "    def forward( self, x):\n",
    "        # here x is a batch of input sequences (not embeddings) with the shape of [ batch_size, seq_len]\n",
    "        mask = x == self.pad_index\n",
    "        return mask\n",
    "\n",
    "class PositionalEncoding( nn.Module ):\n",
    "    def __init__(self,  embed_dim, max_seq_len = 512  ):\n",
    "        super().__init__()\n",
    "        self.embed_dim = embed_dim\n",
    "        self.max_seq_len = max_seq_len\n",
    "        pe = torch.zeros( 1, max_seq_len,  embed_dim )\n",
    "        for pos in range( max_seq_len ):\n",
    "            for i in range( 0, embed_dim, 2 ):\n",
    "                pe[ 0, pos, i ] = math.sin( pos / ( 10000 ** ( i/embed_dim ) )  )\n",
    "                if i+1 < embed_dim:\n",
    "                    pe[ 0, pos, i+1 ] = math.cos( pos / ( 10000** ( i/embed_dim ) ) )\n",
    "        self.register_buffer( \"pe\", pe )\n",
    "        ## register_buffer can register some variables that can be saved and loaded by state_dict, but not trainable since not accessible by model.parameters()\n",
    "    def forward( self, x ):\n",
    "        return x + self.pe[ :, : x.size(1), :]\n",
    "\n",
    "class MultiHeadAttention( nn.Module ):\n",
    "    def __init__(self, embed_dim, num_heads ):\n",
    "        super().__init__()\n",
    "        dim_per_head = int( embed_dim/num_heads )\n",
    "\n",
    "        self.ln_q = nn.Linear( embed_dim, num_heads * dim_per_head )\n",
    "        self.ln_k = nn.Linear( embed_dim, num_heads * dim_per_head )\n",
    "        self.ln_v = nn.Linear( embed_dim, num_heads * dim_per_head )\n",
    "\n",
    "        self.ln_out = nn.Linear( num_heads * dim_per_head, embed_dim )\n",
    "\n",
    "        self.num_heads = num_heads\n",
    "        self.dim_per_head = dim_per_head\n",
    "\n",
    "    def forward( self, q,k,v, mask = None):\n",
    "        q = self.ln_q( q )\n",
    "        k = self.ln_k( k )\n",
    "        v = self.ln_v( v )\n",
    "\n",
    "        q = q.view( q.size(0), q.size(1),  self.num_heads, self.dim_per_head  ).transpose( 1,2 )\n",
    "        k = k.view( k.size(0), k.size(1),  self.num_heads, self.dim_per_head  ).transpose( 1,2 )\n",
    "        v = v.view( v.size(0), v.size(1),  self.num_heads, self.dim_per_head  ).transpose( 1,2 )\n",
    "\n",
    "        a = self.scaled_dot_product_attention( q,k, mask )\n",
    "        new_v = a.matmul(v)\n",
    "        new_v = new_v.transpose( 1,2 ).contiguous()\n",
    "        new_v = new_v.view( new_v.size(0), new_v.size(1), -1 )\n",
    "        new_v = self.ln_out(new_v)\n",
    "        return new_v\n",
    "\n",
    "    def scaled_dot_product_attention( self, q, k, mask = None ):\n",
    "        ## note the here q and k have converted into multi-head mode\n",
    "        ## q's shape is [ Batchsize, num_heads, seq_len_q, dim_per_head ]\n",
    "        ## k's shape is [ Batchsize, num_heads, seq_len_k, dim_per_head ]\n",
    "        # scaled dot product\n",
    "        a = q.matmul( k.transpose( 2,3 ) )/ math.sqrt( q.size(-1) )\n",
    "        # apply mask (either padding mask or seqeunce mask)\n",
    "        if mask is not None:\n",
    "            a = a.masked_fill( mask.unsqueeze(1).unsqueeze(1) , -1e9 )\n",
    "        # apply softmax, to get the likelihood as attention matrix\n",
    "        a = F.softmax( a, dim=-1 )\n",
    "        return a\n",
    "\n",
    "class FeedForward( nn.Module ):\n",
    "    def __init__( self, embed_dim, hidden_dim ):\n",
    "        super().__init__()\n",
    "        self.ln1 = nn.Linear( embed_dim, hidden_dim )\n",
    "        self.ln2 = nn.Linear( hidden_dim, embed_dim )\n",
    "    def forward(  self, x):\n",
    "        net = F.relu(self.ln1(x))\n",
    "        out = self.ln2(net)\n",
    "        return out\n",
    "\n",
    "class TransformerDecoderLayer( nn.Module ):\n",
    "    def __init__(self, embed_dim, num_heads, hidden_dim ):\n",
    "        super().__init__()\n",
    "        self.masked_mha = MultiHeadAttention(  embed_dim, num_heads )\n",
    "        self.norm1 = nn.LayerNorm( embed_dim )\n",
    "        self.mha = MultiHeadAttention( embed_dim, num_heads )\n",
    "        self.norm2 = nn.LayerNorm( embed_dim )\n",
    "        self.feed_forward = FeedForward( embed_dim, hidden_dim )\n",
    "        self.norm3 = nn.LayerNorm( embed_dim )\n",
    "    def forward(self, encoder_output, x, src_mask, trg_mask , dropout_rate = 0. ):\n",
    "        short_cut = x\n",
    "        net = F.dropout(self.masked_mha( x,x,x, trg_mask ), p = dropout_rate)\n",
    "        net = self.norm1( short_cut + net )\n",
    "        short_cut = net\n",
    "        net = F.dropout(self.mha( net, encoder_output, encoder_output, src_mask ), p = dropout_rate)\n",
    "        net = self.norm2( short_cut + net )\n",
    "        short_cut = net\n",
    "        net = F.dropout(self.feed_forward( net ), p = dropout_rate)\n",
    "        net = self.norm3( short_cut + net )\n",
    "        return net\n",
    "\n",
    "class MultiHeadPoolingLayer( nn.Module ):\n",
    "    def __init__( self, embed_dim, num_heads  ):\n",
    "        super().__init__()\n",
    "        self.num_heads = num_heads\n",
    "        self.dim_per_head = int( embed_dim/num_heads )\n",
    "        self.ln_attention_score = nn.Linear( embed_dim, num_heads )\n",
    "        self.ln_value = nn.Linear( embed_dim,  num_heads * self.dim_per_head )\n",
    "        self.ln_out = nn.Linear( num_heads * self.dim_per_head , embed_dim )\n",
    "    def forward(self, input_embedding , mask=None):\n",
    "        a = self.ln_attention_score( input_embedding )\n",
    "        v = self.ln_value( input_embedding )\n",
    "\n",
    "        a = a.view( a.size(0), a.size(1), self.num_heads, 1 ).transpose(1,2)\n",
    "        v = v.view( v.size(0), v.size(1),  self.num_heads, self.dim_per_head  ).transpose(1,2)\n",
    "        a = a.transpose(2,3)\n",
    "        if mask is not None:\n",
    "            a = a.masked_fill( mask.unsqueeze(1).unsqueeze(1) , -1e9 )\n",
    "        a = F.softmax(a , dim = -1 )\n",
    "\n",
    "        new_v = a.matmul(v)\n",
    "        new_v = new_v.transpose( 1,2 ).contiguous()\n",
    "        new_v = new_v.view( new_v.size(0), new_v.size(1) ,-1 ).squeeze(1)\n",
    "        new_v = self.ln_out( new_v )\n",
    "        return new_v\n",
    "\n",
    "class LocalSentenceEncoder( nn.Module ):\n",
    "    def __init__( self, vocab_size, pad_index, embed_dim, num_heads , hidden_dim, pretrained_word_embedding ):\n",
    "        super().__init__()\n",
    "        self.addmask = AddMask( pad_index )\n",
    "\n",
    "        self.rnn = nn.LSTM(  embed_dim, embed_dim, 2, batch_first = True, bidirectional = True)\n",
    "        self.mh_pool = MultiHeadPoolingLayer( 2*embed_dim, num_heads )\n",
    "        self.norm_out = nn.LayerNorm( 2*embed_dim )\n",
    "        self.ln_out = nn.Linear( 2*embed_dim, embed_dim )\n",
    "\n",
    "        if pretrained_word_embedding is not None:\n",
    "            ## make sure the pad embedding is 0\n",
    "            pretrained_word_embedding[pad_index] = 0\n",
    "            self.register_buffer( \"word_embedding\", torch.from_numpy( pretrained_word_embedding ) )\n",
    "        else:\n",
    "            self.register_buffer( \"word_embedding\", torch.randn( vocab_size, embed_dim ) )\n",
    "\n",
    "    \"\"\"\n",
    "    input_seq 's shape:  batch_size x seq_len\n",
    "    \"\"\"\n",
    "    def forward( self, input_seq, dropout_rate = 0. ):\n",
    "        mask = self.addmask( input_seq )\n",
    "        ## batch_size x seq_len x embed_dim\n",
    "        net = self.word_embedding[ input_seq ]\n",
    "        net, _ = self.rnn( net )\n",
    "        net =  self.ln_out(F.relu(self.norm_out(self.mh_pool( net, mask ))))\n",
    "        return net\n",
    "\n",
    "class GlobalContextEncoder(nn.Module):\n",
    "    def __init__(self, embed_dim,  num_heads, hidden_dim ):\n",
    "        super().__init__()\n",
    "        self.rnn = nn.LSTM(  embed_dim, embed_dim, 2, batch_first = True, bidirectional = True)\n",
    "        self.norm_out = nn.LayerNorm( 2*embed_dim )\n",
    "        self.ln_out = nn.Linear( 2*embed_dim, embed_dim )\n",
    "\n",
    "    def forward(self, sen_embed, doc_mask, dropout_rate = 0.):\n",
    "        net, _ = self.rnn( sen_embed )\n",
    "        net = self.ln_out(F.relu( self.norm_out(net) ) )\n",
    "        return net\n",
    "\n",
    "class ExtractionContextDecoder( nn.Module ):\n",
    "    def __init__( self, embed_dim,  num_heads, hidden_dim, num_dec_layers ):\n",
    "        super().__init__()\n",
    "        self.pos_encode = PositionalEncoding( embed_dim)\n",
    "        self.layer_list = nn.ModuleList( [  TransformerDecoderLayer( embed_dim, num_heads, hidden_dim ) for _ in range(num_dec_layers) ] )\n",
    "    ## remaining_mask: set all unextracted sen indices as True\n",
    "    ## extraction_mask: set all extracted sen indices as True\n",
    "    def forward( self, sen_embed, remaining_mask, extraction_mask, dropout_rate = 0. ):\n",
    "        # sen_embed = self.pos_encode( sen_embed )\n",
    "\n",
    "        net = sen_embed\n",
    "        for layer in self.layer_list:\n",
    "            #  encoder_output, x,  src_mask, trg_mask , dropout_rate = 0.\n",
    "            net = layer( sen_embed, net, remaining_mask, extraction_mask, dropout_rate )\n",
    "        return net\n",
    "\n",
    "class Extractor( nn.Module ):\n",
    "    def __init__( self, embed_dim, num_heads ):\n",
    "        super().__init__()\n",
    "        self.norm_input = nn.LayerNorm( 3*embed_dim  )\n",
    "\n",
    "        self.ln_hidden1 = nn.Linear(  3*embed_dim, 2*embed_dim  )\n",
    "        self.norm_hidden1 = nn.LayerNorm( 2*embed_dim  )\n",
    "\n",
    "        self.ln_hidden2 = nn.Linear(  2*embed_dim, embed_dim  )\n",
    "        self.norm_hidden2 = nn.LayerNorm( embed_dim  )\n",
    "\n",
    "        self.ln_out = nn.Linear(  embed_dim, 1 )\n",
    "\n",
    "        self.mh_pool = MultiHeadPoolingLayer( embed_dim, num_heads )\n",
    "        self.norm_pool = nn.LayerNorm( embed_dim  )\n",
    "        self.ln_stop = nn.Linear(  embed_dim, 1 )\n",
    "\n",
    "    def forward( self, sen_embed, relevance_embed, redundancy_embed , extraction_mask, dropout_rate = 0. ):\n",
    "        if redundancy_embed is None:\n",
    "            redundancy_embed = torch.zeros_like( sen_embed )\n",
    "        net = self.norm_input( F.dropout( torch.cat( [ sen_embed, relevance_embed, redundancy_embed ], dim = 2 ) , p = dropout_rate  )  )\n",
    "        net = F.relu( self.norm_hidden1( F.dropout( self.ln_hidden1( net ) , p = dropout_rate  )   ))\n",
    "        hidden_net = F.relu( self.norm_hidden2( F.dropout( self.ln_hidden2( net)  , p = dropout_rate  )  ))\n",
    "\n",
    "        sen_logits = self.ln_out( hidden_net ).squeeze(2)\n",
    "\n",
    "        net = F.relu( self.norm_pool(  F.dropout( self.mh_pool( hidden_net, extraction_mask) , p = dropout_rate  )  ))\n",
    "        stop_logits = self.ln_stop( net ).squeeze(1)\n",
    "\n",
    "        return sen_logits, stop_logits\n",
    "\n",
    "class MemSumPDFVQA:\n",
    "    def __init__( self, model_path, vocabulary_path, gpu = None , embed_dim=200, num_heads=8, hidden_dim = 1024, num_ehe_layers = 3,  max_seq_len =200, max_doc_len = 200  ):\n",
    "        with open( vocabulary_path , \"rb\" ) as f:\n",
    "            words = pickle.load(f)\n",
    "        self.vocab = Vocab( words )\n",
    "        vocab_size = len(words)\n",
    "        self.local_sentence_encoder = LocalSentenceEncoder( vocab_size, self.vocab.pad_index, embed_dim,num_heads,hidden_dim,None )\n",
    "        self.global_context_encoder = GlobalContextEncoder( embed_dim, num_heads, hidden_dim )\n",
    "        self.extraction_context_decoder = ExtractionContextDecoder( embed_dim, num_heads, hidden_dim, num_ehe_layers )\n",
    "        self.extractor = Extractor( embed_dim, num_heads )\n",
    "        ckpt = torch.load( model_path, map_location = \"cpu\" )\n",
    "        self.local_sentence_encoder.load_state_dict( ckpt[\"local_sentence_encoder\"] )\n",
    "        self.global_context_encoder.load_state_dict( ckpt[\"global_context_encoder\"] )\n",
    "        self.extraction_context_decoder.load_state_dict( ckpt[\"extraction_context_decoder\"] )\n",
    "        self.extractor.load_state_dict(ckpt[\"extractor\"])\n",
    "\n",
    "        self.device =  torch.device( \"cuda:%d\"%(gpu) if gpu is not None and torch.cuda.is_available() else \"cpu\"  )\n",
    "        self.local_sentence_encoder.to(self.device)\n",
    "        self.global_context_encoder.to(self.device)\n",
    "        self.extraction_context_decoder.to(self.device)\n",
    "        self.extractor.to(self.device)\n",
    "\n",
    "        self.sentence_tokenizer = SentenceTokenizer()\n",
    "        self.max_seq_len = max_seq_len\n",
    "        self.max_doc_len = max_doc_len\n",
    "\n",
    "        self.word_tok = RegexpTokenizer(r\"\\w+\")\n",
    "\n",
    "    def tokenize_sent(self, sent):\n",
    "        return \" \".join( self.word_tok.tokenize( sent ) )\n",
    "\n",
    "\n",
    "    def inference( self, question, question_type, doc_content, p_stop_thres = 0.2, max_extracted_sentences_per_document = 4 ):\n",
    "        \"\"\"doc_content is a list of { \"global_id\":global_id, \"text\":text }\"\"\"\n",
    "\n",
    "        ## convert to sequence\n",
    "        seqs = []\n",
    "        doc_mask = []\n",
    "\n",
    "        document = []\n",
    "        for text_block in doc_content:\n",
    "            document.append( self.tokenize_sent( question + \" \" + question_type.replace(\"_\", \" \") + \" \" + text_block[\"text\"] ) )\n",
    "        document = document[:self.max_doc_len]\n",
    "        document = document + [\"\"] * ( self.max_doc_len -  len(document) )\n",
    "\n",
    "        doc_mask.append(  [ 1 if sen.strip() == \"\" else 0 for sen in  document   ] )\n",
    "        document_sequences = []\n",
    "        for sen in document:\n",
    "            seq = self.vocab.sent2seq( sen, self.max_seq_len )\n",
    "            document_sequences.append(seq)\n",
    "        seqs.append(document_sequences)\n",
    "        seqs = np.asarray(seqs)\n",
    "        doc_mask = np.asarray(doc_mask) == 1\n",
    "        seqs = torch.from_numpy(seqs).to(self.device)\n",
    "        doc_mask = torch.from_numpy(doc_mask).to(self.device)\n",
    "\n",
    "        num_documents = seqs.size(0)\n",
    "        with torch.no_grad():\n",
    "            num_sentences = seqs.size(1)\n",
    "            sen_embed  = self.local_sentence_encoder( seqs.view(-1, seqs.size(2) )  )\n",
    "            sen_embed = sen_embed.view( -1, num_sentences, sen_embed.size(1) )\n",
    "            relevance_embed = self.global_context_encoder( sen_embed, doc_mask  )\n",
    "\n",
    "            num_documents = seqs.size(0)\n",
    "            doc_mask = doc_mask.detach().cpu().numpy()\n",
    "            seqs = seqs.detach().cpu().numpy()\n",
    "\n",
    "            extracted_sentences_positions = []\n",
    "\n",
    "            for doc_i in range(num_documents):\n",
    "                current_doc_mask = doc_mask[doc_i:doc_i+1]\n",
    "                current_remaining_mask_np = np.ones_like(current_doc_mask ).astype(bool) | current_doc_mask\n",
    "                current_extraction_mask_np = np.zeros_like(current_doc_mask).astype(bool) | current_doc_mask\n",
    "\n",
    "                current_sen_embed = sen_embed[doc_i:doc_i+1]\n",
    "                current_relevance_embed = relevance_embed[ doc_i:doc_i+1 ]\n",
    "                current_redundancy_embed = None\n",
    "\n",
    "                current_hyps = []\n",
    "\n",
    "                for step in range( max_extracted_sentences_per_document+1 ) :\n",
    "                    current_extraction_mask = torch.from_numpy( current_extraction_mask_np ).to(self.device)\n",
    "                    current_remaining_mask = torch.from_numpy( current_remaining_mask_np ).to(self.device)\n",
    "                    if step > 0:\n",
    "                        current_redundancy_embed = self.extraction_context_decoder( current_sen_embed, current_remaining_mask, current_extraction_mask  )\n",
    "                    sen_logits, stop_logits = self.extractor( current_sen_embed, current_relevance_embed, current_redundancy_embed , current_extraction_mask  )\n",
    "                    sen_logits = sen_logits.masked_fill( current_extraction_mask, -1e9 )\n",
    "                    p_stop = stop_logits.sigmoid()\n",
    "\n",
    "                    stop = p_stop.item() > p_stop_thres\n",
    "                    sen_i = sen_logits.argmax(dim=1)[0].item()\n",
    "\n",
    "                    if stop or step == max_extracted_sentences_per_document or sen_i >= len(doc_content):\n",
    "                        extracted_sentences_positions.append( current_hyps )\n",
    "                        break\n",
    "                    else:\n",
    "                        current_hyps.append(sen_i)\n",
    "                        current_extraction_mask_np[0, sen_i] = True\n",
    "                        current_remaining_mask_np[0, sen_i] = False\n",
    "\n",
    "            pred_indices = extracted_sentences_positions[0]\n",
    "            if len(pred_indices) == 0:\n",
    "                return [ -1 ]\n",
    "            else:\n",
    "                return [ doc_content[idx][\"global_id\"] for idx in pred_indices ]"
   ]
  },
  {
   "cell_type": "markdown",
   "id": "829f7af1-cdd8-4fab-87e1-6d511858ff07",
   "metadata": {
    "id": "829f7af1-cdd8-4fab-87e1-6d511858ff07"
   },
   "source": [
    "# Training"
   ]
  },
  {
   "cell_type": "markdown",
   "id": "28151f4e-7412-4d43-a069-3c20f1e30139",
   "metadata": {
    "id": "28151f4e-7412-4d43-a069-3c20f1e30139"
   },
   "source": [
    "## Training Preparation"
   ]
  },
  {
   "cell_type": "code",
   "execution_count": 8,
   "id": "25e26fcb-d0df-4e72-877f-f23759d6dcde",
   "metadata": {
    "colab": {
     "base_uri": "https://localhost:8080/",
     "height": 177,
     "referenced_widgets": [
      "cfdbed5b62474df3848702758e1ecf56",
      "95c5c894b75242a8a07abaede3e831dd",
      "a64a7391274b4aa484b89c88399f86ed",
      "90a43222c3704f649505ecc0a3697830",
      "0ec8359579cf454eb8418b623081b77c",
      "526202591f4f48ccbe2ef8c535459688",
      "2afb7ba9c28c4df68a9ca2d317ddf627",
      "c86b84613cd44cdebba77e6d10f0297e",
      "5db19cbda4cb41a7bbc96590e83b9181",
      "61e3f3b235a54e4eaa966a3366d21dd0",
      "cc3da3c7b0f04a368f987fe5cb4c2e81",
      "4fbb67cad6214f5c9c13166bc8770955",
      "d957ccb2c1e14065ac7a5e3a553b7cf8",
      "63d8ef7901044146b6bee38efaf95512",
      "28526b79c63f4c16a0898af880d8ec23",
      "f0a5b24e6cfc4e0c90e60eb6278856d9",
      "984a08c6e90545ceb77f6328fb30e890",
      "eee51e1031ca42b098e2e9621ede15d9",
      "23029918f7b94963af98e1b8ba8f63af",
      "38cfc669b59047a0b70a575798cb53e1",
      "682447066f5a4646a22bbc60509a80c9",
      "d28d30e3fdef4c4d90677181d83e8285",
      "a7595652edef4cd2b646db7092da7839",
      "4c1ab550bd614800ae988c6524b62c05",
      "36114c23f39f42769518f56a2344767c",
      "303f53ba924b4eff9388504130c640f6",
      "26f48747186d43d7a151195403825066",
      "207aeac09db54c65b20efacf063ec460",
      "af06775a93c64bb8a9afdcaa5662f874",
      "541d8585ca3a4c389143e16a309955e1",
      "05ad848d6281427fab530f3a101b4f42",
      "e9d2115751394f2aaabbda37a86a034c",
      "72ed39f7f7fd4f55bf34b731eda11f9a",
      "232f3f8add6f47f49c89179bc8c7c56b",
      "fd8c9eabfe8043b981a9de76ef65ab34",
      "eadb3bd69e9a4348adfad594e2d6f8bf",
      "cba9608376b24d65a66df315e5ab9986",
      "7a5ac2f2ca824a099120c89fd5a86a3e",
      "d69816d736f84a8ba4ab8deedad300a7",
      "e586c60390c84bbc84b0e3a5720da134",
      "3014475b5fd34b63aab8acf4652885a1",
      "502614b7d9954c2da711e1bf5ec9836a",
      "c74def50c1d74adaab2b8d0f92f51f8b",
      "9afd4ba62b2147caa2e003cb1fe97c62",
      "58099c4bef5b4be7984e42c443109ac6",
      "5e7411c4c14c43b58ba3e6e8a9a3f5ec",
      "6d4daeff7ca64840990e9011d7cf2174",
      "3330dc8ced0f4535a3f57c69bc7390a0",
      "e33b4b027b414d3aa2dc1a0fced4d24b",
      "28739bac4e9749fe9431e2dcd04ca1a9",
      "9a5ddcd9ab8249cdb7755eb05c6df151",
      "6686869d827940aa82a4398a0da8f3d2",
      "7ad6bc0bde93424daa66e3a2a27bdd0b",
      "2079af9844a5427f958c2c7d724ee696",
      "c2abb75bbb984e99a69bf9e2a49f8df0"
     ]
    },
    "id": "25e26fcb-d0df-4e72-877f-f23759d6dcde",
    "outputId": "7c31d317-6615-42c8-8d17-b6ab9e81473d",
    "tags": []
   },
   "outputs": [
    {
     "name": "stderr",
     "output_type": "stream",
     "text": [
      "/home/scieditor/anaconda3/envs/pdf_vqa/lib/python3.10/site-packages/tqdm/auto.py:21: TqdmWarning: IProgress not found. Please update jupyter and ipywidgets. See https://ipywidgets.readthedocs.io/en/stable/user_install.html\n",
      "  from .autonotebook import tqdm as notebook_tqdm\n",
      "Fetching 4 files: 100%|█████████████████████████████████████████████████| 4/4 [00:00<00:00,  9.24it/s]\n"
     ]
    }
   ],
   "source": [
    "import os\n",
    "import pickle\n",
    "from tqdm import tqdm\n",
    "import time\n",
    "import os, sys\n",
    "import copy\n",
    "import re\n",
    "from huggingface_hub import snapshot_download\n",
    "from transformers import set_seed\n",
    "## download the pretrained glove word embedding (200 dimension)\n",
    "snapshot_download('nianlong/memsum-word-embedding', local_dir = \"model/word_embedding\" )\n",
    "\n",
    "def update_moving_average( m_ema, m, decay ):\n",
    "    with torch.no_grad():\n",
    "        param_dict_m_ema =  m_ema.module.parameters()  if isinstance(  m_ema, nn.DataParallel ) else m_ema.parameters() \n",
    "        param_dict_m =  m.module.parameters()  if isinstance( m , nn.DataParallel ) else  m.parameters() \n",
    "        for param_m_ema, param_m in zip( param_dict_m_ema, param_dict_m ):\n",
    "            param_m_ema.copy_( decay * param_m_ema + (1-decay) *  param_m )\n",
    "            \n",
    "\n",
    "def LOG( info, log_out_file, end=\"\\n\" ):\n",
    "    with open( log_out_file, \"a\" ) as f:\n",
    "        f.write( info + end )\n",
    "\n",
    "def train_iteration(batch):\n",
    "    seqs, valid_sen_idxs, doc_mask, stop_loss_mask = [_.to(device) for _ in batch]\n",
    "    num_documents = seqs.size(0)\n",
    "    num_sentences = seqs.size(1)\n",
    "\n",
    "    local_sen_embed = local_sentence_encoder( seqs.view(-1, seqs.size(2) ), dropout_rate )\n",
    "    local_sen_embed = local_sen_embed.view( -1, num_sentences, local_sen_embed.size(1) )\n",
    "    global_context_embed = global_context_encoder( local_sen_embed, doc_mask , dropout_rate )\n",
    "\n",
    "    doc_mask_np = doc_mask.detach().cpu().numpy()\n",
    "    remaining_mask_np = np.ones_like( doc_mask_np ).astype( bool ) | doc_mask_np\n",
    "    extraction_mask_np = np.zeros_like( doc_mask_np ).astype( bool ) | doc_mask_np\n",
    "\n",
    "    sen_logits_list = []\n",
    "    sen_indices_list = []\n",
    "    stop_logits_list = []\n",
    "    stop_loss_mask_list = []\n",
    "\n",
    "    extraction_context_embed = None\n",
    "    for step in range( min(valid_sen_idxs.shape[1], max_extracted_sentences_per_document ) ):\n",
    "        remaining_mask = torch.from_numpy( remaining_mask_np ).to(device)\n",
    "        extraction_mask = torch.from_numpy( extraction_mask_np ).to(device)\n",
    "        if step > 0:\n",
    "            extraction_context_embed = extraction_context_decoder( local_sen_embed, remaining_mask, extraction_mask, dropout_rate )\n",
    "        sen_logits, stop_logits = extractor( local_sen_embed, global_context_embed, extraction_context_embed, extraction_mask , dropout_rate )\n",
    "        sen_logits = sen_logits.masked_fill( extraction_mask, -1e9 )\n",
    "        sen_indices = valid_sen_idxs[:, step]\n",
    "\n",
    "        sen_logits_list.append( sen_logits.unsqueeze(1) )\n",
    "        sen_indices_list.append( sen_indices.unsqueeze(1) )\n",
    "        stop_logits_list.append( stop_logits.unsqueeze(1) )\n",
    "        stop_loss_mask_list.append( stop_loss_mask[:, step:step+1] )\n",
    "\n",
    "        for doc_i in range( num_documents ):\n",
    "            sen_i = sen_indices[ doc_i ].item()\n",
    "            if sen_i != -1:\n",
    "                remaining_mask_np[doc_i,sen_i] = False\n",
    "                extraction_mask_np[doc_i,sen_i] = True\n",
    "\n",
    "    sen_logits_list = torch.cat(sen_logits_list, dim = 1 ).view(-1, num_sentences)\n",
    "    sen_indices_list = torch.cat(sen_indices_list, dim = 1 ).view(-1)\n",
    "    stop_logits_list = torch.cat(stop_logits_list, dim = 1 ).view(-1)\n",
    "    stop_loss_mask_list = torch.cat( stop_loss_mask_list, dim = 1 ).view(-1)\n",
    "\n",
    "    ce_loss = ce_loss_criterion( sen_logits_list, sen_indices_list )\n",
    "    ce_loss = ce_loss.sum() / ( (sen_indices_list != -1).sum() + 1e-9  )\n",
    "\n",
    "    stop_loss = bce_loss_criterion( stop_logits_list, (sen_indices_list == -1).to(torch.float32)  )\n",
    "    stop_loss = (stop_loss*stop_loss_mask_list).sum() / ( stop_loss_mask_list.sum() + 1e-9  )\n",
    "\n",
    "    loss = ce_loss + stop_loss\n",
    "\n",
    "    optimizer.zero_grad()\n",
    "    loss.backward()\n",
    "    optimizer.step()\n",
    "\n",
    "    return loss.item()\n",
    "\n",
    "def calculate_exact_match_ratio(true_labels, predicted_labels):\n",
    "    exact_match = 0\n",
    "    for i in range(len(true_labels)):\n",
    "        if true_labels[i] == predicted_labels[i]:\n",
    "            exact_match += 1\n",
    "    return exact_match / len(true_labels)\n",
    "\n",
    "@torch.no_grad()\n",
    "def validate(debug = False):\n",
    "    predicted_indices = []\n",
    "    label_indices = []\n",
    "\n",
    "    predicted_sentences = []\n",
    "    label_sentences = []\n",
    "\n",
    "    for batch in val_data_loader:\n",
    "        seqs, valid_sen_idxs, doc_mask, stop_loss_mask = [_.to(device) for _ in batch]\n",
    "\n",
    "        num_sentences = seqs.size(1)\n",
    "        local_sen_embed  = local_sentence_encoder_ema( seqs.view(-1, seqs.size(2) )  )\n",
    "        local_sen_embed = local_sen_embed.view( -1, num_sentences, local_sen_embed.size(1) )\n",
    "        global_context_embed = global_context_encoder_ema( local_sen_embed, doc_mask  )\n",
    "\n",
    "        num_documents = seqs.size(0)\n",
    "        doc_mask = doc_mask.detach().cpu().numpy()\n",
    "        remaining_mask_np = np.ones_like( doc_mask ).astype( bool ) | doc_mask\n",
    "        extraction_mask_np = np.zeros_like( doc_mask ).astype( bool ) | doc_mask\n",
    "\n",
    "        done_list = []\n",
    "        extraction_context_embed = None\n",
    "\n",
    "        for step in range(max_extracted_sentences_per_document):\n",
    "            remaining_mask = torch.from_numpy( remaining_mask_np ).to(device)\n",
    "            extraction_mask = torch.from_numpy( extraction_mask_np ).to(device)\n",
    "            if step > 0:\n",
    "                extraction_context_embed = extraction_context_decoder_ema( local_sen_embed, remaining_mask, extraction_mask )\n",
    "            sen_logits, stop_logits = extractor_ema( local_sen_embed, global_context_embed, extraction_context_embed , extraction_mask  )\n",
    "            sen_logits = sen_logits.masked_fill( extraction_mask, -1e9 )\n",
    "            p_stop = stop_logits.sigmoid()\n",
    "            stop_action = p_stop > p_stop_thres\n",
    "\n",
    "            done = stop_action | torch.all(extraction_mask, dim = 1)\n",
    "            if len(done_list) > 0:\n",
    "                done = torch.logical_or(done_list[-1], done)\n",
    "            if torch.all( done ):\n",
    "                break\n",
    "\n",
    "            sen_indices = torch.argmax(sen_logits, dim =1)\n",
    "            done_list.append(done)\n",
    "\n",
    "            for doc_i in range( num_documents ):\n",
    "                if not done[doc_i]:\n",
    "                    sen_i = sen_indices[ doc_i ].item()\n",
    "                    remaining_mask_np[doc_i,sen_i] = False\n",
    "                    extraction_mask_np[doc_i,sen_i] = True\n",
    "\n",
    "        predicted_indices += [ set(np.argwhere( remaining_mask_np[doc_i] == False )[:,0].tolist()) for doc_i in range( remaining_mask_np.shape[0] ) ]\n",
    "        label_indices += [ set(valid_sen_idxs[doc_i][valid_sen_idxs[doc_i]!=-1].detach().cpu().numpy()) for doc_i in range( valid_sen_idxs.size(0) ) ]\n",
    "\n",
    "        predicted_sentences += [ [ vocab.seq2sent( seqs[doc_i][sen_idx].cpu().numpy() ) for sen_idx in np.argwhere( remaining_mask_np[doc_i] == False )[:,0]] for doc_i in range( remaining_mask_np.shape[0] )   ]\n",
    "        label_sentences += [ [ vocab.seq2sent( seqs[doc_i][sen_idx].cpu().numpy() ) for sen_idx in valid_sen_idxs[doc_i][valid_sen_idxs[doc_i]!=-1].detach().cpu().numpy()] for doc_i in range( valid_sen_idxs.size(0) )   ]\n",
    "\n",
    "    score = calculate_exact_match_ratio( label_indices, predicted_indices )\n",
    "    if not debug:\n",
    "        return score\n",
    "    else:\n",
    "        return score, label_indices, predicted_indices, predicted_sentences, label_sentences"
   ]
  },
  {
   "cell_type": "markdown",
   "id": "12ae7225-c953-4dfd-b7ec-74563174b19b",
   "metadata": {
    "id": "12ae7225-c953-4dfd-b7ec-74563174b19b"
   },
   "source": [
    "## Start Training\n",
    "The overall training process takes around **5 hours** using a single P100 GPU (available on Kaggle).\n",
    "\n",
    "On Google Colab with a T4 GPU, it will take longer, roughly **9 hours** (Not recommended since Colab might automatically lose connection)"
   ]
  },
  {
   "cell_type": "code",
   "execution_count": 9,
   "id": "dd8a2ba7-fd26-46a8-bae1-408333273b3d",
   "metadata": {
    "colab": {
     "base_uri": "https://localhost:8080/",
     "height": 524
    },
    "id": "dd8a2ba7-fd26-46a8-bae1-408333273b3d",
    "outputId": "90c659a7-c3a5-4fd7-9372-d6125bbae7ed",
    "tags": []
   },
   "outputs": [
    {
     "name": "stderr",
     "output_type": "stream",
     "text": [
      "99it [00:26,  3.84it/s]"
     ]
    },
    {
     "name": "stdout",
     "output_type": "stream",
     "text": [
      "[current_batch: 00100] loss: 4.110, learning rate: 0.000100\n"
     ]
    },
    {
     "name": "stderr",
     "output_type": "stream",
     "text": [
      "199it [00:52,  3.79it/s]"
     ]
    },
    {
     "name": "stdout",
     "output_type": "stream",
     "text": [
      "[current_batch: 00200] loss: 3.368, learning rate: 0.000100\n",
      "Starting validation ...\n"
     ]
    },
    {
     "name": "stderr",
     "output_type": "stream",
     "text": [
      "200it [00:59,  2.30s/it]"
     ]
    },
    {
     "name": "stdout",
     "output_type": "stream",
     "text": [
      "[current_batch: 00200] val: 0.1343, [best_batch: 00200] best val: 0.1343\n"
     ]
    },
    {
     "name": "stderr",
     "output_type": "stream",
     "text": [
      "299it [01:25,  3.85it/s]"
     ]
    },
    {
     "name": "stdout",
     "output_type": "stream",
     "text": [
      "[current_batch: 00300] loss: 3.119, learning rate: 0.000100\n"
     ]
    },
    {
     "name": "stderr",
     "output_type": "stream",
     "text": [
      "399it [01:51,  3.81it/s]"
     ]
    },
    {
     "name": "stdout",
     "output_type": "stream",
     "text": [
      "[current_batch: 00400] loss: 3.006, learning rate: 0.000100\n",
      "Starting validation ...\n"
     ]
    },
    {
     "name": "stderr",
     "output_type": "stream",
     "text": [
      "400it [01:59,  2.32s/it]"
     ]
    },
    {
     "name": "stdout",
     "output_type": "stream",
     "text": [
      "[current_batch: 00400] val: 0.1583, [best_batch: 00400] best val: 0.1583\n"
     ]
    },
    {
     "name": "stderr",
     "output_type": "stream",
     "text": [
      "492it [02:23,  3.84it/s]"
     ]
    },
    {
     "name": "stdout",
     "output_type": "stream",
     "text": [
      "Starting validation ...\n"
     ]
    },
    {
     "name": "stderr",
     "output_type": "stream",
     "text": [
      "493it [02:30,  3.29it/s]"
     ]
    },
    {
     "name": "stdout",
     "output_type": "stream",
     "text": [
      "[current_batch: 00493] val: 0.2410, [best_batch: 00493] best val: 0.2410\n"
     ]
    },
    {
     "name": "stderr",
     "output_type": "stream",
     "text": [
      "\n",
      "6it [00:01,  3.72it/s]"
     ]
    },
    {
     "name": "stdout",
     "output_type": "stream",
     "text": [
      "[current_batch: 00500] loss: 0.202, learning rate: 0.000100\n"
     ]
    },
    {
     "name": "stderr",
     "output_type": "stream",
     "text": [
      "106it [00:28,  3.81it/s]"
     ]
    },
    {
     "name": "stdout",
     "output_type": "stream",
     "text": [
      "[current_batch: 00600] loss: 2.771, learning rate: 0.000100\n",
      "Starting validation ...\n"
     ]
    },
    {
     "name": "stderr",
     "output_type": "stream",
     "text": [
      "107it [00:35,  2.31s/it]"
     ]
    },
    {
     "name": "stdout",
     "output_type": "stream",
     "text": [
      "[current_batch: 00600] val: 0.2719, [best_batch: 00600] best val: 0.2719\n"
     ]
    },
    {
     "name": "stderr",
     "output_type": "stream",
     "text": [
      "206it [01:01,  3.79it/s]"
     ]
    },
    {
     "name": "stdout",
     "output_type": "stream",
     "text": [
      "[current_batch: 00700] loss: 2.782, learning rate: 0.000100\n"
     ]
    },
    {
     "name": "stderr",
     "output_type": "stream",
     "text": [
      "306it [01:27,  3.80it/s]"
     ]
    },
    {
     "name": "stdout",
     "output_type": "stream",
     "text": [
      "[current_batch: 00800] loss: 2.770, learning rate: 0.000100\n",
      "Starting validation ...\n"
     ]
    },
    {
     "name": "stderr",
     "output_type": "stream",
     "text": [
      "307it [01:35,  2.32s/it]"
     ]
    },
    {
     "name": "stdout",
     "output_type": "stream",
     "text": [
      "[current_batch: 00800] val: 0.2823, [best_batch: 00800] best val: 0.2823\n"
     ]
    },
    {
     "name": "stderr",
     "output_type": "stream",
     "text": [
      "406it [02:01,  3.78it/s]"
     ]
    },
    {
     "name": "stdout",
     "output_type": "stream",
     "text": [
      "[current_batch: 00900] loss: 2.623, learning rate: 0.000100\n"
     ]
    },
    {
     "name": "stderr",
     "output_type": "stream",
     "text": [
      "492it [02:24,  3.77it/s]"
     ]
    },
    {
     "name": "stdout",
     "output_type": "stream",
     "text": [
      "Starting validation ...\n"
     ]
    },
    {
     "name": "stderr",
     "output_type": "stream",
     "text": [
      "493it [02:30,  3.27it/s]"
     ]
    },
    {
     "name": "stdout",
     "output_type": "stream",
     "text": [
      "[current_batch: 00986] val: 0.3029, [best_batch: 00986] best val: 0.3029\n"
     ]
    },
    {
     "name": "stderr",
     "output_type": "stream",
     "text": [
      "\n",
      "13it [00:03,  3.80it/s]"
     ]
    },
    {
     "name": "stdout",
     "output_type": "stream",
     "text": [
      "[current_batch: 01000] loss: 0.357, learning rate: 0.000100\n",
      "Starting validation ...\n"
     ]
    },
    {
     "name": "stderr",
     "output_type": "stream",
     "text": [
      "14it [00:10,  2.20s/it]"
     ]
    },
    {
     "name": "stdout",
     "output_type": "stream",
     "text": [
      "[current_batch: 01000] val: 0.3029, [best_batch: 00986] best val: 0.3029\n"
     ]
    },
    {
     "name": "stderr",
     "output_type": "stream",
     "text": [
      "113it [00:36,  3.78it/s]"
     ]
    },
    {
     "name": "stdout",
     "output_type": "stream",
     "text": [
      "[current_batch: 01100] loss: 2.588, learning rate: 0.000100\n"
     ]
    },
    {
     "name": "stderr",
     "output_type": "stream",
     "text": [
      "213it [01:02,  3.80it/s]"
     ]
    },
    {
     "name": "stdout",
     "output_type": "stream",
     "text": [
      "[current_batch: 01200] loss: 2.608, learning rate: 0.000100\n",
      "Starting validation ...\n"
     ]
    },
    {
     "name": "stderr",
     "output_type": "stream",
     "text": [
      "214it [01:10,  2.32s/it]"
     ]
    },
    {
     "name": "stdout",
     "output_type": "stream",
     "text": [
      "[current_batch: 01200] val: 0.3133, [best_batch: 01200] best val: 0.3133\n"
     ]
    },
    {
     "name": "stderr",
     "output_type": "stream",
     "text": [
      "313it [01:36,  3.81it/s]"
     ]
    },
    {
     "name": "stdout",
     "output_type": "stream",
     "text": [
      "[current_batch: 01300] loss: 2.588, learning rate: 0.000100\n"
     ]
    },
    {
     "name": "stderr",
     "output_type": "stream",
     "text": [
      "413it [02:02,  3.83it/s]"
     ]
    },
    {
     "name": "stdout",
     "output_type": "stream",
     "text": [
      "[current_batch: 01400] loss: 2.533, learning rate: 0.000100\n",
      "Starting validation ...\n"
     ]
    },
    {
     "name": "stderr",
     "output_type": "stream",
     "text": [
      "414it [02:09,  2.32s/it]"
     ]
    },
    {
     "name": "stdout",
     "output_type": "stream",
     "text": [
      "[current_batch: 01400] val: 0.3167, [best_batch: 01400] best val: 0.3167\n"
     ]
    },
    {
     "name": "stderr",
     "output_type": "stream",
     "text": [
      "492it [02:30,  3.82it/s]"
     ]
    },
    {
     "name": "stdout",
     "output_type": "stream",
     "text": [
      "Starting validation ...\n"
     ]
    },
    {
     "name": "stderr",
     "output_type": "stream",
     "text": [
      "493it [02:36,  3.15it/s]"
     ]
    },
    {
     "name": "stdout",
     "output_type": "stream",
     "text": [
      "[current_batch: 01479] val: 0.3167, [best_batch: 01400] best val: 0.3167\n"
     ]
    },
    {
     "name": "stderr",
     "output_type": "stream",
     "text": [
      "\n",
      "20it [00:05,  3.77it/s]"
     ]
    },
    {
     "name": "stdout",
     "output_type": "stream",
     "text": [
      "[current_batch: 01500] loss: 0.546, learning rate: 0.000100\n"
     ]
    },
    {
     "name": "stderr",
     "output_type": "stream",
     "text": [
      "120it [00:32,  3.81it/s]"
     ]
    },
    {
     "name": "stdout",
     "output_type": "stream",
     "text": [
      "[current_batch: 01600] loss: 2.481, learning rate: 0.000100\n",
      "Starting validation ...\n"
     ]
    },
    {
     "name": "stderr",
     "output_type": "stream",
     "text": [
      "121it [00:38,  2.21s/it]"
     ]
    },
    {
     "name": "stdout",
     "output_type": "stream",
     "text": [
      "[current_batch: 01600] val: 0.3150, [best_batch: 01400] best val: 0.3167\n"
     ]
    },
    {
     "name": "stderr",
     "output_type": "stream",
     "text": [
      "220it [01:04,  3.78it/s]"
     ]
    },
    {
     "name": "stdout",
     "output_type": "stream",
     "text": [
      "[current_batch: 01700] loss: 2.419, learning rate: 0.000100\n"
     ]
    },
    {
     "name": "stderr",
     "output_type": "stream",
     "text": [
      "320it [01:31,  3.79it/s]"
     ]
    },
    {
     "name": "stdout",
     "output_type": "stream",
     "text": [
      "[current_batch: 01800] loss: 2.533, learning rate: 0.000100\n",
      "Starting validation ...\n"
     ]
    },
    {
     "name": "stderr",
     "output_type": "stream",
     "text": [
      "321it [01:38,  2.33s/it]"
     ]
    },
    {
     "name": "stdout",
     "output_type": "stream",
     "text": [
      "[current_batch: 01800] val: 0.3201, [best_batch: 01800] best val: 0.3201\n"
     ]
    },
    {
     "name": "stderr",
     "output_type": "stream",
     "text": [
      "420it [02:04,  3.81it/s]"
     ]
    },
    {
     "name": "stdout",
     "output_type": "stream",
     "text": [
      "[current_batch: 01900] loss: 2.312, learning rate: 0.000100\n"
     ]
    },
    {
     "name": "stderr",
     "output_type": "stream",
     "text": [
      "492it [02:23,  3.82it/s]"
     ]
    },
    {
     "name": "stdout",
     "output_type": "stream",
     "text": [
      "Starting validation ...\n"
     ]
    },
    {
     "name": "stderr",
     "output_type": "stream",
     "text": [
      "493it [02:31,  3.26it/s]"
     ]
    },
    {
     "name": "stdout",
     "output_type": "stream",
     "text": [
      "[current_batch: 01972] val: 0.3253, [best_batch: 01972] best val: 0.3253\n"
     ]
    },
    {
     "name": "stderr",
     "output_type": "stream",
     "text": [
      "\n",
      "27it [00:07,  3.79it/s]"
     ]
    },
    {
     "name": "stdout",
     "output_type": "stream",
     "text": [
      "[current_batch: 02000] loss: 0.695, learning rate: 0.000100\n",
      "Starting validation ...\n"
     ]
    },
    {
     "name": "stderr",
     "output_type": "stream",
     "text": [
      "28it [00:14,  2.36s/it]"
     ]
    },
    {
     "name": "stdout",
     "output_type": "stream",
     "text": [
      "[current_batch: 02000] val: 0.3287, [best_batch: 02000] best val: 0.3287\n"
     ]
    },
    {
     "name": "stderr",
     "output_type": "stream",
     "text": [
      "127it [00:40,  3.78it/s]"
     ]
    },
    {
     "name": "stdout",
     "output_type": "stream",
     "text": [
      "[current_batch: 02100] loss: 2.467, learning rate: 0.000100\n"
     ]
    },
    {
     "name": "stderr",
     "output_type": "stream",
     "text": [
      "227it [01:07,  3.79it/s]"
     ]
    },
    {
     "name": "stdout",
     "output_type": "stream",
     "text": [
      "[current_batch: 02200] loss: 2.330, learning rate: 0.000100\n",
      "Starting validation ...\n"
     ]
    },
    {
     "name": "stderr",
     "output_type": "stream",
     "text": [
      "228it [01:14,  2.36s/it]"
     ]
    },
    {
     "name": "stdout",
     "output_type": "stream",
     "text": [
      "[current_batch: 02200] val: 0.3339, [best_batch: 02200] best val: 0.3339\n"
     ]
    },
    {
     "name": "stderr",
     "output_type": "stream",
     "text": [
      "327it [01:40,  3.81it/s]"
     ]
    },
    {
     "name": "stdout",
     "output_type": "stream",
     "text": [
      "[current_batch: 02300] loss: 2.356, learning rate: 0.000100\n"
     ]
    },
    {
     "name": "stderr",
     "output_type": "stream",
     "text": [
      "427it [02:06,  3.84it/s]"
     ]
    },
    {
     "name": "stdout",
     "output_type": "stream",
     "text": [
      "[current_batch: 02400] loss: 2.362, learning rate: 0.000100\n",
      "Starting validation ...\n"
     ]
    },
    {
     "name": "stderr",
     "output_type": "stream",
     "text": [
      "428it [02:13,  2.22s/it]"
     ]
    },
    {
     "name": "stdout",
     "output_type": "stream",
     "text": [
      "[current_batch: 02400] val: 0.3322, [best_batch: 02200] best val: 0.3339\n"
     ]
    },
    {
     "name": "stderr",
     "output_type": "stream",
     "text": [
      "492it [02:30,  3.80it/s]"
     ]
    },
    {
     "name": "stdout",
     "output_type": "stream",
     "text": [
      "Starting validation ...\n"
     ]
    },
    {
     "name": "stderr",
     "output_type": "stream",
     "text": [
      "493it [02:37,  3.14it/s]"
     ]
    },
    {
     "name": "stdout",
     "output_type": "stream",
     "text": [
      "[current_batch: 02465] val: 0.3236, [best_batch: 02200] best val: 0.3339\n"
     ]
    },
    {
     "name": "stderr",
     "output_type": "stream",
     "text": [
      "\n",
      "34it [00:09,  3.84it/s]"
     ]
    },
    {
     "name": "stdout",
     "output_type": "stream",
     "text": [
      "[current_batch: 02500] loss: 0.869, learning rate: 0.000100\n"
     ]
    },
    {
     "name": "stderr",
     "output_type": "stream",
     "text": [
      "134it [00:35,  3.81it/s]"
     ]
    },
    {
     "name": "stdout",
     "output_type": "stream",
     "text": [
      "[current_batch: 02600] loss: 2.374, learning rate: 0.000100\n",
      "Starting validation ...\n"
     ]
    },
    {
     "name": "stderr",
     "output_type": "stream",
     "text": [
      "135it [00:43,  2.38s/it]"
     ]
    },
    {
     "name": "stdout",
     "output_type": "stream",
     "text": [
      "[current_batch: 02600] val: 0.3408, [best_batch: 02600] best val: 0.3408\n"
     ]
    },
    {
     "name": "stderr",
     "output_type": "stream",
     "text": [
      "234it [01:09,  3.81it/s]"
     ]
    },
    {
     "name": "stdout",
     "output_type": "stream",
     "text": [
      "[current_batch: 02700] loss: 2.327, learning rate: 0.000100\n"
     ]
    },
    {
     "name": "stderr",
     "output_type": "stream",
     "text": [
      "334it [01:35,  3.82it/s]"
     ]
    },
    {
     "name": "stdout",
     "output_type": "stream",
     "text": [
      "[current_batch: 02800] loss: 2.349, learning rate: 0.000100\n",
      "Starting validation ...\n"
     ]
    },
    {
     "name": "stderr",
     "output_type": "stream",
     "text": [
      "335it [01:42,  2.24s/it]"
     ]
    },
    {
     "name": "stdout",
     "output_type": "stream",
     "text": [
      "[current_batch: 02800] val: 0.3408, [best_batch: 02600] best val: 0.3408\n"
     ]
    },
    {
     "name": "stderr",
     "output_type": "stream",
     "text": [
      "434it [02:08,  3.85it/s]"
     ]
    },
    {
     "name": "stdout",
     "output_type": "stream",
     "text": [
      "[current_batch: 02900] loss: 2.350, learning rate: 0.000100\n"
     ]
    },
    {
     "name": "stderr",
     "output_type": "stream",
     "text": [
      "492it [02:24,  3.87it/s]"
     ]
    },
    {
     "name": "stdout",
     "output_type": "stream",
     "text": [
      "Starting validation ...\n"
     ]
    },
    {
     "name": "stderr",
     "output_type": "stream",
     "text": [
      "493it [02:30,  3.27it/s]"
     ]
    },
    {
     "name": "stdout",
     "output_type": "stream",
     "text": [
      "[current_batch: 02958] val: 0.3305, [best_batch: 02600] best val: 0.3408\n"
     ]
    },
    {
     "name": "stderr",
     "output_type": "stream",
     "text": [
      "\n",
      "41it [00:10,  3.87it/s]"
     ]
    },
    {
     "name": "stdout",
     "output_type": "stream",
     "text": [
      "[current_batch: 03000] loss: 0.972, learning rate: 0.000100\n",
      "Starting validation ...\n"
     ]
    },
    {
     "name": "stderr",
     "output_type": "stream",
     "text": [
      "42it [00:17,  2.23s/it]"
     ]
    },
    {
     "name": "stdout",
     "output_type": "stream",
     "text": [
      "[current_batch: 03000] val: 0.3305, [best_batch: 02600] best val: 0.3408\n"
     ]
    },
    {
     "name": "stderr",
     "output_type": "stream",
     "text": [
      "141it [00:43,  3.85it/s]"
     ]
    },
    {
     "name": "stdout",
     "output_type": "stream",
     "text": [
      "[current_batch: 03100] loss: 2.271, learning rate: 0.000100\n"
     ]
    },
    {
     "name": "stderr",
     "output_type": "stream",
     "text": [
      "241it [01:10,  3.84it/s]"
     ]
    },
    {
     "name": "stdout",
     "output_type": "stream",
     "text": [
      "[current_batch: 03200] loss: 2.379, learning rate: 0.000100\n",
      "Starting validation ...\n"
     ]
    },
    {
     "name": "stderr",
     "output_type": "stream",
     "text": [
      "242it [01:17,  2.39s/it]"
     ]
    },
    {
     "name": "stdout",
     "output_type": "stream",
     "text": [
      "[current_batch: 03200] val: 0.3511, [best_batch: 03200] best val: 0.3511\n"
     ]
    },
    {
     "name": "stderr",
     "output_type": "stream",
     "text": [
      "341it [01:43,  3.77it/s]"
     ]
    },
    {
     "name": "stdout",
     "output_type": "stream",
     "text": [
      "[current_batch: 03300] loss: 2.307, learning rate: 0.000100\n"
     ]
    },
    {
     "name": "stderr",
     "output_type": "stream",
     "text": [
      "441it [02:10,  3.78it/s]"
     ]
    },
    {
     "name": "stdout",
     "output_type": "stream",
     "text": [
      "[current_batch: 03400] loss: 2.187, learning rate: 0.000100\n",
      "Starting validation ...\n"
     ]
    },
    {
     "name": "stderr",
     "output_type": "stream",
     "text": [
      "442it [02:17,  2.24s/it]"
     ]
    },
    {
     "name": "stdout",
     "output_type": "stream",
     "text": [
      "[current_batch: 03400] val: 0.3494, [best_batch: 03200] best val: 0.3511\n"
     ]
    },
    {
     "name": "stderr",
     "output_type": "stream",
     "text": [
      "492it [02:31,  3.76it/s]"
     ]
    },
    {
     "name": "stdout",
     "output_type": "stream",
     "text": [
      "Starting validation ...\n"
     ]
    },
    {
     "name": "stderr",
     "output_type": "stream",
     "text": [
      "493it [02:38,  3.12it/s]"
     ]
    },
    {
     "name": "stdout",
     "output_type": "stream",
     "text": [
      "[current_batch: 03451] val: 0.3546, [best_batch: 03451] best val: 0.3546\n"
     ]
    },
    {
     "name": "stderr",
     "output_type": "stream",
     "text": [
      "\n",
      "48it [00:12,  3.81it/s]"
     ]
    },
    {
     "name": "stdout",
     "output_type": "stream",
     "text": [
      "[current_batch: 03500] loss: 1.103, learning rate: 0.000100\n"
     ]
    },
    {
     "name": "stderr",
     "output_type": "stream",
     "text": [
      "148it [00:39,  3.80it/s]"
     ]
    },
    {
     "name": "stdout",
     "output_type": "stream",
     "text": [
      "[current_batch: 03600] loss: 2.197, learning rate: 0.000100\n",
      "Starting validation ...\n"
     ]
    },
    {
     "name": "stderr",
     "output_type": "stream",
     "text": [
      "149it [00:46,  2.24s/it]"
     ]
    },
    {
     "name": "stdout",
     "output_type": "stream",
     "text": [
      "[current_batch: 03600] val: 0.3356, [best_batch: 03451] best val: 0.3546\n"
     ]
    },
    {
     "name": "stderr",
     "output_type": "stream",
     "text": [
      "248it [01:12,  3.80it/s]"
     ]
    },
    {
     "name": "stdout",
     "output_type": "stream",
     "text": [
      "[current_batch: 03700] loss: 2.145, learning rate: 0.000100\n"
     ]
    },
    {
     "name": "stderr",
     "output_type": "stream",
     "text": [
      "348it [01:39,  3.75it/s]"
     ]
    },
    {
     "name": "stdout",
     "output_type": "stream",
     "text": [
      "[current_batch: 03800] loss: 2.247, learning rate: 0.000100\n",
      "Starting validation ...\n"
     ]
    },
    {
     "name": "stderr",
     "output_type": "stream",
     "text": [
      "349it [01:45,  2.25s/it]"
     ]
    },
    {
     "name": "stdout",
     "output_type": "stream",
     "text": [
      "[current_batch: 03800] val: 0.3442, [best_batch: 03451] best val: 0.3546\n"
     ]
    },
    {
     "name": "stderr",
     "output_type": "stream",
     "text": [
      "448it [02:12,  3.82it/s]"
     ]
    },
    {
     "name": "stdout",
     "output_type": "stream",
     "text": [
      "[current_batch: 03900] loss: 2.116, learning rate: 0.000100\n"
     ]
    },
    {
     "name": "stderr",
     "output_type": "stream",
     "text": [
      "492it [02:24,  3.84it/s]"
     ]
    },
    {
     "name": "stdout",
     "output_type": "stream",
     "text": [
      "Starting validation ...\n"
     ]
    },
    {
     "name": "stderr",
     "output_type": "stream",
     "text": [
      "493it [02:30,  3.27it/s]"
     ]
    },
    {
     "name": "stdout",
     "output_type": "stream",
     "text": [
      "[current_batch: 03944] val: 0.3408, [best_batch: 03451] best val: 0.3546\n"
     ]
    },
    {
     "name": "stderr",
     "output_type": "stream",
     "text": [
      "\n",
      "55it [00:14,  3.83it/s]"
     ]
    },
    {
     "name": "stdout",
     "output_type": "stream",
     "text": [
      "[current_batch: 04000] loss: 1.199, learning rate: 0.000100\n",
      "Starting validation ...\n"
     ]
    },
    {
     "name": "stderr",
     "output_type": "stream",
     "text": [
      "56it [00:21,  2.26s/it]"
     ]
    },
    {
     "name": "stdout",
     "output_type": "stream",
     "text": [
      "[current_batch: 04000] val: 0.3356, [best_batch: 03451] best val: 0.3546\n"
     ]
    },
    {
     "name": "stderr",
     "output_type": "stream",
     "text": [
      "155it [00:47,  3.81it/s]"
     ]
    },
    {
     "name": "stdout",
     "output_type": "stream",
     "text": [
      "[current_batch: 04100] loss: 2.118, learning rate: 0.000100\n"
     ]
    },
    {
     "name": "stderr",
     "output_type": "stream",
     "text": [
      "255it [01:14,  3.78it/s]"
     ]
    },
    {
     "name": "stdout",
     "output_type": "stream",
     "text": [
      "[current_batch: 04200] loss: 2.213, learning rate: 0.000100\n",
      "Starting validation ...\n"
     ]
    },
    {
     "name": "stderr",
     "output_type": "stream",
     "text": [
      "256it [01:21,  2.40s/it]"
     ]
    },
    {
     "name": "stdout",
     "output_type": "stream",
     "text": [
      "[current_batch: 04200] val: 0.3580, [best_batch: 04200] best val: 0.3580\n"
     ]
    },
    {
     "name": "stderr",
     "output_type": "stream",
     "text": [
      "355it [01:47,  3.79it/s]"
     ]
    },
    {
     "name": "stdout",
     "output_type": "stream",
     "text": [
      "[current_batch: 04300] loss: 2.167, learning rate: 0.000100\n"
     ]
    },
    {
     "name": "stderr",
     "output_type": "stream",
     "text": [
      "455it [02:14,  3.82it/s]"
     ]
    },
    {
     "name": "stdout",
     "output_type": "stream",
     "text": [
      "[current_batch: 04400] loss: 2.198, learning rate: 0.000100\n",
      "Starting validation ...\n"
     ]
    },
    {
     "name": "stderr",
     "output_type": "stream",
     "text": [
      "456it [02:21,  2.25s/it]"
     ]
    },
    {
     "name": "stdout",
     "output_type": "stream",
     "text": [
      "[current_batch: 04400] val: 0.3494, [best_batch: 04200] best val: 0.3580\n"
     ]
    },
    {
     "name": "stderr",
     "output_type": "stream",
     "text": [
      "492it [02:30,  3.84it/s]"
     ]
    },
    {
     "name": "stdout",
     "output_type": "stream",
     "text": [
      "Starting validation ...\n"
     ]
    },
    {
     "name": "stderr",
     "output_type": "stream",
     "text": [
      "493it [02:37,  3.13it/s]"
     ]
    },
    {
     "name": "stdout",
     "output_type": "stream",
     "text": [
      "[current_batch: 04437] val: 0.3511, [best_batch: 04200] best val: 0.3580\n"
     ]
    },
    {
     "name": "stderr",
     "output_type": "stream",
     "text": [
      "\n",
      "62it [00:16,  3.81it/s]"
     ]
    },
    {
     "name": "stdout",
     "output_type": "stream",
     "text": [
      "[current_batch: 04500] loss: 1.335, learning rate: 0.000100\n"
     ]
    },
    {
     "name": "stderr",
     "output_type": "stream",
     "text": [
      "162it [00:42,  3.84it/s]"
     ]
    },
    {
     "name": "stdout",
     "output_type": "stream",
     "text": [
      "[current_batch: 04600] loss: 2.141, learning rate: 0.000100\n",
      "Starting validation ...\n"
     ]
    },
    {
     "name": "stderr",
     "output_type": "stream",
     "text": [
      "163it [00:49,  2.26s/it]"
     ]
    },
    {
     "name": "stdout",
     "output_type": "stream",
     "text": [
      "[current_batch: 04600] val: 0.3563, [best_batch: 04200] best val: 0.3580\n"
     ]
    },
    {
     "name": "stderr",
     "output_type": "stream",
     "text": [
      "262it [01:15,  3.78it/s]"
     ]
    },
    {
     "name": "stdout",
     "output_type": "stream",
     "text": [
      "[current_batch: 04700] loss: 2.118, learning rate: 0.000100\n"
     ]
    },
    {
     "name": "stderr",
     "output_type": "stream",
     "text": [
      "362it [01:42,  3.80it/s]"
     ]
    },
    {
     "name": "stdout",
     "output_type": "stream",
     "text": [
      "[current_batch: 04800] loss: 2.058, learning rate: 0.000100\n",
      "Starting validation ...\n"
     ]
    },
    {
     "name": "stderr",
     "output_type": "stream",
     "text": [
      "363it [01:49,  2.39s/it]"
     ]
    },
    {
     "name": "stdout",
     "output_type": "stream",
     "text": [
      "[current_batch: 04800] val: 0.3632, [best_batch: 04800] best val: 0.3632\n"
     ]
    },
    {
     "name": "stderr",
     "output_type": "stream",
     "text": [
      "462it [02:15,  3.82it/s]"
     ]
    },
    {
     "name": "stdout",
     "output_type": "stream",
     "text": [
      "[current_batch: 04900] loss: 2.083, learning rate: 0.000100\n"
     ]
    },
    {
     "name": "stderr",
     "output_type": "stream",
     "text": [
      "492it [02:23,  3.82it/s]"
     ]
    },
    {
     "name": "stdout",
     "output_type": "stream",
     "text": [
      "Starting validation ...\n"
     ]
    },
    {
     "name": "stderr",
     "output_type": "stream",
     "text": [
      "493it [02:30,  3.28it/s]"
     ]
    },
    {
     "name": "stdout",
     "output_type": "stream",
     "text": [
      "[current_batch: 04930] val: 0.3632, [best_batch: 04800] best val: 0.3632\n"
     ]
    },
    {
     "name": "stderr",
     "output_type": "stream",
     "text": [
      "\n",
      "69it [00:18,  3.79it/s]"
     ]
    },
    {
     "name": "stdout",
     "output_type": "stream",
     "text": [
      "[current_batch: 05000] loss: 1.455, learning rate: 0.000100\n",
      "Starting validation ...\n"
     ]
    },
    {
     "name": "stderr",
     "output_type": "stream",
     "text": [
      "70it [00:25,  2.25s/it]"
     ]
    },
    {
     "name": "stdout",
     "output_type": "stream",
     "text": [
      "[current_batch: 05000] val: 0.3597, [best_batch: 04800] best val: 0.3632\n"
     ]
    },
    {
     "name": "stderr",
     "output_type": "stream",
     "text": [
      "169it [00:51,  3.81it/s]"
     ]
    },
    {
     "name": "stdout",
     "output_type": "stream",
     "text": [
      "[current_batch: 05100] loss: 1.996, learning rate: 0.000100\n"
     ]
    },
    {
     "name": "stderr",
     "output_type": "stream",
     "text": [
      "269it [01:17,  3.84it/s]"
     ]
    },
    {
     "name": "stdout",
     "output_type": "stream",
     "text": [
      "[current_batch: 05200] loss: 2.004, learning rate: 0.000100\n",
      "Starting validation ...\n"
     ]
    },
    {
     "name": "stderr",
     "output_type": "stream",
     "text": [
      "270it [01:25,  2.41s/it]"
     ]
    },
    {
     "name": "stdout",
     "output_type": "stream",
     "text": [
      "[current_batch: 05200] val: 0.3649, [best_batch: 05200] best val: 0.3649\n"
     ]
    },
    {
     "name": "stderr",
     "output_type": "stream",
     "text": [
      "369it [01:51,  3.82it/s]"
     ]
    },
    {
     "name": "stdout",
     "output_type": "stream",
     "text": [
      "[current_batch: 05300] loss: 2.098, learning rate: 0.000100\n"
     ]
    },
    {
     "name": "stderr",
     "output_type": "stream",
     "text": [
      "469it [02:18,  3.78it/s]"
     ]
    },
    {
     "name": "stdout",
     "output_type": "stream",
     "text": [
      "[current_batch: 05400] loss: 1.973, learning rate: 0.000100\n",
      "Starting validation ...\n"
     ]
    },
    {
     "name": "stderr",
     "output_type": "stream",
     "text": [
      "470it [02:25,  2.39s/it]"
     ]
    },
    {
     "name": "stdout",
     "output_type": "stream",
     "text": [
      "[current_batch: 05400] val: 0.3718, [best_batch: 05400] best val: 0.3718\n"
     ]
    },
    {
     "name": "stderr",
     "output_type": "stream",
     "text": [
      "492it [02:31,  3.80it/s]"
     ]
    },
    {
     "name": "stdout",
     "output_type": "stream",
     "text": [
      "Starting validation ...\n"
     ]
    },
    {
     "name": "stderr",
     "output_type": "stream",
     "text": [
      "493it [02:37,  3.12it/s]"
     ]
    },
    {
     "name": "stdout",
     "output_type": "stream",
     "text": [
      "[current_batch: 05423] val: 0.3666, [best_batch: 05400] best val: 0.3718\n"
     ]
    },
    {
     "name": "stderr",
     "output_type": "stream",
     "text": [
      "\n",
      "76it [00:20,  3.85it/s]"
     ]
    },
    {
     "name": "stdout",
     "output_type": "stream",
     "text": [
      "[current_batch: 05500] loss: 1.577, learning rate: 0.000100\n"
     ]
    },
    {
     "name": "stderr",
     "output_type": "stream",
     "text": [
      "176it [00:46,  3.84it/s]"
     ]
    },
    {
     "name": "stdout",
     "output_type": "stream",
     "text": [
      "[current_batch: 05600] loss: 1.941, learning rate: 0.000100\n",
      "Starting validation ...\n"
     ]
    },
    {
     "name": "stderr",
     "output_type": "stream",
     "text": [
      "177it [00:53,  2.25s/it]"
     ]
    },
    {
     "name": "stdout",
     "output_type": "stream",
     "text": [
      "[current_batch: 05600] val: 0.3683, [best_batch: 05400] best val: 0.3718\n"
     ]
    },
    {
     "name": "stderr",
     "output_type": "stream",
     "text": [
      "276it [01:19,  3.78it/s]"
     ]
    },
    {
     "name": "stdout",
     "output_type": "stream",
     "text": [
      "[current_batch: 05700] loss: 1.977, learning rate: 0.000100\n"
     ]
    },
    {
     "name": "stderr",
     "output_type": "stream",
     "text": [
      "376it [01:46,  3.84it/s]"
     ]
    },
    {
     "name": "stdout",
     "output_type": "stream",
     "text": [
      "[current_batch: 05800] loss: 1.923, learning rate: 0.000100\n",
      "Starting validation ...\n"
     ]
    },
    {
     "name": "stderr",
     "output_type": "stream",
     "text": [
      "377it [01:53,  2.40s/it]"
     ]
    },
    {
     "name": "stdout",
     "output_type": "stream",
     "text": [
      "[current_batch: 05800] val: 0.3752, [best_batch: 05800] best val: 0.3752\n"
     ]
    },
    {
     "name": "stderr",
     "output_type": "stream",
     "text": [
      "476it [02:19,  3.72it/s]"
     ]
    },
    {
     "name": "stdout",
     "output_type": "stream",
     "text": [
      "[current_batch: 05900] loss: 2.048, learning rate: 0.000100\n"
     ]
    },
    {
     "name": "stderr",
     "output_type": "stream",
     "text": [
      "492it [02:24,  3.75it/s]"
     ]
    },
    {
     "name": "stdout",
     "output_type": "stream",
     "text": [
      "Starting validation ...\n"
     ]
    },
    {
     "name": "stderr",
     "output_type": "stream",
     "text": [
      "493it [02:31,  3.26it/s]"
     ]
    },
    {
     "name": "stdout",
     "output_type": "stream",
     "text": [
      "[current_batch: 05916] val: 0.3769, [best_batch: 05916] best val: 0.3769\n"
     ]
    },
    {
     "name": "stderr",
     "output_type": "stream",
     "text": [
      "\n",
      "83it [00:21,  3.77it/s]"
     ]
    },
    {
     "name": "stdout",
     "output_type": "stream",
     "text": [
      "[current_batch: 06000] loss: 1.558, learning rate: 0.000100\n",
      "Starting validation ...\n"
     ]
    },
    {
     "name": "stderr",
     "output_type": "stream",
     "text": [
      "84it [00:28,  2.25s/it]"
     ]
    },
    {
     "name": "stdout",
     "output_type": "stream",
     "text": [
      "[current_batch: 06000] val: 0.3735, [best_batch: 05916] best val: 0.3769\n"
     ]
    },
    {
     "name": "stderr",
     "output_type": "stream",
     "text": [
      "183it [00:54,  3.84it/s]"
     ]
    },
    {
     "name": "stdout",
     "output_type": "stream",
     "text": [
      "[current_batch: 06100] loss: 1.902, learning rate: 0.000100\n"
     ]
    },
    {
     "name": "stderr",
     "output_type": "stream",
     "text": [
      "283it [01:21,  3.83it/s]"
     ]
    },
    {
     "name": "stdout",
     "output_type": "stream",
     "text": [
      "[current_batch: 06200] loss: 1.944, learning rate: 0.000100\n",
      "Starting validation ...\n"
     ]
    },
    {
     "name": "stderr",
     "output_type": "stream",
     "text": [
      "284it [01:28,  2.25s/it]"
     ]
    },
    {
     "name": "stdout",
     "output_type": "stream",
     "text": [
      "[current_batch: 06200] val: 0.3649, [best_batch: 05916] best val: 0.3769\n"
     ]
    },
    {
     "name": "stderr",
     "output_type": "stream",
     "text": [
      "383it [01:54,  3.81it/s]"
     ]
    },
    {
     "name": "stdout",
     "output_type": "stream",
     "text": [
      "[current_batch: 06300] loss: 1.908, learning rate: 0.000100\n"
     ]
    },
    {
     "name": "stderr",
     "output_type": "stream",
     "text": [
      "483it [02:20,  3.82it/s]"
     ]
    },
    {
     "name": "stdout",
     "output_type": "stream",
     "text": [
      "[current_batch: 06400] loss: 1.977, learning rate: 0.000100\n",
      "Starting validation ...\n"
     ]
    },
    {
     "name": "stderr",
     "output_type": "stream",
     "text": [
      "484it [02:27,  2.26s/it]"
     ]
    },
    {
     "name": "stdout",
     "output_type": "stream",
     "text": [
      "[current_batch: 06400] val: 0.3718, [best_batch: 05916] best val: 0.3769\n"
     ]
    },
    {
     "name": "stderr",
     "output_type": "stream",
     "text": [
      "492it [02:29,  2.67it/s]"
     ]
    },
    {
     "name": "stdout",
     "output_type": "stream",
     "text": [
      "Starting validation ...\n"
     ]
    },
    {
     "name": "stderr",
     "output_type": "stream",
     "text": [
      "493it [02:36,  3.15it/s]"
     ]
    },
    {
     "name": "stdout",
     "output_type": "stream",
     "text": [
      "[current_batch: 06409] val: 0.3666, [best_batch: 05916] best val: 0.3769\n"
     ]
    },
    {
     "name": "stderr",
     "output_type": "stream",
     "text": [
      "\n",
      "90it [00:23,  3.78it/s]"
     ]
    },
    {
     "name": "stdout",
     "output_type": "stream",
     "text": [
      "[current_batch: 06500] loss: 1.679, learning rate: 0.000100\n"
     ]
    },
    {
     "name": "stderr",
     "output_type": "stream",
     "text": [
      "190it [00:50,  3.83it/s]"
     ]
    },
    {
     "name": "stdout",
     "output_type": "stream",
     "text": [
      "[current_batch: 06600] loss: 1.750, learning rate: 0.000100\n",
      "Starting validation ...\n"
     ]
    },
    {
     "name": "stderr",
     "output_type": "stream",
     "text": [
      "191it [00:57,  2.27s/it]"
     ]
    },
    {
     "name": "stdout",
     "output_type": "stream",
     "text": [
      "[current_batch: 06600] val: 0.3580, [best_batch: 05916] best val: 0.3769\n"
     ]
    },
    {
     "name": "stderr",
     "output_type": "stream",
     "text": [
      "290it [01:23,  3.79it/s]"
     ]
    },
    {
     "name": "stdout",
     "output_type": "stream",
     "text": [
      "[current_batch: 06700] loss: 1.899, learning rate: 0.000100\n"
     ]
    },
    {
     "name": "stderr",
     "output_type": "stream",
     "text": [
      "390it [01:50,  3.78it/s]"
     ]
    },
    {
     "name": "stdout",
     "output_type": "stream",
     "text": [
      "[current_batch: 06800] loss: 1.951, learning rate: 0.000100\n",
      "Starting validation ...\n"
     ]
    },
    {
     "name": "stderr",
     "output_type": "stream",
     "text": [
      "391it [01:57,  2.26s/it]"
     ]
    },
    {
     "name": "stdout",
     "output_type": "stream",
     "text": [
      "[current_batch: 06800] val: 0.3614, [best_batch: 05916] best val: 0.3769\n"
     ]
    },
    {
     "name": "stderr",
     "output_type": "stream",
     "text": [
      "490it [02:23,  3.81it/s]"
     ]
    },
    {
     "name": "stdout",
     "output_type": "stream",
     "text": [
      "[current_batch: 06900] loss: 1.856, learning rate: 0.000100\n"
     ]
    },
    {
     "name": "stderr",
     "output_type": "stream",
     "text": [
      "492it [02:24,  3.02it/s]"
     ]
    },
    {
     "name": "stdout",
     "output_type": "stream",
     "text": [
      "Starting validation ...\n"
     ]
    },
    {
     "name": "stderr",
     "output_type": "stream",
     "text": [
      "493it [02:31,  3.26it/s]"
     ]
    },
    {
     "name": "stdout",
     "output_type": "stream",
     "text": [
      "[current_batch: 06902] val: 0.3701, [best_batch: 05916] best val: 0.3769\n"
     ]
    },
    {
     "name": "stderr",
     "output_type": "stream",
     "text": [
      "\n",
      "97it [00:25,  3.75it/s]"
     ]
    },
    {
     "name": "stdout",
     "output_type": "stream",
     "text": [
      "[current_batch: 07000] loss: 1.726, learning rate: 0.000100\n",
      "Starting validation ...\n"
     ]
    },
    {
     "name": "stderr",
     "output_type": "stream",
     "text": [
      "98it [00:32,  2.26s/it]"
     ]
    },
    {
     "name": "stdout",
     "output_type": "stream",
     "text": [
      "[current_batch: 07000] val: 0.3666, [best_batch: 05916] best val: 0.3769\n"
     ]
    },
    {
     "name": "stderr",
     "output_type": "stream",
     "text": [
      "197it [00:58,  3.80it/s]"
     ]
    },
    {
     "name": "stdout",
     "output_type": "stream",
     "text": [
      "[current_batch: 07100] loss: 1.823, learning rate: 0.000100\n"
     ]
    },
    {
     "name": "stderr",
     "output_type": "stream",
     "text": [
      "297it [01:25,  3.82it/s]"
     ]
    },
    {
     "name": "stdout",
     "output_type": "stream",
     "text": [
      "[current_batch: 07200] loss: 1.806, learning rate: 0.000100\n",
      "Starting validation ...\n"
     ]
    },
    {
     "name": "stderr",
     "output_type": "stream",
     "text": [
      "298it [01:32,  2.26s/it]"
     ]
    },
    {
     "name": "stdout",
     "output_type": "stream",
     "text": [
      "[current_batch: 07200] val: 0.3546, [best_batch: 05916] best val: 0.3769\n"
     ]
    },
    {
     "name": "stderr",
     "output_type": "stream",
     "text": [
      "397it [01:58,  3.79it/s]"
     ]
    },
    {
     "name": "stdout",
     "output_type": "stream",
     "text": [
      "[current_batch: 07300] loss: 1.762, learning rate: 0.000100\n"
     ]
    },
    {
     "name": "stderr",
     "output_type": "stream",
     "text": [
      "492it [02:24,  3.84it/s]"
     ]
    },
    {
     "name": "stdout",
     "output_type": "stream",
     "text": [
      "Starting validation ...\n"
     ]
    },
    {
     "name": "stderr",
     "output_type": "stream",
     "text": [
      "493it [02:30,  3.27it/s]"
     ]
    },
    {
     "name": "stdout",
     "output_type": "stream",
     "text": [
      "[current_batch: 07395] val: 0.3769, [best_batch: 05916] best val: 0.3769\n"
     ]
    },
    {
     "name": "stderr",
     "output_type": "stream",
     "text": [
      "\n",
      "4it [00:01,  3.64it/s]"
     ]
    },
    {
     "name": "stdout",
     "output_type": "stream",
     "text": [
      "[current_batch: 07400] loss: 0.092, learning rate: 0.000100\n",
      "Starting validation ...\n"
     ]
    },
    {
     "name": "stderr",
     "output_type": "stream",
     "text": [
      "5it [00:08,  2.68s/it]"
     ]
    },
    {
     "name": "stdout",
     "output_type": "stream",
     "text": [
      "[current_batch: 07400] val: 0.3718, [best_batch: 05916] best val: 0.3769\n"
     ]
    },
    {
     "name": "stderr",
     "output_type": "stream",
     "text": [
      "104it [00:34,  3.75it/s]"
     ]
    },
    {
     "name": "stdout",
     "output_type": "stream",
     "text": [
      "[current_batch: 07500] loss: 1.724, learning rate: 0.000100\n"
     ]
    },
    {
     "name": "stderr",
     "output_type": "stream",
     "text": [
      "204it [01:00,  3.81it/s]"
     ]
    },
    {
     "name": "stdout",
     "output_type": "stream",
     "text": [
      "[current_batch: 07600] loss: 1.705, learning rate: 0.000100\n",
      "Starting validation ...\n"
     ]
    },
    {
     "name": "stderr",
     "output_type": "stream",
     "text": [
      "205it [01:07,  2.28s/it]"
     ]
    },
    {
     "name": "stdout",
     "output_type": "stream",
     "text": [
      "[current_batch: 07600] val: 0.3769, [best_batch: 05916] best val: 0.3769\n"
     ]
    },
    {
     "name": "stderr",
     "output_type": "stream",
     "text": [
      "304it [01:33,  3.83it/s]"
     ]
    },
    {
     "name": "stdout",
     "output_type": "stream",
     "text": [
      "[current_batch: 07700] loss: 1.819, learning rate: 0.000100\n"
     ]
    },
    {
     "name": "stderr",
     "output_type": "stream",
     "text": [
      "404it [02:00,  3.77it/s]"
     ]
    },
    {
     "name": "stdout",
     "output_type": "stream",
     "text": [
      "[current_batch: 07800] loss: 1.837, learning rate: 0.000100\n",
      "Starting validation ...\n"
     ]
    },
    {
     "name": "stderr",
     "output_type": "stream",
     "text": [
      "405it [02:07,  2.27s/it]"
     ]
    },
    {
     "name": "stdout",
     "output_type": "stream",
     "text": [
      "[current_batch: 07800] val: 0.3580, [best_batch: 05916] best val: 0.3769\n"
     ]
    },
    {
     "name": "stderr",
     "output_type": "stream",
     "text": [
      "492it [02:30,  3.87it/s]"
     ]
    },
    {
     "name": "stdout",
     "output_type": "stream",
     "text": [
      "Starting validation ...\n"
     ]
    },
    {
     "name": "stderr",
     "output_type": "stream",
     "text": [
      "493it [02:36,  3.14it/s]"
     ]
    },
    {
     "name": "stdout",
     "output_type": "stream",
     "text": [
      "[current_batch: 07888] val: 0.3632, [best_batch: 05916] best val: 0.3769\n"
     ]
    },
    {
     "name": "stderr",
     "output_type": "stream",
     "text": [
      "\n",
      "11it [00:03,  3.79it/s]"
     ]
    },
    {
     "name": "stdout",
     "output_type": "stream",
     "text": [
      "[current_batch: 07900] loss: 0.241, learning rate: 0.000100\n"
     ]
    },
    {
     "name": "stderr",
     "output_type": "stream",
     "text": [
      "111it [00:29,  3.86it/s]"
     ]
    },
    {
     "name": "stdout",
     "output_type": "stream",
     "text": [
      "[current_batch: 08000] loss: 1.742, learning rate: 0.000100\n",
      "Starting validation ...\n"
     ]
    },
    {
     "name": "stderr",
     "output_type": "stream",
     "text": [
      "112it [00:36,  2.26s/it]"
     ]
    },
    {
     "name": "stdout",
     "output_type": "stream",
     "text": [
      "[current_batch: 08000] val: 0.3769, [best_batch: 05916] best val: 0.3769\n"
     ]
    },
    {
     "name": "stderr",
     "output_type": "stream",
     "text": [
      "211it [01:02,  3.82it/s]"
     ]
    },
    {
     "name": "stdout",
     "output_type": "stream",
     "text": [
      "[current_batch: 08100] loss: 1.725, learning rate: 0.000100\n"
     ]
    },
    {
     "name": "stderr",
     "output_type": "stream",
     "text": [
      "311it [01:29,  3.80it/s]"
     ]
    },
    {
     "name": "stdout",
     "output_type": "stream",
     "text": [
      "[current_batch: 08200] loss: 1.714, learning rate: 0.000100\n",
      "Starting validation ...\n"
     ]
    },
    {
     "name": "stderr",
     "output_type": "stream",
     "text": [
      "312it [01:36,  2.27s/it]"
     ]
    },
    {
     "name": "stdout",
     "output_type": "stream",
     "text": [
      "[current_batch: 08200] val: 0.3683, [best_batch: 05916] best val: 0.3769\n"
     ]
    },
    {
     "name": "stderr",
     "output_type": "stream",
     "text": [
      "411it [02:02,  3.74it/s]"
     ]
    },
    {
     "name": "stdout",
     "output_type": "stream",
     "text": [
      "[current_batch: 08300] loss: 1.739, learning rate: 0.000100\n"
     ]
    },
    {
     "name": "stderr",
     "output_type": "stream",
     "text": [
      "492it [02:23,  3.83it/s]"
     ]
    },
    {
     "name": "stdout",
     "output_type": "stream",
     "text": [
      "Starting validation ...\n"
     ]
    },
    {
     "name": "stderr",
     "output_type": "stream",
     "text": [
      "493it [02:31,  3.26it/s]"
     ]
    },
    {
     "name": "stdout",
     "output_type": "stream",
     "text": [
      "[current_batch: 08381] val: 0.3873, [best_batch: 08381] best val: 0.3873\n"
     ]
    },
    {
     "name": "stderr",
     "output_type": "stream",
     "text": [
      "\n",
      "18it [00:04,  3.81it/s]"
     ]
    },
    {
     "name": "stdout",
     "output_type": "stream",
     "text": [
      "[current_batch: 08400] loss: 0.323, learning rate: 0.000100\n",
      "Starting validation ...\n"
     ]
    },
    {
     "name": "stderr",
     "output_type": "stream",
     "text": [
      "19it [00:12,  2.46s/it]"
     ]
    },
    {
     "name": "stdout",
     "output_type": "stream",
     "text": [
      "[current_batch: 08400] val: 0.3890, [best_batch: 08400] best val: 0.3890\n"
     ]
    },
    {
     "name": "stderr",
     "output_type": "stream",
     "text": [
      "118it [00:38,  3.83it/s]"
     ]
    },
    {
     "name": "stdout",
     "output_type": "stream",
     "text": [
      "[current_batch: 08500] loss: 1.667, learning rate: 0.000100\n"
     ]
    },
    {
     "name": "stderr",
     "output_type": "stream",
     "text": [
      "218it [01:04,  3.80it/s]"
     ]
    },
    {
     "name": "stdout",
     "output_type": "stream",
     "text": [
      "[current_batch: 08600] loss: 1.641, learning rate: 0.000100\n",
      "Starting validation ...\n"
     ]
    },
    {
     "name": "stderr",
     "output_type": "stream",
     "text": [
      "219it [01:11,  2.27s/it]"
     ]
    },
    {
     "name": "stdout",
     "output_type": "stream",
     "text": [
      "[current_batch: 08600] val: 0.3821, [best_batch: 08400] best val: 0.3890\n"
     ]
    },
    {
     "name": "stderr",
     "output_type": "stream",
     "text": [
      "318it [01:38,  3.82it/s]"
     ]
    },
    {
     "name": "stdout",
     "output_type": "stream",
     "text": [
      "[current_batch: 08700] loss: 1.638, learning rate: 0.000100\n"
     ]
    },
    {
     "name": "stderr",
     "output_type": "stream",
     "text": [
      "418it [02:04,  3.76it/s]"
     ]
    },
    {
     "name": "stdout",
     "output_type": "stream",
     "text": [
      "[current_batch: 08800] loss: 1.710, learning rate: 0.000100\n",
      "Starting validation ...\n"
     ]
    },
    {
     "name": "stderr",
     "output_type": "stream",
     "text": [
      "419it [02:11,  2.28s/it]"
     ]
    },
    {
     "name": "stdout",
     "output_type": "stream",
     "text": [
      "[current_batch: 08800] val: 0.3666, [best_batch: 08400] best val: 0.3890\n"
     ]
    },
    {
     "name": "stderr",
     "output_type": "stream",
     "text": [
      "492it [02:30,  3.81it/s]"
     ]
    },
    {
     "name": "stdout",
     "output_type": "stream",
     "text": [
      "Starting validation ...\n"
     ]
    },
    {
     "name": "stderr",
     "output_type": "stream",
     "text": [
      "493it [02:37,  3.13it/s]"
     ]
    },
    {
     "name": "stdout",
     "output_type": "stream",
     "text": [
      "[current_batch: 08874] val: 0.3683, [best_batch: 08400] best val: 0.3890\n"
     ]
    },
    {
     "name": "stderr",
     "output_type": "stream",
     "text": [
      "\n",
      "25it [00:06,  3.85it/s]"
     ]
    },
    {
     "name": "stdout",
     "output_type": "stream",
     "text": [
      "[current_batch: 08900] loss: 0.352, learning rate: 0.000100\n"
     ]
    },
    {
     "name": "stderr",
     "output_type": "stream",
     "text": [
      "125it [00:33,  3.80it/s]"
     ]
    },
    {
     "name": "stdout",
     "output_type": "stream",
     "text": [
      "[current_batch: 09000] loss: 1.566, learning rate: 0.000100\n",
      "Starting validation ...\n"
     ]
    },
    {
     "name": "stderr",
     "output_type": "stream",
     "text": [
      "126it [00:40,  2.27s/it]"
     ]
    },
    {
     "name": "stdout",
     "output_type": "stream",
     "text": [
      "[current_batch: 09000] val: 0.3855, [best_batch: 08400] best val: 0.3890\n"
     ]
    },
    {
     "name": "stderr",
     "output_type": "stream",
     "text": [
      "225it [01:06,  3.84it/s]"
     ]
    },
    {
     "name": "stdout",
     "output_type": "stream",
     "text": [
      "[current_batch: 09100] loss: 1.632, learning rate: 0.000100\n"
     ]
    },
    {
     "name": "stderr",
     "output_type": "stream",
     "text": [
      "325it [01:32,  3.83it/s]"
     ]
    },
    {
     "name": "stdout",
     "output_type": "stream",
     "text": [
      "[current_batch: 09200] loss: 1.624, learning rate: 0.000100\n",
      "Starting validation ...\n"
     ]
    },
    {
     "name": "stderr",
     "output_type": "stream",
     "text": [
      "326it [01:39,  2.28s/it]"
     ]
    },
    {
     "name": "stdout",
     "output_type": "stream",
     "text": [
      "[current_batch: 09200] val: 0.3838, [best_batch: 08400] best val: 0.3890\n"
     ]
    },
    {
     "name": "stderr",
     "output_type": "stream",
     "text": [
      "425it [02:05,  3.76it/s]"
     ]
    },
    {
     "name": "stdout",
     "output_type": "stream",
     "text": [
      "[current_batch: 09300] loss: 1.630, learning rate: 0.000100\n"
     ]
    },
    {
     "name": "stderr",
     "output_type": "stream",
     "text": [
      "492it [02:23,  3.81it/s]"
     ]
    },
    {
     "name": "stdout",
     "output_type": "stream",
     "text": [
      "Starting validation ...\n"
     ]
    },
    {
     "name": "stderr",
     "output_type": "stream",
     "text": [
      "493it [02:30,  3.28it/s]"
     ]
    },
    {
     "name": "stdout",
     "output_type": "stream",
     "text": [
      "[current_batch: 09367] val: 0.3735, [best_batch: 08400] best val: 0.3890\n"
     ]
    },
    {
     "name": "stderr",
     "output_type": "stream",
     "text": [
      "\n",
      "32it [00:08,  3.81it/s]"
     ]
    },
    {
     "name": "stdout",
     "output_type": "stream",
     "text": [
      "[current_batch: 09400] loss: 0.504, learning rate: 0.000100\n",
      "Starting validation ...\n"
     ]
    },
    {
     "name": "stderr",
     "output_type": "stream",
     "text": [
      "33it [00:15,  2.28s/it]"
     ]
    },
    {
     "name": "stdout",
     "output_type": "stream",
     "text": [
      "[current_batch: 09400] val: 0.3718, [best_batch: 08400] best val: 0.3890\n"
     ]
    },
    {
     "name": "stderr",
     "output_type": "stream",
     "text": [
      "132it [00:41,  3.82it/s]"
     ]
    },
    {
     "name": "stdout",
     "output_type": "stream",
     "text": [
      "[current_batch: 09500] loss: 1.533, learning rate: 0.000100\n"
     ]
    },
    {
     "name": "stderr",
     "output_type": "stream",
     "text": [
      "232it [01:08,  3.79it/s]"
     ]
    },
    {
     "name": "stdout",
     "output_type": "stream",
     "text": [
      "[current_batch: 09600] loss: 1.490, learning rate: 0.000100\n",
      "Starting validation ...\n"
     ]
    },
    {
     "name": "stderr",
     "output_type": "stream",
     "text": [
      "233it [01:15,  2.28s/it]"
     ]
    },
    {
     "name": "stdout",
     "output_type": "stream",
     "text": [
      "[current_batch: 09600] val: 0.3838, [best_batch: 08400] best val: 0.3890\n"
     ]
    },
    {
     "name": "stderr",
     "output_type": "stream",
     "text": [
      "332it [01:41,  3.84it/s]"
     ]
    },
    {
     "name": "stdout",
     "output_type": "stream",
     "text": [
      "[current_batch: 09700] loss: 1.641, learning rate: 0.000100\n"
     ]
    },
    {
     "name": "stderr",
     "output_type": "stream",
     "text": [
      "432it [02:07,  3.81it/s]"
     ]
    },
    {
     "name": "stdout",
     "output_type": "stream",
     "text": [
      "[current_batch: 09800] loss: 1.595, learning rate: 0.000100\n",
      "Starting validation ...\n"
     ]
    },
    {
     "name": "stderr",
     "output_type": "stream",
     "text": [
      "433it [02:14,  2.27s/it]"
     ]
    },
    {
     "name": "stdout",
     "output_type": "stream",
     "text": [
      "[current_batch: 09800] val: 0.3890, [best_batch: 08400] best val: 0.3890\n"
     ]
    },
    {
     "name": "stderr",
     "output_type": "stream",
     "text": [
      "492it [02:29,  3.81it/s]"
     ]
    },
    {
     "name": "stdout",
     "output_type": "stream",
     "text": [
      "Starting validation ...\n"
     ]
    },
    {
     "name": "stderr",
     "output_type": "stream",
     "text": [
      "493it [02:36,  3.15it/s]"
     ]
    },
    {
     "name": "stdout",
     "output_type": "stream",
     "text": [
      "[current_batch: 09860] val: 0.3873, [best_batch: 08400] best val: 0.3890\n"
     ]
    },
    {
     "name": "stderr",
     "output_type": "stream",
     "text": [
      "\n",
      "39it [00:10,  3.75it/s]"
     ]
    },
    {
     "name": "stdout",
     "output_type": "stream",
     "text": [
      "[current_batch: 09900] loss: 0.618, learning rate: 0.000100\n"
     ]
    },
    {
     "name": "stderr",
     "output_type": "stream",
     "text": [
      "139it [00:36,  3.83it/s]"
     ]
    },
    {
     "name": "stdout",
     "output_type": "stream",
     "text": [
      "[current_batch: 10000] loss: 1.485, learning rate: 0.000100\n",
      "Starting validation ...\n"
     ]
    },
    {
     "name": "stderr",
     "output_type": "stream",
     "text": [
      "140it [00:43,  2.28s/it]"
     ]
    },
    {
     "name": "stdout",
     "output_type": "stream",
     "text": [
      "[current_batch: 10000] val: 0.3787, [best_batch: 08400] best val: 0.3890\n"
     ]
    },
    {
     "name": "stderr",
     "output_type": "stream",
     "text": [
      "239it [01:10,  3.82it/s]"
     ]
    },
    {
     "name": "stdout",
     "output_type": "stream",
     "text": [
      "[current_batch: 10100] loss: 1.514, learning rate: 0.000100\n"
     ]
    },
    {
     "name": "stderr",
     "output_type": "stream",
     "text": [
      "339it [01:36,  3.81it/s]"
     ]
    },
    {
     "name": "stdout",
     "output_type": "stream",
     "text": [
      "[current_batch: 10200] loss: 1.491, learning rate: 0.000100\n",
      "Starting validation ...\n"
     ]
    },
    {
     "name": "stderr",
     "output_type": "stream",
     "text": [
      "340it [01:44,  2.41s/it]"
     ]
    },
    {
     "name": "stdout",
     "output_type": "stream",
     "text": [
      "[current_batch: 10200] val: 0.3924, [best_batch: 10200] best val: 0.3924\n"
     ]
    },
    {
     "name": "stderr",
     "output_type": "stream",
     "text": [
      "439it [02:10,  3.79it/s]"
     ]
    },
    {
     "name": "stdout",
     "output_type": "stream",
     "text": [
      "[current_batch: 10300] loss: 1.488, learning rate: 0.000100\n"
     ]
    },
    {
     "name": "stderr",
     "output_type": "stream",
     "text": [
      "492it [02:24,  3.78it/s]"
     ]
    },
    {
     "name": "stdout",
     "output_type": "stream",
     "text": [
      "Starting validation ...\n"
     ]
    },
    {
     "name": "stderr",
     "output_type": "stream",
     "text": [
      "493it [02:31,  3.25it/s]"
     ]
    },
    {
     "name": "stdout",
     "output_type": "stream",
     "text": [
      "[current_batch: 10353] val: 0.3941, [best_batch: 10353] best val: 0.3941\n"
     ]
    },
    {
     "name": "stderr",
     "output_type": "stream",
     "text": [
      "\n",
      "46it [00:12,  3.78it/s]"
     ]
    },
    {
     "name": "stdout",
     "output_type": "stream",
     "text": [
      "[current_batch: 10400] loss: 0.663, learning rate: 0.000100\n",
      "Starting validation ...\n"
     ]
    },
    {
     "name": "stderr",
     "output_type": "stream",
     "text": [
      "47it [00:19,  2.28s/it]"
     ]
    },
    {
     "name": "stdout",
     "output_type": "stream",
     "text": [
      "[current_batch: 10400] val: 0.3941, [best_batch: 10353] best val: 0.3941\n"
     ]
    },
    {
     "name": "stderr",
     "output_type": "stream",
     "text": [
      "146it [00:45,  3.76it/s]"
     ]
    },
    {
     "name": "stdout",
     "output_type": "stream",
     "text": [
      "[current_batch: 10500] loss: 1.512, learning rate: 0.000100\n"
     ]
    },
    {
     "name": "stderr",
     "output_type": "stream",
     "text": [
      "246it [01:12,  3.81it/s]"
     ]
    },
    {
     "name": "stdout",
     "output_type": "stream",
     "text": [
      "[current_batch: 10600] loss: 1.451, learning rate: 0.000100\n",
      "Starting validation ...\n"
     ]
    },
    {
     "name": "stderr",
     "output_type": "stream",
     "text": [
      "247it [01:19,  2.43s/it]"
     ]
    },
    {
     "name": "stdout",
     "output_type": "stream",
     "text": [
      "[current_batch: 10600] val: 0.4114, [best_batch: 10600] best val: 0.4114\n"
     ]
    },
    {
     "name": "stderr",
     "output_type": "stream",
     "text": [
      "346it [01:45,  3.80it/s]"
     ]
    },
    {
     "name": "stdout",
     "output_type": "stream",
     "text": [
      "[current_batch: 10700] loss: 1.506, learning rate: 0.000100\n"
     ]
    },
    {
     "name": "stderr",
     "output_type": "stream",
     "text": [
      "446it [02:12,  3.82it/s]"
     ]
    },
    {
     "name": "stdout",
     "output_type": "stream",
     "text": [
      "[current_batch: 10800] loss: 1.446, learning rate: 0.000100\n",
      "Starting validation ...\n"
     ]
    },
    {
     "name": "stderr",
     "output_type": "stream",
     "text": [
      "447it [02:19,  2.26s/it]"
     ]
    },
    {
     "name": "stdout",
     "output_type": "stream",
     "text": [
      "[current_batch: 10800] val: 0.3924, [best_batch: 10600] best val: 0.4114\n"
     ]
    },
    {
     "name": "stderr",
     "output_type": "stream",
     "text": [
      "492it [02:30,  3.85it/s]"
     ]
    },
    {
     "name": "stdout",
     "output_type": "stream",
     "text": [
      "Starting validation ...\n"
     ]
    },
    {
     "name": "stderr",
     "output_type": "stream",
     "text": [
      "493it [02:37,  3.13it/s]"
     ]
    },
    {
     "name": "stdout",
     "output_type": "stream",
     "text": [
      "[current_batch: 10846] val: 0.3855, [best_batch: 10600] best val: 0.4114\n"
     ]
    },
    {
     "name": "stderr",
     "output_type": "stream",
     "text": [
      "\n",
      "53it [00:14,  3.84it/s]"
     ]
    },
    {
     "name": "stdout",
     "output_type": "stream",
     "text": [
      "[current_batch: 10900] loss: 0.736, learning rate: 0.000100\n"
     ]
    },
    {
     "name": "stderr",
     "output_type": "stream",
     "text": [
      "153it [00:40,  3.76it/s]"
     ]
    },
    {
     "name": "stdout",
     "output_type": "stream",
     "text": [
      "[current_batch: 11000] loss: 1.458, learning rate: 0.000100\n",
      "Starting validation ...\n"
     ]
    },
    {
     "name": "stderr",
     "output_type": "stream",
     "text": [
      "154it [00:48,  2.43s/it]"
     ]
    },
    {
     "name": "stdout",
     "output_type": "stream",
     "text": [
      "[current_batch: 11000] val: 0.4131, [best_batch: 11000] best val: 0.4131\n"
     ]
    },
    {
     "name": "stderr",
     "output_type": "stream",
     "text": [
      "253it [01:14,  3.80it/s]"
     ]
    },
    {
     "name": "stdout",
     "output_type": "stream",
     "text": [
      "[current_batch: 11100] loss: 1.500, learning rate: 0.000100\n"
     ]
    },
    {
     "name": "stderr",
     "output_type": "stream",
     "text": [
      "353it [01:40,  3.80it/s]"
     ]
    },
    {
     "name": "stdout",
     "output_type": "stream",
     "text": [
      "[current_batch: 11200] loss: 1.400, learning rate: 0.000100\n",
      "Starting validation ...\n"
     ]
    },
    {
     "name": "stderr",
     "output_type": "stream",
     "text": [
      "354it [01:47,  2.28s/it]"
     ]
    },
    {
     "name": "stdout",
     "output_type": "stream",
     "text": [
      "[current_batch: 11200] val: 0.3941, [best_batch: 11000] best val: 0.4131\n"
     ]
    },
    {
     "name": "stderr",
     "output_type": "stream",
     "text": [
      "453it [02:13,  3.88it/s]"
     ]
    },
    {
     "name": "stdout",
     "output_type": "stream",
     "text": [
      "[current_batch: 11300] loss: 1.408, learning rate: 0.000100\n"
     ]
    },
    {
     "name": "stderr",
     "output_type": "stream",
     "text": [
      "492it [02:24,  3.80it/s]"
     ]
    },
    {
     "name": "stdout",
     "output_type": "stream",
     "text": [
      "Starting validation ...\n"
     ]
    },
    {
     "name": "stderr",
     "output_type": "stream",
     "text": [
      "493it [02:30,  3.26it/s]"
     ]
    },
    {
     "name": "stdout",
     "output_type": "stream",
     "text": [
      "[current_batch: 11339] val: 0.4028, [best_batch: 11000] best val: 0.4131\n"
     ]
    },
    {
     "name": "stderr",
     "output_type": "stream",
     "text": [
      "\n",
      "60it [00:15,  3.79it/s]"
     ]
    },
    {
     "name": "stdout",
     "output_type": "stream",
     "text": [
      "[current_batch: 11400] loss: 0.808, learning rate: 0.000100\n",
      "Starting validation ...\n"
     ]
    },
    {
     "name": "stderr",
     "output_type": "stream",
     "text": [
      "61it [00:22,  2.27s/it]"
     ]
    },
    {
     "name": "stdout",
     "output_type": "stream",
     "text": [
      "[current_batch: 11400] val: 0.3907, [best_batch: 11000] best val: 0.4131\n"
     ]
    },
    {
     "name": "stderr",
     "output_type": "stream",
     "text": [
      "160it [00:48,  3.83it/s]"
     ]
    },
    {
     "name": "stdout",
     "output_type": "stream",
     "text": [
      "[current_batch: 11500] loss: 1.378, learning rate: 0.000100\n"
     ]
    },
    {
     "name": "stderr",
     "output_type": "stream",
     "text": [
      "260it [01:15,  3.87it/s]"
     ]
    },
    {
     "name": "stdout",
     "output_type": "stream",
     "text": [
      "[current_batch: 11600] loss: 1.366, learning rate: 0.000100\n",
      "Starting validation ...\n"
     ]
    },
    {
     "name": "stderr",
     "output_type": "stream",
     "text": [
      "261it [01:22,  2.27s/it]"
     ]
    },
    {
     "name": "stdout",
     "output_type": "stream",
     "text": [
      "[current_batch: 11600] val: 0.3821, [best_batch: 11000] best val: 0.4131\n"
     ]
    },
    {
     "name": "stderr",
     "output_type": "stream",
     "text": [
      "360it [01:48,  3.82it/s]"
     ]
    },
    {
     "name": "stdout",
     "output_type": "stream",
     "text": [
      "[current_batch: 11700] loss: 1.362, learning rate: 0.000100\n"
     ]
    },
    {
     "name": "stderr",
     "output_type": "stream",
     "text": [
      "460it [02:14,  3.81it/s]"
     ]
    },
    {
     "name": "stdout",
     "output_type": "stream",
     "text": [
      "[current_batch: 11800] loss: 1.407, learning rate: 0.000100\n",
      "Starting validation ...\n"
     ]
    },
    {
     "name": "stderr",
     "output_type": "stream",
     "text": [
      "461it [02:21,  2.28s/it]"
     ]
    },
    {
     "name": "stdout",
     "output_type": "stream",
     "text": [
      "[current_batch: 11800] val: 0.3838, [best_batch: 11000] best val: 0.4131\n"
     ]
    },
    {
     "name": "stderr",
     "output_type": "stream",
     "text": [
      "492it [02:30,  3.73it/s]"
     ]
    },
    {
     "name": "stdout",
     "output_type": "stream",
     "text": [
      "Starting validation ...\n"
     ]
    },
    {
     "name": "stderr",
     "output_type": "stream",
     "text": [
      "493it [02:36,  3.14it/s]"
     ]
    },
    {
     "name": "stdout",
     "output_type": "stream",
     "text": [
      "[current_batch: 11832] val: 0.3787, [best_batch: 11000] best val: 0.4131\n"
     ]
    },
    {
     "name": "stderr",
     "output_type": "stream",
     "text": [
      "\n",
      "67it [00:17,  3.82it/s]"
     ]
    },
    {
     "name": "stdout",
     "output_type": "stream",
     "text": [
      "[current_batch: 11900] loss: 0.881, learning rate: 0.000100\n"
     ]
    },
    {
     "name": "stderr",
     "output_type": "stream",
     "text": [
      "167it [00:44,  3.82it/s]"
     ]
    },
    {
     "name": "stdout",
     "output_type": "stream",
     "text": [
      "[current_batch: 12000] loss: 1.324, learning rate: 0.000100\n",
      "Starting validation ...\n"
     ]
    },
    {
     "name": "stderr",
     "output_type": "stream",
     "text": [
      "168it [00:51,  2.27s/it]"
     ]
    },
    {
     "name": "stdout",
     "output_type": "stream",
     "text": [
      "[current_batch: 12000] val: 0.4028, [best_batch: 11000] best val: 0.4131\n"
     ]
    },
    {
     "name": "stderr",
     "output_type": "stream",
     "text": [
      "267it [01:17,  3.81it/s]"
     ]
    },
    {
     "name": "stdout",
     "output_type": "stream",
     "text": [
      "[current_batch: 12100] loss: 1.270, learning rate: 0.000100\n"
     ]
    },
    {
     "name": "stderr",
     "output_type": "stream",
     "text": [
      "367it [01:43,  3.81it/s]"
     ]
    },
    {
     "name": "stdout",
     "output_type": "stream",
     "text": [
      "[current_batch: 12200] loss: 1.373, learning rate: 0.000100\n",
      "Starting validation ...\n"
     ]
    },
    {
     "name": "stderr",
     "output_type": "stream",
     "text": [
      "368it [01:50,  2.28s/it]"
     ]
    },
    {
     "name": "stdout",
     "output_type": "stream",
     "text": [
      "[current_batch: 12200] val: 0.3941, [best_batch: 11000] best val: 0.4131\n"
     ]
    },
    {
     "name": "stderr",
     "output_type": "stream",
     "text": [
      "467it [02:16,  3.85it/s]"
     ]
    },
    {
     "name": "stdout",
     "output_type": "stream",
     "text": [
      "[current_batch: 12300] loss: 1.311, learning rate: 0.000100\n"
     ]
    },
    {
     "name": "stderr",
     "output_type": "stream",
     "text": [
      "492it [02:23,  3.85it/s]"
     ]
    },
    {
     "name": "stdout",
     "output_type": "stream",
     "text": [
      "Starting validation ...\n"
     ]
    },
    {
     "name": "stderr",
     "output_type": "stream",
     "text": [
      "493it [02:30,  3.28it/s]"
     ]
    },
    {
     "name": "stdout",
     "output_type": "stream",
     "text": [
      "[current_batch: 12325] val: 0.3924, [best_batch: 11000] best val: 0.4131\n"
     ]
    },
    {
     "name": "stderr",
     "output_type": "stream",
     "text": [
      "\n",
      "74it [00:19,  3.76it/s]"
     ]
    },
    {
     "name": "stdout",
     "output_type": "stream",
     "text": [
      "[current_batch: 12400] loss: 0.934, learning rate: 0.000100\n",
      "Starting validation ...\n"
     ]
    },
    {
     "name": "stderr",
     "output_type": "stream",
     "text": [
      "75it [00:26,  2.29s/it]"
     ]
    },
    {
     "name": "stdout",
     "output_type": "stream",
     "text": [
      "[current_batch: 12400] val: 0.3907, [best_batch: 11000] best val: 0.4131\n"
     ]
    },
    {
     "name": "stderr",
     "output_type": "stream",
     "text": [
      "174it [00:52,  3.82it/s]"
     ]
    },
    {
     "name": "stdout",
     "output_type": "stream",
     "text": [
      "[current_batch: 12500] loss: 1.239, learning rate: 0.000100\n"
     ]
    },
    {
     "name": "stderr",
     "output_type": "stream",
     "text": [
      "274it [01:19,  3.78it/s]"
     ]
    },
    {
     "name": "stdout",
     "output_type": "stream",
     "text": [
      "[current_batch: 12600] loss: 1.337, learning rate: 0.000100\n",
      "Starting validation ...\n"
     ]
    },
    {
     "name": "stderr",
     "output_type": "stream",
     "text": [
      "275it [01:26,  2.28s/it]"
     ]
    },
    {
     "name": "stdout",
     "output_type": "stream",
     "text": [
      "[current_batch: 12600] val: 0.3804, [best_batch: 11000] best val: 0.4131\n"
     ]
    },
    {
     "name": "stderr",
     "output_type": "stream",
     "text": [
      "374it [01:52,  3.79it/s]"
     ]
    },
    {
     "name": "stdout",
     "output_type": "stream",
     "text": [
      "[current_batch: 12700] loss: 1.253, learning rate: 0.000100\n"
     ]
    },
    {
     "name": "stderr",
     "output_type": "stream",
     "text": [
      "474it [02:18,  3.81it/s]"
     ]
    },
    {
     "name": "stdout",
     "output_type": "stream",
     "text": [
      "[current_batch: 12800] loss: 1.276, learning rate: 0.000100\n",
      "Starting validation ...\n"
     ]
    },
    {
     "name": "stderr",
     "output_type": "stream",
     "text": [
      "475it [02:25,  2.28s/it]"
     ]
    },
    {
     "name": "stdout",
     "output_type": "stream",
     "text": [
      "[current_batch: 12800] val: 0.3804, [best_batch: 11000] best val: 0.4131\n"
     ]
    },
    {
     "name": "stderr",
     "output_type": "stream",
     "text": [
      "492it [02:30,  3.72it/s]"
     ]
    },
    {
     "name": "stdout",
     "output_type": "stream",
     "text": [
      "Starting validation ...\n"
     ]
    },
    {
     "name": "stderr",
     "output_type": "stream",
     "text": [
      "493it [02:37,  3.14it/s]"
     ]
    },
    {
     "name": "stdout",
     "output_type": "stream",
     "text": [
      "[current_batch: 12818] val: 0.3769, [best_batch: 11000] best val: 0.4131\n"
     ]
    },
    {
     "name": "stderr",
     "output_type": "stream",
     "text": [
      "\n",
      "81it [00:21,  3.83it/s]"
     ]
    },
    {
     "name": "stdout",
     "output_type": "stream",
     "text": [
      "[current_batch: 12900] loss: 0.940, learning rate: 0.000100\n"
     ]
    },
    {
     "name": "stderr",
     "output_type": "stream",
     "text": [
      "181it [00:48,  3.83it/s]"
     ]
    },
    {
     "name": "stdout",
     "output_type": "stream",
     "text": [
      "[current_batch: 13000] loss: 1.234, learning rate: 0.000100\n",
      "Starting validation ...\n"
     ]
    },
    {
     "name": "stderr",
     "output_type": "stream",
     "text": [
      "182it [00:55,  2.28s/it]"
     ]
    },
    {
     "name": "stdout",
     "output_type": "stream",
     "text": [
      "[current_batch: 13000] val: 0.3838, [best_batch: 11000] best val: 0.4131\n"
     ]
    },
    {
     "name": "stderr",
     "output_type": "stream",
     "text": [
      "281it [01:20,  3.84it/s]"
     ]
    },
    {
     "name": "stdout",
     "output_type": "stream",
     "text": [
      "[current_batch: 13100] loss: 1.207, learning rate: 0.000100\n"
     ]
    },
    {
     "name": "stderr",
     "output_type": "stream",
     "text": [
      "381it [01:47,  3.78it/s]"
     ]
    },
    {
     "name": "stdout",
     "output_type": "stream",
     "text": [
      "[current_batch: 13200] loss: 1.207, learning rate: 0.000100\n",
      "Starting validation ...\n"
     ]
    },
    {
     "name": "stderr",
     "output_type": "stream",
     "text": [
      "382it [01:54,  2.27s/it]"
     ]
    },
    {
     "name": "stdout",
     "output_type": "stream",
     "text": [
      "[current_batch: 13200] val: 0.3907, [best_batch: 11000] best val: 0.4131\n"
     ]
    },
    {
     "name": "stderr",
     "output_type": "stream",
     "text": [
      "481it [02:20,  3.81it/s]"
     ]
    },
    {
     "name": "stdout",
     "output_type": "stream",
     "text": [
      "[current_batch: 13300] loss: 1.268, learning rate: 0.000100\n"
     ]
    },
    {
     "name": "stderr",
     "output_type": "stream",
     "text": [
      "492it [02:23,  3.82it/s]"
     ]
    },
    {
     "name": "stdout",
     "output_type": "stream",
     "text": [
      "Starting validation ...\n"
     ]
    },
    {
     "name": "stderr",
     "output_type": "stream",
     "text": [
      "493it [02:30,  3.27it/s]"
     ]
    },
    {
     "name": "stdout",
     "output_type": "stream",
     "text": [
      "[current_batch: 13311] val: 0.3873, [best_batch: 11000] best val: 0.4131\n"
     ]
    },
    {
     "name": "stderr",
     "output_type": "stream",
     "text": [
      "\n",
      "88it [00:23,  3.75it/s]"
     ]
    },
    {
     "name": "stdout",
     "output_type": "stream",
     "text": [
      "[current_batch: 13400] loss: 0.990, learning rate: 0.000100\n",
      "Starting validation ...\n"
     ]
    },
    {
     "name": "stderr",
     "output_type": "stream",
     "text": [
      "89it [00:30,  2.29s/it]"
     ]
    },
    {
     "name": "stdout",
     "output_type": "stream",
     "text": [
      "[current_batch: 13400] val: 0.3821, [best_batch: 11000] best val: 0.4131\n"
     ]
    },
    {
     "name": "stderr",
     "output_type": "stream",
     "text": [
      "188it [00:56,  3.77it/s]"
     ]
    },
    {
     "name": "stdout",
     "output_type": "stream",
     "text": [
      "[current_batch: 13500] loss: 1.132, learning rate: 0.000100\n"
     ]
    },
    {
     "name": "stderr",
     "output_type": "stream",
     "text": [
      "288it [01:22,  3.85it/s]"
     ]
    },
    {
     "name": "stdout",
     "output_type": "stream",
     "text": [
      "[current_batch: 13600] loss: 1.151, learning rate: 0.000100\n",
      "Starting validation ...\n"
     ]
    },
    {
     "name": "stderr",
     "output_type": "stream",
     "text": [
      "289it [01:29,  2.27s/it]"
     ]
    },
    {
     "name": "stdout",
     "output_type": "stream",
     "text": [
      "[current_batch: 13600] val: 0.3993, [best_batch: 11000] best val: 0.4131\n"
     ]
    },
    {
     "name": "stderr",
     "output_type": "stream",
     "text": [
      "388it [01:55,  3.84it/s]"
     ]
    },
    {
     "name": "stdout",
     "output_type": "stream",
     "text": [
      "[current_batch: 13700] loss: 1.190, learning rate: 0.000100\n"
     ]
    },
    {
     "name": "stderr",
     "output_type": "stream",
     "text": [
      "488it [02:22,  3.80it/s]"
     ]
    },
    {
     "name": "stdout",
     "output_type": "stream",
     "text": [
      "[current_batch: 13800] loss: 1.237, learning rate: 0.000100\n",
      "Starting validation ...\n"
     ]
    },
    {
     "name": "stderr",
     "output_type": "stream",
     "text": [
      "489it [02:29,  2.29s/it]"
     ]
    },
    {
     "name": "stdout",
     "output_type": "stream",
     "text": [
      "[current_batch: 13800] val: 0.3959, [best_batch: 11000] best val: 0.4131\n"
     ]
    },
    {
     "name": "stderr",
     "output_type": "stream",
     "text": [
      "492it [02:29,  1.05it/s]"
     ]
    },
    {
     "name": "stdout",
     "output_type": "stream",
     "text": [
      "Starting validation ...\n"
     ]
    },
    {
     "name": "stderr",
     "output_type": "stream",
     "text": [
      "493it [02:36,  3.15it/s]"
     ]
    },
    {
     "name": "stdout",
     "output_type": "stream",
     "text": [
      "[current_batch: 13804] val: 0.3959, [best_batch: 11000] best val: 0.4131\n"
     ]
    },
    {
     "name": "stderr",
     "output_type": "stream",
     "text": [
      "\n",
      "95it [00:25,  3.76it/s]"
     ]
    },
    {
     "name": "stdout",
     "output_type": "stream",
     "text": [
      "[current_batch: 13900] loss: 1.038, learning rate: 0.000100\n"
     ]
    },
    {
     "name": "stderr",
     "output_type": "stream",
     "text": [
      "195it [00:51,  3.82it/s]"
     ]
    },
    {
     "name": "stdout",
     "output_type": "stream",
     "text": [
      "[current_batch: 14000] loss: 1.086, learning rate: 0.000100\n",
      "Starting validation ...\n"
     ]
    },
    {
     "name": "stderr",
     "output_type": "stream",
     "text": [
      "196it [00:58,  2.28s/it]"
     ]
    },
    {
     "name": "stdout",
     "output_type": "stream",
     "text": [
      "[current_batch: 14000] val: 0.3976, [best_batch: 11000] best val: 0.4131\n"
     ]
    },
    {
     "name": "stderr",
     "output_type": "stream",
     "text": [
      "295it [01:24,  3.77it/s]"
     ]
    },
    {
     "name": "stdout",
     "output_type": "stream",
     "text": [
      "[current_batch: 14100] loss: 1.150, learning rate: 0.000100\n"
     ]
    },
    {
     "name": "stderr",
     "output_type": "stream",
     "text": [
      "395it [01:51,  3.77it/s]"
     ]
    },
    {
     "name": "stdout",
     "output_type": "stream",
     "text": [
      "[current_batch: 14200] loss: 1.197, learning rate: 0.000100\n",
      "Starting validation ...\n"
     ]
    },
    {
     "name": "stderr",
     "output_type": "stream",
     "text": [
      "396it [01:58,  2.29s/it]"
     ]
    },
    {
     "name": "stdout",
     "output_type": "stream",
     "text": [
      "[current_batch: 14200] val: 0.3821, [best_batch: 11000] best val: 0.4131\n"
     ]
    },
    {
     "name": "stderr",
     "output_type": "stream",
     "text": [
      "492it [02:24,  3.76it/s]"
     ]
    },
    {
     "name": "stdout",
     "output_type": "stream",
     "text": [
      "Starting validation ...\n"
     ]
    },
    {
     "name": "stderr",
     "output_type": "stream",
     "text": [
      "493it [02:30,  3.27it/s]"
     ]
    },
    {
     "name": "stdout",
     "output_type": "stream",
     "text": [
      "[current_batch: 14297] val: 0.3873, [best_batch: 11000] best val: 0.4131\n"
     ]
    },
    {
     "name": "stderr",
     "output_type": "stream",
     "text": [
      "\n",
      "2it [00:00,  3.28it/s]"
     ]
    },
    {
     "name": "stdout",
     "output_type": "stream",
     "text": [
      "[current_batch: 14300] loss: 0.028, learning rate: 0.000100\n"
     ]
    },
    {
     "name": "stderr",
     "output_type": "stream",
     "text": [
      "102it [00:27,  3.76it/s]"
     ]
    },
    {
     "name": "stdout",
     "output_type": "stream",
     "text": [
      "[current_batch: 14400] loss: 1.041, learning rate: 0.000100\n",
      "Starting validation ...\n"
     ]
    },
    {
     "name": "stderr",
     "output_type": "stream",
     "text": [
      "103it [00:34,  2.29s/it]"
     ]
    },
    {
     "name": "stdout",
     "output_type": "stream",
     "text": [
      "[current_batch: 14400] val: 0.3838, [best_batch: 11000] best val: 0.4131\n"
     ]
    },
    {
     "name": "stderr",
     "output_type": "stream",
     "text": [
      "202it [01:00,  3.84it/s]"
     ]
    },
    {
     "name": "stdout",
     "output_type": "stream",
     "text": [
      "[current_batch: 14500] loss: 1.136, learning rate: 0.000100\n"
     ]
    },
    {
     "name": "stderr",
     "output_type": "stream",
     "text": [
      "302it [01:26,  3.77it/s]"
     ]
    },
    {
     "name": "stdout",
     "output_type": "stream",
     "text": [
      "[current_batch: 14600] loss: 1.104, learning rate: 0.000100\n",
      "Starting validation ...\n"
     ]
    },
    {
     "name": "stderr",
     "output_type": "stream",
     "text": [
      "303it [01:33,  2.29s/it]"
     ]
    },
    {
     "name": "stdout",
     "output_type": "stream",
     "text": [
      "[current_batch: 14600] val: 0.3907, [best_batch: 11000] best val: 0.4131\n"
     ]
    },
    {
     "name": "stderr",
     "output_type": "stream",
     "text": [
      "402it [01:59,  3.76it/s]"
     ]
    },
    {
     "name": "stdout",
     "output_type": "stream",
     "text": [
      "[current_batch: 14700] loss: 1.090, learning rate: 0.000100\n"
     ]
    },
    {
     "name": "stderr",
     "output_type": "stream",
     "text": [
      "492it [02:23,  3.78it/s]"
     ]
    },
    {
     "name": "stdout",
     "output_type": "stream",
     "text": [
      "Starting validation ...\n"
     ]
    },
    {
     "name": "stderr",
     "output_type": "stream",
     "text": [
      "493it [02:30,  3.27it/s]"
     ]
    },
    {
     "name": "stdout",
     "output_type": "stream",
     "text": [
      "[current_batch: 14790] val: 0.3873, [best_batch: 11000] best val: 0.4131\n"
     ]
    },
    {
     "name": "stderr",
     "output_type": "stream",
     "text": [
      "\n",
      "9it [00:02,  3.80it/s]"
     ]
    },
    {
     "name": "stdout",
     "output_type": "stream",
     "text": [
      "[current_batch: 14800] loss: 0.086, learning rate: 0.000100\n",
      "Starting validation ...\n"
     ]
    },
    {
     "name": "stderr",
     "output_type": "stream",
     "text": [
      "10it [00:09,  2.35s/it]"
     ]
    },
    {
     "name": "stdout",
     "output_type": "stream",
     "text": [
      "[current_batch: 14800] val: 0.3855, [best_batch: 11000] best val: 0.4131\n"
     ]
    },
    {
     "name": "stderr",
     "output_type": "stream",
     "text": [
      "109it [00:35,  3.81it/s]"
     ]
    },
    {
     "name": "stdout",
     "output_type": "stream",
     "text": [
      "[current_batch: 14900] loss: 0.960, learning rate: 0.000100\n"
     ]
    },
    {
     "name": "stderr",
     "output_type": "stream",
     "text": [
      "209it [01:01,  3.81it/s]"
     ]
    },
    {
     "name": "stdout",
     "output_type": "stream",
     "text": [
      "[current_batch: 15000] loss: 1.039, learning rate: 0.000100\n",
      "Starting validation ...\n"
     ]
    },
    {
     "name": "stderr",
     "output_type": "stream",
     "text": [
      "210it [01:08,  2.28s/it]"
     ]
    },
    {
     "name": "stdout",
     "output_type": "stream",
     "text": [
      "[current_batch: 15000] val: 0.3907, [best_batch: 11000] best val: 0.4131\n"
     ]
    },
    {
     "name": "stderr",
     "output_type": "stream",
     "text": [
      "309it [01:35,  3.76it/s]"
     ]
    },
    {
     "name": "stdout",
     "output_type": "stream",
     "text": [
      "[current_batch: 15100] loss: 1.037, learning rate: 0.000100\n"
     ]
    },
    {
     "name": "stderr",
     "output_type": "stream",
     "text": [
      "409it [02:01,  3.75it/s]"
     ]
    },
    {
     "name": "stdout",
     "output_type": "stream",
     "text": [
      "[current_batch: 15200] loss: 1.130, learning rate: 0.000100\n",
      "Starting validation ...\n"
     ]
    },
    {
     "name": "stderr",
     "output_type": "stream",
     "text": [
      "410it [02:09,  2.29s/it]"
     ]
    },
    {
     "name": "stdout",
     "output_type": "stream",
     "text": [
      "[current_batch: 15200] val: 0.3787, [best_batch: 11000] best val: 0.4131\n"
     ]
    },
    {
     "name": "stderr",
     "output_type": "stream",
     "text": [
      "492it [02:30,  3.81it/s]"
     ]
    },
    {
     "name": "stdout",
     "output_type": "stream",
     "text": [
      "Starting validation ...\n"
     ]
    },
    {
     "name": "stderr",
     "output_type": "stream",
     "text": [
      "493it [02:37,  3.13it/s]"
     ]
    },
    {
     "name": "stdout",
     "output_type": "stream",
     "text": [
      "[current_batch: 15283] val: 0.3752, [best_batch: 11000] best val: 0.4131\n"
     ]
    },
    {
     "name": "stderr",
     "output_type": "stream",
     "text": [
      "\n",
      "16it [00:04,  3.76it/s]"
     ]
    },
    {
     "name": "stdout",
     "output_type": "stream",
     "text": [
      "[current_batch: 15300] loss: 0.151, learning rate: 0.000100\n"
     ]
    },
    {
     "name": "stderr",
     "output_type": "stream",
     "text": [
      "116it [00:31,  3.74it/s]"
     ]
    },
    {
     "name": "stdout",
     "output_type": "stream",
     "text": [
      "[current_batch: 15400] loss: 0.937, learning rate: 0.000100\n",
      "Starting validation ...\n"
     ]
    },
    {
     "name": "stderr",
     "output_type": "stream",
     "text": [
      "117it [00:38,  2.29s/it]"
     ]
    },
    {
     "name": "stdout",
     "output_type": "stream",
     "text": [
      "[current_batch: 15400] val: 0.3804, [best_batch: 11000] best val: 0.4131\n"
     ]
    },
    {
     "name": "stderr",
     "output_type": "stream",
     "text": [
      "216it [01:04,  3.79it/s]"
     ]
    },
    {
     "name": "stdout",
     "output_type": "stream",
     "text": [
      "[current_batch: 15500] loss: 1.009, learning rate: 0.000100\n"
     ]
    },
    {
     "name": "stderr",
     "output_type": "stream",
     "text": [
      "316it [01:30,  3.77it/s]"
     ]
    },
    {
     "name": "stdout",
     "output_type": "stream",
     "text": [
      "[current_batch: 15600] loss: 1.032, learning rate: 0.000100\n",
      "Starting validation ...\n"
     ]
    },
    {
     "name": "stderr",
     "output_type": "stream",
     "text": [
      "317it [01:37,  2.29s/it]"
     ]
    },
    {
     "name": "stdout",
     "output_type": "stream",
     "text": [
      "[current_batch: 15600] val: 0.3683, [best_batch: 11000] best val: 0.4131\n"
     ]
    },
    {
     "name": "stderr",
     "output_type": "stream",
     "text": [
      "416it [02:03,  3.81it/s]"
     ]
    },
    {
     "name": "stdout",
     "output_type": "stream",
     "text": [
      "[current_batch: 15700] loss: 1.021, learning rate: 0.000100\n"
     ]
    },
    {
     "name": "stderr",
     "output_type": "stream",
     "text": [
      "492it [02:23,  3.82it/s]"
     ]
    },
    {
     "name": "stdout",
     "output_type": "stream",
     "text": [
      "Starting validation ...\n"
     ]
    },
    {
     "name": "stderr",
     "output_type": "stream",
     "text": [
      "493it [02:30,  3.27it/s]"
     ]
    },
    {
     "name": "stdout",
     "output_type": "stream",
     "text": [
      "[current_batch: 15776] val: 0.3804, [best_batch: 11000] best val: 0.4131\n"
     ]
    },
    {
     "name": "stderr",
     "output_type": "stream",
     "text": [
      "\n",
      "23it [00:06,  3.80it/s]"
     ]
    },
    {
     "name": "stdout",
     "output_type": "stream",
     "text": [
      "[current_batch: 15800] loss: 0.223, learning rate: 0.000100\n",
      "Starting validation ...\n"
     ]
    },
    {
     "name": "stderr",
     "output_type": "stream",
     "text": [
      "24it [00:13,  2.29s/it]"
     ]
    },
    {
     "name": "stdout",
     "output_type": "stream",
     "text": [
      "[current_batch: 15800] val: 0.3873, [best_batch: 11000] best val: 0.4131\n"
     ]
    },
    {
     "name": "stderr",
     "output_type": "stream",
     "text": [
      "123it [00:39,  3.76it/s]"
     ]
    },
    {
     "name": "stdout",
     "output_type": "stream",
     "text": [
      "[current_batch: 15900] loss: 1.001, learning rate: 0.000100\n"
     ]
    },
    {
     "name": "stderr",
     "output_type": "stream",
     "text": [
      "223it [01:05,  3.77it/s]"
     ]
    },
    {
     "name": "stdout",
     "output_type": "stream",
     "text": [
      "[current_batch: 16000] loss: 0.877, learning rate: 0.000100\n",
      "Starting validation ...\n"
     ]
    },
    {
     "name": "stderr",
     "output_type": "stream",
     "text": [
      "224it [01:12,  2.29s/it]"
     ]
    },
    {
     "name": "stdout",
     "output_type": "stream",
     "text": [
      "[current_batch: 16000] val: 0.3855, [best_batch: 11000] best val: 0.4131\n"
     ]
    },
    {
     "name": "stderr",
     "output_type": "stream",
     "text": [
      "323it [01:38,  3.83it/s]"
     ]
    },
    {
     "name": "stdout",
     "output_type": "stream",
     "text": [
      "[current_batch: 16100] loss: 0.912, learning rate: 0.000100\n"
     ]
    },
    {
     "name": "stderr",
     "output_type": "stream",
     "text": [
      "423it [02:05,  3.80it/s]"
     ]
    },
    {
     "name": "stdout",
     "output_type": "stream",
     "text": [
      "[current_batch: 16200] loss: 1.064, learning rate: 0.000100\n",
      "Starting validation ...\n"
     ]
    },
    {
     "name": "stderr",
     "output_type": "stream",
     "text": [
      "424it [02:12,  2.27s/it]"
     ]
    },
    {
     "name": "stdout",
     "output_type": "stream",
     "text": [
      "[current_batch: 16200] val: 0.3821, [best_batch: 11000] best val: 0.4131\n"
     ]
    },
    {
     "name": "stderr",
     "output_type": "stream",
     "text": [
      "492it [02:30,  3.81it/s]"
     ]
    },
    {
     "name": "stdout",
     "output_type": "stream",
     "text": [
      "Starting validation ...\n"
     ]
    },
    {
     "name": "stderr",
     "output_type": "stream",
     "text": [
      "493it [02:36,  3.14it/s]"
     ]
    },
    {
     "name": "stdout",
     "output_type": "stream",
     "text": [
      "[current_batch: 16269] val: 0.3787, [best_batch: 11000] best val: 0.4131\n"
     ]
    },
    {
     "name": "stderr",
     "output_type": "stream",
     "text": [
      "\n",
      "30it [00:08,  3.80it/s]"
     ]
    },
    {
     "name": "stdout",
     "output_type": "stream",
     "text": [
      "[current_batch: 16300] loss: 0.297, learning rate: 0.000100\n"
     ]
    },
    {
     "name": "stderr",
     "output_type": "stream",
     "text": [
      "130it [00:34,  3.81it/s]"
     ]
    },
    {
     "name": "stdout",
     "output_type": "stream",
     "text": [
      "[current_batch: 16400] loss: 0.844, learning rate: 0.000100\n",
      "Starting validation ...\n"
     ]
    },
    {
     "name": "stderr",
     "output_type": "stream",
     "text": [
      "131it [00:41,  2.29s/it]"
     ]
    },
    {
     "name": "stdout",
     "output_type": "stream",
     "text": [
      "[current_batch: 16400] val: 0.3873, [best_batch: 11000] best val: 0.4131\n"
     ]
    },
    {
     "name": "stderr",
     "output_type": "stream",
     "text": [
      "230it [01:07,  3.81it/s]"
     ]
    },
    {
     "name": "stdout",
     "output_type": "stream",
     "text": [
      "[current_batch: 16500] loss: 0.952, learning rate: 0.000100\n"
     ]
    },
    {
     "name": "stderr",
     "output_type": "stream",
     "text": [
      "330it [01:34,  3.81it/s]"
     ]
    },
    {
     "name": "stdout",
     "output_type": "stream",
     "text": [
      "[current_batch: 16600] loss: 0.957, learning rate: 0.000100\n",
      "Starting validation ...\n"
     ]
    },
    {
     "name": "stderr",
     "output_type": "stream",
     "text": [
      "331it [01:41,  2.29s/it]"
     ]
    },
    {
     "name": "stdout",
     "output_type": "stream",
     "text": [
      "[current_batch: 16600] val: 0.3855, [best_batch: 11000] best val: 0.4131\n"
     ]
    },
    {
     "name": "stderr",
     "output_type": "stream",
     "text": [
      "430it [02:07,  3.79it/s]"
     ]
    },
    {
     "name": "stdout",
     "output_type": "stream",
     "text": [
      "[current_batch: 16700] loss: 0.957, learning rate: 0.000100\n"
     ]
    },
    {
     "name": "stderr",
     "output_type": "stream",
     "text": [
      "492it [02:24,  3.83it/s]"
     ]
    },
    {
     "name": "stdout",
     "output_type": "stream",
     "text": [
      "Starting validation ...\n"
     ]
    },
    {
     "name": "stderr",
     "output_type": "stream",
     "text": [
      "493it [02:31,  3.26it/s]"
     ]
    },
    {
     "name": "stdout",
     "output_type": "stream",
     "text": [
      "[current_batch: 16762] val: 0.3821, [best_batch: 11000] best val: 0.4131\n"
     ]
    },
    {
     "name": "stderr",
     "output_type": "stream",
     "text": [
      "\n",
      "37it [00:09,  3.83it/s]"
     ]
    },
    {
     "name": "stdout",
     "output_type": "stream",
     "text": [
      "[current_batch: 16800] loss: 0.302, learning rate: 0.000100\n",
      "Starting validation ...\n"
     ]
    },
    {
     "name": "stderr",
     "output_type": "stream",
     "text": [
      "38it [00:16,  2.28s/it]"
     ]
    },
    {
     "name": "stdout",
     "output_type": "stream",
     "text": [
      "[current_batch: 16800] val: 0.3769, [best_batch: 11000] best val: 0.4131\n"
     ]
    },
    {
     "name": "stderr",
     "output_type": "stream",
     "text": [
      "137it [00:42,  3.81it/s]"
     ]
    },
    {
     "name": "stdout",
     "output_type": "stream",
     "text": [
      "[current_batch: 16900] loss: 0.851, learning rate: 0.000100\n"
     ]
    },
    {
     "name": "stderr",
     "output_type": "stream",
     "text": [
      "237it [01:09,  3.81it/s]"
     ]
    },
    {
     "name": "stdout",
     "output_type": "stream",
     "text": [
      "[current_batch: 17000] loss: 0.892, learning rate: 0.000100\n",
      "Starting validation ...\n"
     ]
    },
    {
     "name": "stderr",
     "output_type": "stream",
     "text": [
      "238it [01:16,  2.29s/it]"
     ]
    },
    {
     "name": "stdout",
     "output_type": "stream",
     "text": [
      "[current_batch: 17000] val: 0.3804, [best_batch: 11000] best val: 0.4131\n"
     ]
    },
    {
     "name": "stderr",
     "output_type": "stream",
     "text": [
      "337it [01:42,  3.83it/s]"
     ]
    },
    {
     "name": "stdout",
     "output_type": "stream",
     "text": [
      "[current_batch: 17100] loss: 0.899, learning rate: 0.000100\n"
     ]
    },
    {
     "name": "stderr",
     "output_type": "stream",
     "text": [
      "437it [02:09,  3.74it/s]"
     ]
    },
    {
     "name": "stdout",
     "output_type": "stream",
     "text": [
      "[current_batch: 17200] loss: 0.940, learning rate: 0.000100\n",
      "Starting validation ...\n"
     ]
    },
    {
     "name": "stderr",
     "output_type": "stream",
     "text": [
      "438it [02:16,  2.30s/it]"
     ]
    },
    {
     "name": "stdout",
     "output_type": "stream",
     "text": [
      "[current_batch: 17200] val: 0.3718, [best_batch: 11000] best val: 0.4131\n"
     ]
    },
    {
     "name": "stderr",
     "output_type": "stream",
     "text": [
      "492it [02:30,  3.77it/s]"
     ]
    },
    {
     "name": "stdout",
     "output_type": "stream",
     "text": [
      "Starting validation ...\n"
     ]
    },
    {
     "name": "stderr",
     "output_type": "stream",
     "text": [
      "493it [02:37,  3.14it/s]"
     ]
    },
    {
     "name": "stdout",
     "output_type": "stream",
     "text": [
      "[current_batch: 17255] val: 0.3907, [best_batch: 11000] best val: 0.4131\n"
     ]
    },
    {
     "name": "stderr",
     "output_type": "stream",
     "text": [
      "\n",
      "44it [00:11,  3.81it/s]"
     ]
    },
    {
     "name": "stdout",
     "output_type": "stream",
     "text": [
      "[current_batch: 17300] loss: 0.422, learning rate: 0.000100\n"
     ]
    },
    {
     "name": "stderr",
     "output_type": "stream",
     "text": [
      "144it [00:38,  3.80it/s]"
     ]
    },
    {
     "name": "stdout",
     "output_type": "stream",
     "text": [
      "[current_batch: 17400] loss: 0.870, learning rate: 0.000100\n",
      "Starting validation ...\n"
     ]
    },
    {
     "name": "stderr",
     "output_type": "stream",
     "text": [
      "145it [00:45,  2.29s/it]"
     ]
    },
    {
     "name": "stdout",
     "output_type": "stream",
     "text": [
      "[current_batch: 17400] val: 0.4062, [best_batch: 11000] best val: 0.4131\n"
     ]
    },
    {
     "name": "stderr",
     "output_type": "stream",
     "text": [
      "244it [01:11,  3.76it/s]"
     ]
    },
    {
     "name": "stdout",
     "output_type": "stream",
     "text": [
      "[current_batch: 17500] loss: 0.902, learning rate: 0.000100\n"
     ]
    },
    {
     "name": "stderr",
     "output_type": "stream",
     "text": [
      "344it [01:37,  3.82it/s]"
     ]
    },
    {
     "name": "stdout",
     "output_type": "stream",
     "text": [
      "[current_batch: 17600] loss: 0.840, learning rate: 0.000100\n",
      "Starting validation ...\n"
     ]
    },
    {
     "name": "stderr",
     "output_type": "stream",
     "text": [
      "345it [01:44,  2.28s/it]"
     ]
    },
    {
     "name": "stdout",
     "output_type": "stream",
     "text": [
      "[current_batch: 17600] val: 0.3701, [best_batch: 11000] best val: 0.4131\n"
     ]
    },
    {
     "name": "stderr",
     "output_type": "stream",
     "text": [
      "444it [02:11,  3.77it/s]"
     ]
    },
    {
     "name": "stdout",
     "output_type": "stream",
     "text": [
      "[current_batch: 17700] loss: 0.870, learning rate: 0.000100\n"
     ]
    },
    {
     "name": "stderr",
     "output_type": "stream",
     "text": [
      "492it [02:23,  3.85it/s]"
     ]
    },
    {
     "name": "stdout",
     "output_type": "stream",
     "text": [
      "Starting validation ...\n"
     ]
    },
    {
     "name": "stderr",
     "output_type": "stream",
     "text": [
      "493it [02:30,  3.27it/s]"
     ]
    },
    {
     "name": "stdout",
     "output_type": "stream",
     "text": [
      "[current_batch: 17748] val: 0.3666, [best_batch: 11000] best val: 0.4131\n"
     ]
    },
    {
     "name": "stderr",
     "output_type": "stream",
     "text": [
      "\n",
      "51it [00:13,  3.84it/s]"
     ]
    },
    {
     "name": "stdout",
     "output_type": "stream",
     "text": [
      "[current_batch: 17800] loss: 0.455, learning rate: 0.000100\n",
      "Starting validation ...\n"
     ]
    },
    {
     "name": "stderr",
     "output_type": "stream",
     "text": [
      "52it [00:20,  2.30s/it]"
     ]
    },
    {
     "name": "stdout",
     "output_type": "stream",
     "text": [
      "[current_batch: 17800] val: 0.3666, [best_batch: 11000] best val: 0.4131\n"
     ]
    },
    {
     "name": "stderr",
     "output_type": "stream",
     "text": [
      "151it [00:46,  3.83it/s]"
     ]
    },
    {
     "name": "stdout",
     "output_type": "stream",
     "text": [
      "[current_batch: 17900] loss: 0.795, learning rate: 0.000100\n"
     ]
    },
    {
     "name": "stderr",
     "output_type": "stream",
     "text": [
      "251it [01:13,  3.84it/s]"
     ]
    },
    {
     "name": "stdout",
     "output_type": "stream",
     "text": [
      "[current_batch: 18000] loss: 0.797, learning rate: 0.000100\n",
      "Starting validation ...\n"
     ]
    },
    {
     "name": "stderr",
     "output_type": "stream",
     "text": [
      "252it [01:20,  2.28s/it]"
     ]
    },
    {
     "name": "stdout",
     "output_type": "stream",
     "text": [
      "[current_batch: 18000] val: 0.3752, [best_batch: 11000] best val: 0.4131\n"
     ]
    },
    {
     "name": "stderr",
     "output_type": "stream",
     "text": [
      "351it [01:45,  3.81it/s]"
     ]
    },
    {
     "name": "stdout",
     "output_type": "stream",
     "text": [
      "[current_batch: 18100] loss: 0.869, learning rate: 0.000100\n"
     ]
    },
    {
     "name": "stderr",
     "output_type": "stream",
     "text": [
      "451it [02:12,  3.78it/s]"
     ]
    },
    {
     "name": "stdout",
     "output_type": "stream",
     "text": [
      "[current_batch: 18200] loss: 0.824, learning rate: 0.000100\n",
      "Starting validation ...\n"
     ]
    },
    {
     "name": "stderr",
     "output_type": "stream",
     "text": [
      "452it [02:19,  2.29s/it]"
     ]
    },
    {
     "name": "stdout",
     "output_type": "stream",
     "text": [
      "[current_batch: 18200] val: 0.3838, [best_batch: 11000] best val: 0.4131\n"
     ]
    },
    {
     "name": "stderr",
     "output_type": "stream",
     "text": [
      "492it [02:30,  3.82it/s]"
     ]
    },
    {
     "name": "stdout",
     "output_type": "stream",
     "text": [
      "Starting validation ...\n"
     ]
    },
    {
     "name": "stderr",
     "output_type": "stream",
     "text": [
      "493it [02:37,  3.14it/s]"
     ]
    },
    {
     "name": "stdout",
     "output_type": "stream",
     "text": [
      "[current_batch: 18241] val: 0.3821, [best_batch: 11000] best val: 0.4131\n"
     ]
    },
    {
     "name": "stderr",
     "output_type": "stream",
     "text": [
      "\n",
      "58it [00:15,  3.81it/s]"
     ]
    },
    {
     "name": "stdout",
     "output_type": "stream",
     "text": [
      "[current_batch: 18300] loss: 0.472, learning rate: 0.000100\n"
     ]
    },
    {
     "name": "stderr",
     "output_type": "stream",
     "text": [
      "158it [00:41,  3.81it/s]"
     ]
    },
    {
     "name": "stdout",
     "output_type": "stream",
     "text": [
      "[current_batch: 18400] loss: 0.855, learning rate: 0.000100\n",
      "Starting validation ...\n"
     ]
    },
    {
     "name": "stderr",
     "output_type": "stream",
     "text": [
      "159it [00:48,  2.29s/it]"
     ]
    },
    {
     "name": "stdout",
     "output_type": "stream",
     "text": [
      "[current_batch: 18400] val: 0.3614, [best_batch: 11000] best val: 0.4131\n"
     ]
    },
    {
     "name": "stderr",
     "output_type": "stream",
     "text": [
      "258it [01:14,  3.82it/s]"
     ]
    },
    {
     "name": "stdout",
     "output_type": "stream",
     "text": [
      "[current_batch: 18500] loss: 0.831, learning rate: 0.000100\n"
     ]
    },
    {
     "name": "stderr",
     "output_type": "stream",
     "text": [
      "358it [01:41,  3.77it/s]"
     ]
    },
    {
     "name": "stdout",
     "output_type": "stream",
     "text": [
      "[current_batch: 18600] loss: 0.867, learning rate: 0.000100\n",
      "Starting validation ...\n"
     ]
    },
    {
     "name": "stderr",
     "output_type": "stream",
     "text": [
      "359it [01:48,  2.28s/it]"
     ]
    },
    {
     "name": "stdout",
     "output_type": "stream",
     "text": [
      "[current_batch: 18600] val: 0.3855, [best_batch: 11000] best val: 0.4131\n"
     ]
    },
    {
     "name": "stderr",
     "output_type": "stream",
     "text": [
      "458it [02:14,  3.81it/s]"
     ]
    },
    {
     "name": "stdout",
     "output_type": "stream",
     "text": [
      "[current_batch: 18700] loss: 0.855, learning rate: 0.000100\n"
     ]
    },
    {
     "name": "stderr",
     "output_type": "stream",
     "text": [
      "492it [02:23,  3.79it/s]"
     ]
    },
    {
     "name": "stdout",
     "output_type": "stream",
     "text": [
      "Starting validation ...\n"
     ]
    },
    {
     "name": "stderr",
     "output_type": "stream",
     "text": [
      "493it [02:30,  3.27it/s]"
     ]
    },
    {
     "name": "stdout",
     "output_type": "stream",
     "text": [
      "[current_batch: 18734] val: 0.3563, [best_batch: 11000] best val: 0.4131\n"
     ]
    },
    {
     "name": "stderr",
     "output_type": "stream",
     "text": [
      "\n",
      "65it [00:17,  3.74it/s]"
     ]
    },
    {
     "name": "stdout",
     "output_type": "stream",
     "text": [
      "[current_batch: 18800] loss: 0.542, learning rate: 0.000100\n",
      "Starting validation ...\n"
     ]
    },
    {
     "name": "stderr",
     "output_type": "stream",
     "text": [
      "66it [00:24,  2.30s/it]"
     ]
    },
    {
     "name": "stdout",
     "output_type": "stream",
     "text": [
      "[current_batch: 18800] val: 0.3683, [best_batch: 11000] best val: 0.4131\n"
     ]
    },
    {
     "name": "stderr",
     "output_type": "stream",
     "text": [
      "165it [00:50,  3.78it/s]"
     ]
    },
    {
     "name": "stdout",
     "output_type": "stream",
     "text": [
      "[current_batch: 18900] loss: 0.746, learning rate: 0.000100\n"
     ]
    },
    {
     "name": "stderr",
     "output_type": "stream",
     "text": [
      "265it [01:17,  3.82it/s]"
     ]
    },
    {
     "name": "stdout",
     "output_type": "stream",
     "text": [
      "[current_batch: 19000] loss: 0.800, learning rate: 0.000100\n",
      "Starting validation ...\n"
     ]
    },
    {
     "name": "stderr",
     "output_type": "stream",
     "text": [
      "266it [01:24,  2.29s/it]"
     ]
    },
    {
     "name": "stdout",
     "output_type": "stream",
     "text": [
      "[current_batch: 19000] val: 0.3614, [best_batch: 11000] best val: 0.4131\n"
     ]
    },
    {
     "name": "stderr",
     "output_type": "stream",
     "text": [
      "365it [01:50,  3.81it/s]"
     ]
    },
    {
     "name": "stdout",
     "output_type": "stream",
     "text": [
      "[current_batch: 19100] loss: 0.779, learning rate: 0.000100\n"
     ]
    },
    {
     "name": "stderr",
     "output_type": "stream",
     "text": [
      "465it [02:16,  3.78it/s]"
     ]
    },
    {
     "name": "stdout",
     "output_type": "stream",
     "text": [
      "[current_batch: 19200] loss: 0.836, learning rate: 0.000100\n",
      "Starting validation ...\n"
     ]
    },
    {
     "name": "stderr",
     "output_type": "stream",
     "text": [
      "466it [02:23,  2.33s/it]"
     ]
    },
    {
     "name": "stdout",
     "output_type": "stream",
     "text": [
      "[current_batch: 19200] val: 0.3666, [best_batch: 11000] best val: 0.4131\n"
     ]
    },
    {
     "name": "stderr",
     "output_type": "stream",
     "text": [
      "492it [02:30,  3.87it/s]"
     ]
    },
    {
     "name": "stdout",
     "output_type": "stream",
     "text": [
      "Starting validation ...\n"
     ]
    },
    {
     "name": "stderr",
     "output_type": "stream",
     "text": [
      "493it [02:37,  3.13it/s]"
     ]
    },
    {
     "name": "stdout",
     "output_type": "stream",
     "text": [
      "[current_batch: 19227] val: 0.3718, [best_batch: 11000] best val: 0.4131\n"
     ]
    },
    {
     "name": "stderr",
     "output_type": "stream",
     "text": [
      "\n",
      "72it [00:18,  3.85it/s]"
     ]
    },
    {
     "name": "stdout",
     "output_type": "stream",
     "text": [
      "[current_batch: 19300] loss: 0.573, learning rate: 0.000100\n"
     ]
    },
    {
     "name": "stderr",
     "output_type": "stream",
     "text": [
      "172it [00:45,  3.83it/s]"
     ]
    },
    {
     "name": "stdout",
     "output_type": "stream",
     "text": [
      "[current_batch: 19400] loss: 0.762, learning rate: 0.000100\n",
      "Starting validation ...\n"
     ]
    },
    {
     "name": "stderr",
     "output_type": "stream",
     "text": [
      "173it [00:52,  2.29s/it]"
     ]
    },
    {
     "name": "stdout",
     "output_type": "stream",
     "text": [
      "[current_batch: 19400] val: 0.3597, [best_batch: 11000] best val: 0.4131\n"
     ]
    },
    {
     "name": "stderr",
     "output_type": "stream",
     "text": [
      "272it [01:18,  3.77it/s]"
     ]
    },
    {
     "name": "stdout",
     "output_type": "stream",
     "text": [
      "[current_batch: 19500] loss: 0.800, learning rate: 0.000100\n"
     ]
    },
    {
     "name": "stderr",
     "output_type": "stream",
     "text": [
      "372it [01:44,  3.82it/s]"
     ]
    },
    {
     "name": "stdout",
     "output_type": "stream",
     "text": [
      "[current_batch: 19600] loss: 0.825, learning rate: 0.000100\n",
      "Starting validation ...\n"
     ]
    },
    {
     "name": "stderr",
     "output_type": "stream",
     "text": [
      "373it [01:51,  2.30s/it]"
     ]
    },
    {
     "name": "stdout",
     "output_type": "stream",
     "text": [
      "[current_batch: 19600] val: 0.3546, [best_batch: 11000] best val: 0.4131\n"
     ]
    },
    {
     "name": "stderr",
     "output_type": "stream",
     "text": [
      "472it [02:18,  3.78it/s]"
     ]
    },
    {
     "name": "stdout",
     "output_type": "stream",
     "text": [
      "[current_batch: 19700] loss: 0.791, learning rate: 0.000100\n"
     ]
    },
    {
     "name": "stderr",
     "output_type": "stream",
     "text": [
      "492it [02:23,  3.81it/s]"
     ]
    },
    {
     "name": "stdout",
     "output_type": "stream",
     "text": [
      "Starting validation ...\n"
     ]
    },
    {
     "name": "stderr",
     "output_type": "stream",
     "text": [
      "493it [02:30,  3.28it/s]"
     ]
    },
    {
     "name": "stdout",
     "output_type": "stream",
     "text": [
      "[current_batch: 19720] val: 0.3614, [best_batch: 11000] best val: 0.4131\n"
     ]
    },
    {
     "name": "stderr",
     "output_type": "stream",
     "text": [
      "\n",
      "79it [00:20,  3.75it/s]"
     ]
    },
    {
     "name": "stdout",
     "output_type": "stream",
     "text": [
      "[current_batch: 19800] loss: 0.553, learning rate: 0.000100\n",
      "Starting validation ...\n"
     ]
    },
    {
     "name": "stderr",
     "output_type": "stream",
     "text": [
      "80it [00:27,  2.29s/it]"
     ]
    },
    {
     "name": "stdout",
     "output_type": "stream",
     "text": [
      "[current_batch: 19800] val: 0.3718, [best_batch: 11000] best val: 0.4131\n"
     ]
    },
    {
     "name": "stderr",
     "output_type": "stream",
     "text": [
      "179it [00:54,  3.81it/s]"
     ]
    },
    {
     "name": "stdout",
     "output_type": "stream",
     "text": [
      "[current_batch: 19900] loss: 0.715, learning rate: 0.000100\n"
     ]
    },
    {
     "name": "stderr",
     "output_type": "stream",
     "text": [
      "279it [01:20,  3.83it/s]"
     ]
    },
    {
     "name": "stdout",
     "output_type": "stream",
     "text": [
      "[current_batch: 20000] loss: 0.782, learning rate: 0.000100\n",
      "Starting validation ...\n"
     ]
    },
    {
     "name": "stderr",
     "output_type": "stream",
     "text": [
      "280it [01:27,  2.29s/it]"
     ]
    },
    {
     "name": "stdout",
     "output_type": "stream",
     "text": [
      "[current_batch: 20000] val: 0.3701, [best_batch: 11000] best val: 0.4131\n"
     ]
    },
    {
     "name": "stderr",
     "output_type": "stream",
     "text": [
      "379it [01:53,  3.80it/s]"
     ]
    },
    {
     "name": "stdout",
     "output_type": "stream",
     "text": [
      "[current_batch: 20100] loss: 0.744, learning rate: 0.000100\n"
     ]
    },
    {
     "name": "stderr",
     "output_type": "stream",
     "text": [
      "479it [02:20,  3.80it/s]"
     ]
    },
    {
     "name": "stdout",
     "output_type": "stream",
     "text": [
      "[current_batch: 20200] loss: 0.798, learning rate: 0.000100\n",
      "Starting validation ...\n"
     ]
    },
    {
     "name": "stderr",
     "output_type": "stream",
     "text": [
      "480it [02:27,  2.29s/it]"
     ]
    },
    {
     "name": "stdout",
     "output_type": "stream",
     "text": [
      "[current_batch: 20200] val: 0.3666, [best_batch: 11000] best val: 0.4131\n"
     ]
    },
    {
     "name": "stderr",
     "output_type": "stream",
     "text": [
      "492it [02:30,  3.44it/s]"
     ]
    },
    {
     "name": "stdout",
     "output_type": "stream",
     "text": [
      "Starting validation ...\n"
     ]
    },
    {
     "name": "stderr",
     "output_type": "stream",
     "text": [
      "493it [02:37,  3.13it/s]"
     ]
    },
    {
     "name": "stdout",
     "output_type": "stream",
     "text": [
      "[current_batch: 20213] val: 0.3649, [best_batch: 11000] best val: 0.4131\n"
     ]
    },
    {
     "name": "stderr",
     "output_type": "stream",
     "text": [
      "\n",
      "86it [00:22,  3.87it/s]"
     ]
    },
    {
     "name": "stdout",
     "output_type": "stream",
     "text": [
      "[current_batch: 20300] loss: 0.639, learning rate: 0.000100\n"
     ]
    },
    {
     "name": "stderr",
     "output_type": "stream",
     "text": [
      "186it [00:49,  3.86it/s]"
     ]
    },
    {
     "name": "stdout",
     "output_type": "stream",
     "text": [
      "[current_batch: 20400] loss: 0.685, learning rate: 0.000100\n",
      "Starting validation ...\n"
     ]
    },
    {
     "name": "stderr",
     "output_type": "stream",
     "text": [
      "187it [00:56,  2.29s/it]"
     ]
    },
    {
     "name": "stdout",
     "output_type": "stream",
     "text": [
      "[current_batch: 20400] val: 0.3821, [best_batch: 11000] best val: 0.4131\n"
     ]
    },
    {
     "name": "stderr",
     "output_type": "stream",
     "text": [
      "286it [01:22,  3.85it/s]"
     ]
    },
    {
     "name": "stdout",
     "output_type": "stream",
     "text": [
      "[current_batch: 20500] loss: 0.756, learning rate: 0.000100\n"
     ]
    },
    {
     "name": "stderr",
     "output_type": "stream",
     "text": [
      "386it [01:48,  3.81it/s]"
     ]
    },
    {
     "name": "stdout",
     "output_type": "stream",
     "text": [
      "[current_batch: 20600] loss: 0.742, learning rate: 0.000100\n",
      "Starting validation ...\n"
     ]
    },
    {
     "name": "stderr",
     "output_type": "stream",
     "text": [
      "387it [01:55,  2.29s/it]"
     ]
    },
    {
     "name": "stdout",
     "output_type": "stream",
     "text": [
      "[current_batch: 20600] val: 0.3787, [best_batch: 11000] best val: 0.4131\n"
     ]
    },
    {
     "name": "stderr",
     "output_type": "stream",
     "text": [
      "486it [02:21,  3.78it/s]"
     ]
    },
    {
     "name": "stdout",
     "output_type": "stream",
     "text": [
      "[current_batch: 20700] loss: 0.764, learning rate: 0.000100\n"
     ]
    },
    {
     "name": "stderr",
     "output_type": "stream",
     "text": [
      "492it [02:23,  3.58it/s]"
     ]
    },
    {
     "name": "stdout",
     "output_type": "stream",
     "text": [
      "Starting validation ...\n"
     ]
    },
    {
     "name": "stderr",
     "output_type": "stream",
     "text": [
      "493it [02:30,  3.28it/s]"
     ]
    },
    {
     "name": "stdout",
     "output_type": "stream",
     "text": [
      "[current_batch: 20706] val: 0.3769, [best_batch: 11000] best val: 0.4131\n"
     ]
    },
    {
     "name": "stderr",
     "output_type": "stream",
     "text": [
      "\n",
      "93it [00:24,  3.82it/s]"
     ]
    },
    {
     "name": "stdout",
     "output_type": "stream",
     "text": [
      "[current_batch: 20800] loss: 0.698, learning rate: 0.000100\n",
      "Starting validation ...\n"
     ]
    },
    {
     "name": "stderr",
     "output_type": "stream",
     "text": [
      "94it [00:31,  2.30s/it]"
     ]
    },
    {
     "name": "stdout",
     "output_type": "stream",
     "text": [
      "[current_batch: 20800] val: 0.3718, [best_batch: 11000] best val: 0.4131\n"
     ]
    },
    {
     "name": "stderr",
     "output_type": "stream",
     "text": [
      "193it [00:57,  3.80it/s]"
     ]
    },
    {
     "name": "stdout",
     "output_type": "stream",
     "text": [
      "[current_batch: 20900] loss: 0.742, learning rate: 0.000100\n"
     ]
    },
    {
     "name": "stderr",
     "output_type": "stream",
     "text": [
      "293it [01:24,  3.81it/s]"
     ]
    },
    {
     "name": "stdout",
     "output_type": "stream",
     "text": [
      "[current_batch: 21000] loss: 0.682, learning rate: 0.000100\n",
      "Starting validation ...\n"
     ]
    },
    {
     "name": "stderr",
     "output_type": "stream",
     "text": [
      "294it [01:31,  2.29s/it]"
     ]
    },
    {
     "name": "stdout",
     "output_type": "stream",
     "text": [
      "[current_batch: 21000] val: 0.3580, [best_batch: 11000] best val: 0.4131\n"
     ]
    },
    {
     "name": "stderr",
     "output_type": "stream",
     "text": [
      "393it [01:57,  3.79it/s]"
     ]
    },
    {
     "name": "stdout",
     "output_type": "stream",
     "text": [
      "[current_batch: 21100] loss: 0.715, learning rate: 0.000100\n"
     ]
    },
    {
     "name": "stderr",
     "output_type": "stream",
     "text": [
      "492it [02:23,  3.81it/s]"
     ]
    },
    {
     "name": "stdout",
     "output_type": "stream",
     "text": [
      "Starting validation ...\n"
     ]
    },
    {
     "name": "stderr",
     "output_type": "stream",
     "text": [
      "493it [02:30,  3.27it/s]"
     ]
    },
    {
     "name": "stdout",
     "output_type": "stream",
     "text": [
      "[current_batch: 21199] val: 0.3787, [best_batch: 11000] best val: 0.4131\n"
     ]
    },
    {
     "name": "stderr",
     "output_type": "stream",
     "text": [
      "\n",
      "0it [00:00, ?it/s]"
     ]
    },
    {
     "name": "stdout",
     "output_type": "stream",
     "text": [
      "[current_batch: 21200] loss: 0.007, learning rate: 0.000100\n",
      "Starting validation ...\n"
     ]
    },
    {
     "name": "stderr",
     "output_type": "stream",
     "text": [
      "1it [00:07,  7.17s/it]"
     ]
    },
    {
     "name": "stdout",
     "output_type": "stream",
     "text": [
      "[current_batch: 21200] val: 0.3787, [best_batch: 11000] best val: 0.4131\n"
     ]
    },
    {
     "name": "stderr",
     "output_type": "stream",
     "text": [
      "100it [00:33,  3.78it/s]"
     ]
    },
    {
     "name": "stdout",
     "output_type": "stream",
     "text": [
      "[current_batch: 21300] loss: 0.658, learning rate: 0.000100\n"
     ]
    },
    {
     "name": "stderr",
     "output_type": "stream",
     "text": [
      "200it [00:59,  3.79it/s]"
     ]
    },
    {
     "name": "stdout",
     "output_type": "stream",
     "text": [
      "[current_batch: 21400] loss: 0.715, learning rate: 0.000100\n",
      "Starting validation ...\n"
     ]
    },
    {
     "name": "stderr",
     "output_type": "stream",
     "text": [
      "201it [01:06,  2.30s/it]"
     ]
    },
    {
     "name": "stdout",
     "output_type": "stream",
     "text": [
      "[current_batch: 21400] val: 0.3683, [best_batch: 11000] best val: 0.4131\n"
     ]
    },
    {
     "name": "stderr",
     "output_type": "stream",
     "text": [
      "300it [01:32,  3.86it/s]"
     ]
    },
    {
     "name": "stdout",
     "output_type": "stream",
     "text": [
      "[current_batch: 21500] loss: 0.720, learning rate: 0.000100\n"
     ]
    },
    {
     "name": "stderr",
     "output_type": "stream",
     "text": [
      "400it [01:59,  3.81it/s]"
     ]
    },
    {
     "name": "stdout",
     "output_type": "stream",
     "text": [
      "[current_batch: 21600] loss: 0.726, learning rate: 0.000100\n",
      "Starting validation ...\n"
     ]
    },
    {
     "name": "stderr",
     "output_type": "stream",
     "text": [
      "401it [02:06,  2.29s/it]"
     ]
    },
    {
     "name": "stdout",
     "output_type": "stream",
     "text": [
      "[current_batch: 21600] val: 0.3563, [best_batch: 11000] best val: 0.4131\n"
     ]
    },
    {
     "name": "stderr",
     "output_type": "stream",
     "text": [
      "492it [02:30,  3.76it/s]"
     ]
    },
    {
     "name": "stdout",
     "output_type": "stream",
     "text": [
      "Starting validation ...\n"
     ]
    },
    {
     "name": "stderr",
     "output_type": "stream",
     "text": [
      "493it [02:36,  3.14it/s]"
     ]
    },
    {
     "name": "stdout",
     "output_type": "stream",
     "text": [
      "[current_batch: 21692] val: 0.3632, [best_batch: 11000] best val: 0.4131\n"
     ]
    },
    {
     "name": "stderr",
     "output_type": "stream",
     "text": [
      "\n",
      "7it [00:01,  3.75it/s]"
     ]
    },
    {
     "name": "stdout",
     "output_type": "stream",
     "text": [
      "[current_batch: 21700] loss: 0.070, learning rate: 0.000100\n"
     ]
    },
    {
     "name": "stderr",
     "output_type": "stream",
     "text": [
      "107it [00:28,  3.84it/s]"
     ]
    },
    {
     "name": "stdout",
     "output_type": "stream",
     "text": [
      "[current_batch: 21800] loss: 0.685, learning rate: 0.000100\n",
      "Starting validation ...\n"
     ]
    },
    {
     "name": "stderr",
     "output_type": "stream",
     "text": [
      "108it [00:35,  2.28s/it]"
     ]
    },
    {
     "name": "stdout",
     "output_type": "stream",
     "text": [
      "[current_batch: 21800] val: 0.3769, [best_batch: 11000] best val: 0.4131\n"
     ]
    },
    {
     "name": "stderr",
     "output_type": "stream",
     "text": [
      "207it [01:01,  3.85it/s]"
     ]
    },
    {
     "name": "stdout",
     "output_type": "stream",
     "text": [
      "[current_batch: 21900] loss: 0.751, learning rate: 0.000100\n"
     ]
    },
    {
     "name": "stderr",
     "output_type": "stream",
     "text": [
      "307it [01:27,  3.82it/s]"
     ]
    },
    {
     "name": "stdout",
     "output_type": "stream",
     "text": [
      "[current_batch: 22000] loss: 0.697, learning rate: 0.000100\n",
      "Starting validation ...\n"
     ]
    },
    {
     "name": "stderr",
     "output_type": "stream",
     "text": [
      "308it [01:34,  2.30s/it]"
     ]
    },
    {
     "name": "stdout",
     "output_type": "stream",
     "text": [
      "[current_batch: 22000] val: 0.3649, [best_batch: 11000] best val: 0.4131\n"
     ]
    },
    {
     "name": "stderr",
     "output_type": "stream",
     "text": [
      "407it [02:00,  3.86it/s]"
     ]
    },
    {
     "name": "stdout",
     "output_type": "stream",
     "text": [
      "[current_batch: 22100] loss: 0.716, learning rate: 0.000100\n"
     ]
    },
    {
     "name": "stderr",
     "output_type": "stream",
     "text": [
      "492it [02:23,  3.84it/s]"
     ]
    },
    {
     "name": "stdout",
     "output_type": "stream",
     "text": [
      "Starting validation ...\n"
     ]
    },
    {
     "name": "stderr",
     "output_type": "stream",
     "text": [
      "493it [02:30,  3.28it/s]"
     ]
    },
    {
     "name": "stdout",
     "output_type": "stream",
     "text": [
      "[current_batch: 22185] val: 0.3804, [best_batch: 11000] best val: 0.4131\n"
     ]
    },
    {
     "name": "stderr",
     "output_type": "stream",
     "text": [
      "\n",
      "14it [00:03,  3.79it/s]"
     ]
    },
    {
     "name": "stdout",
     "output_type": "stream",
     "text": [
      "[current_batch: 22200] loss: 0.110, learning rate: 0.000100\n",
      "Starting validation ...\n"
     ]
    },
    {
     "name": "stderr",
     "output_type": "stream",
     "text": [
      "15it [00:10,  2.30s/it]"
     ]
    },
    {
     "name": "stdout",
     "output_type": "stream",
     "text": [
      "[current_batch: 22200] val: 0.3735, [best_batch: 11000] best val: 0.4131\n"
     ]
    },
    {
     "name": "stderr",
     "output_type": "stream",
     "text": [
      "114it [00:36,  3.83it/s]"
     ]
    },
    {
     "name": "stdout",
     "output_type": "stream",
     "text": [
      "[current_batch: 22300] loss: 0.631, learning rate: 0.000100\n"
     ]
    },
    {
     "name": "stderr",
     "output_type": "stream",
     "text": [
      "214it [01:03,  3.83it/s]"
     ]
    },
    {
     "name": "stdout",
     "output_type": "stream",
     "text": [
      "[current_batch: 22400] loss: 0.637, learning rate: 0.000100\n",
      "Starting validation ...\n"
     ]
    },
    {
     "name": "stderr",
     "output_type": "stream",
     "text": [
      "215it [01:10,  2.30s/it]"
     ]
    },
    {
     "name": "stdout",
     "output_type": "stream",
     "text": [
      "[current_batch: 22400] val: 0.3718, [best_batch: 11000] best val: 0.4131\n"
     ]
    },
    {
     "name": "stderr",
     "output_type": "stream",
     "text": [
      "314it [01:36,  3.81it/s]"
     ]
    },
    {
     "name": "stdout",
     "output_type": "stream",
     "text": [
      "[current_batch: 22500] loss: 0.709, learning rate: 0.000100\n"
     ]
    },
    {
     "name": "stderr",
     "output_type": "stream",
     "text": [
      "414it [02:02,  3.84it/s]"
     ]
    },
    {
     "name": "stdout",
     "output_type": "stream",
     "text": [
      "[current_batch: 22600] loss: 0.709, learning rate: 0.000100\n",
      "Starting validation ...\n"
     ]
    },
    {
     "name": "stderr",
     "output_type": "stream",
     "text": [
      "415it [02:09,  2.29s/it]"
     ]
    },
    {
     "name": "stdout",
     "output_type": "stream",
     "text": [
      "[current_batch: 22600] val: 0.3787, [best_batch: 11000] best val: 0.4131\n"
     ]
    },
    {
     "name": "stderr",
     "output_type": "stream",
     "text": [
      "492it [02:29,  3.82it/s]"
     ]
    },
    {
     "name": "stdout",
     "output_type": "stream",
     "text": [
      "Starting validation ...\n"
     ]
    },
    {
     "name": "stderr",
     "output_type": "stream",
     "text": [
      "493it [02:36,  3.15it/s]"
     ]
    },
    {
     "name": "stdout",
     "output_type": "stream",
     "text": [
      "[current_batch: 22678] val: 0.3787, [best_batch: 11000] best val: 0.4131\n"
     ]
    },
    {
     "name": "stderr",
     "output_type": "stream",
     "text": [
      "\n",
      "21it [00:05,  3.89it/s]"
     ]
    },
    {
     "name": "stdout",
     "output_type": "stream",
     "text": [
      "[current_batch: 22700] loss: 0.144, learning rate: 0.000100\n"
     ]
    },
    {
     "name": "stderr",
     "output_type": "stream",
     "text": [
      "121it [00:32,  3.81it/s]"
     ]
    },
    {
     "name": "stdout",
     "output_type": "stream",
     "text": [
      "[current_batch: 22800] loss: 0.664, learning rate: 0.000100\n",
      "Starting validation ...\n"
     ]
    },
    {
     "name": "stderr",
     "output_type": "stream",
     "text": [
      "122it [00:39,  2.29s/it]"
     ]
    },
    {
     "name": "stdout",
     "output_type": "stream",
     "text": [
      "[current_batch: 22800] val: 0.3649, [best_batch: 11000] best val: 0.4131\n"
     ]
    },
    {
     "name": "stderr",
     "output_type": "stream",
     "text": [
      "221it [01:05,  3.74it/s]"
     ]
    },
    {
     "name": "stdout",
     "output_type": "stream",
     "text": [
      "[current_batch: 22900] loss: 0.664, learning rate: 0.000100\n"
     ]
    },
    {
     "name": "stderr",
     "output_type": "stream",
     "text": [
      "321it [01:31,  3.78it/s]"
     ]
    },
    {
     "name": "stdout",
     "output_type": "stream",
     "text": [
      "[current_batch: 23000] loss: 0.671, learning rate: 0.000100\n",
      "Starting validation ...\n"
     ]
    },
    {
     "name": "stderr",
     "output_type": "stream",
     "text": [
      "322it [01:38,  2.30s/it]"
     ]
    },
    {
     "name": "stdout",
     "output_type": "stream",
     "text": [
      "[current_batch: 23000] val: 0.3494, [best_batch: 11000] best val: 0.4131\n"
     ]
    },
    {
     "name": "stderr",
     "output_type": "stream",
     "text": [
      "421it [02:04,  3.81it/s]"
     ]
    },
    {
     "name": "stdout",
     "output_type": "stream",
     "text": [
      "[current_batch: 23100] loss: 0.774, learning rate: 0.000100\n"
     ]
    },
    {
     "name": "stderr",
     "output_type": "stream",
     "text": [
      "492it [02:23,  3.77it/s]"
     ]
    },
    {
     "name": "stdout",
     "output_type": "stream",
     "text": [
      "Starting validation ...\n"
     ]
    },
    {
     "name": "stderr",
     "output_type": "stream",
     "text": [
      "493it [02:30,  3.27it/s]"
     ]
    },
    {
     "name": "stdout",
     "output_type": "stream",
     "text": [
      "[current_batch: 23171] val: 0.3769, [best_batch: 11000] best val: 0.4131\n"
     ]
    },
    {
     "name": "stderr",
     "output_type": "stream",
     "text": [
      "\n",
      "28it [00:07,  3.74it/s]"
     ]
    },
    {
     "name": "stdout",
     "output_type": "stream",
     "text": [
      "[current_batch: 23200] loss: 0.189, learning rate: 0.000100\n",
      "Starting validation ...\n"
     ]
    },
    {
     "name": "stderr",
     "output_type": "stream",
     "text": [
      "29it [00:14,  2.30s/it]"
     ]
    },
    {
     "name": "stdout",
     "output_type": "stream",
     "text": [
      "[current_batch: 23200] val: 0.3752, [best_batch: 11000] best val: 0.4131\n"
     ]
    },
    {
     "name": "stderr",
     "output_type": "stream",
     "text": [
      "128it [00:40,  3.79it/s]"
     ]
    },
    {
     "name": "stdout",
     "output_type": "stream",
     "text": [
      "[current_batch: 23300] loss: 0.666, learning rate: 0.000100\n"
     ]
    },
    {
     "name": "stderr",
     "output_type": "stream",
     "text": [
      "228it [01:07,  3.82it/s]"
     ]
    },
    {
     "name": "stdout",
     "output_type": "stream",
     "text": [
      "[current_batch: 23400] loss: 0.697, learning rate: 0.000100\n",
      "Starting validation ...\n"
     ]
    },
    {
     "name": "stderr",
     "output_type": "stream",
     "text": [
      "229it [01:14,  2.28s/it]"
     ]
    },
    {
     "name": "stdout",
     "output_type": "stream",
     "text": [
      "[current_batch: 23400] val: 0.3683, [best_batch: 11000] best val: 0.4131\n"
     ]
    },
    {
     "name": "stderr",
     "output_type": "stream",
     "text": [
      "328it [01:40,  3.80it/s]"
     ]
    },
    {
     "name": "stdout",
     "output_type": "stream",
     "text": [
      "[current_batch: 23500] loss: 0.708, learning rate: 0.000100\n"
     ]
    },
    {
     "name": "stderr",
     "output_type": "stream",
     "text": [
      "428it [02:07,  3.79it/s]"
     ]
    },
    {
     "name": "stdout",
     "output_type": "stream",
     "text": [
      "[current_batch: 23600] loss: 0.707, learning rate: 0.000100\n",
      "Starting validation ...\n"
     ]
    },
    {
     "name": "stderr",
     "output_type": "stream",
     "text": [
      "429it [02:14,  2.29s/it]"
     ]
    },
    {
     "name": "stdout",
     "output_type": "stream",
     "text": [
      "[current_batch: 23600] val: 0.3718, [best_batch: 11000] best val: 0.4131\n"
     ]
    },
    {
     "name": "stderr",
     "output_type": "stream",
     "text": [
      "492it [02:30,  3.76it/s]"
     ]
    },
    {
     "name": "stdout",
     "output_type": "stream",
     "text": [
      "Starting validation ...\n"
     ]
    },
    {
     "name": "stderr",
     "output_type": "stream",
     "text": [
      "493it [02:37,  3.13it/s]"
     ]
    },
    {
     "name": "stdout",
     "output_type": "stream",
     "text": [
      "[current_batch: 23664] val: 0.3735, [best_batch: 11000] best val: 0.4131\n"
     ]
    },
    {
     "name": "stderr",
     "output_type": "stream",
     "text": [
      "\n",
      "35it [00:09,  3.75it/s]"
     ]
    },
    {
     "name": "stdout",
     "output_type": "stream",
     "text": [
      "[current_batch: 23700] loss: 0.215, learning rate: 0.000100\n"
     ]
    },
    {
     "name": "stderr",
     "output_type": "stream",
     "text": [
      "135it [00:36,  3.76it/s]"
     ]
    },
    {
     "name": "stdout",
     "output_type": "stream",
     "text": [
      "[current_batch: 23800] loss: 0.669, learning rate: 0.000100\n",
      "Starting validation ...\n"
     ]
    },
    {
     "name": "stderr",
     "output_type": "stream",
     "text": [
      "136it [00:43,  2.30s/it]"
     ]
    },
    {
     "name": "stdout",
     "output_type": "stream",
     "text": [
      "[current_batch: 23800] val: 0.3563, [best_batch: 11000] best val: 0.4131\n"
     ]
    },
    {
     "name": "stderr",
     "output_type": "stream",
     "text": [
      "235it [01:09,  3.80it/s]"
     ]
    },
    {
     "name": "stdout",
     "output_type": "stream",
     "text": [
      "[current_batch: 23900] loss: 0.646, learning rate: 0.000100\n"
     ]
    },
    {
     "name": "stderr",
     "output_type": "stream",
     "text": [
      "335it [01:35,  3.83it/s]"
     ]
    },
    {
     "name": "stdout",
     "output_type": "stream",
     "text": [
      "[current_batch: 24000] loss: 0.729, learning rate: 0.000100\n",
      "Starting validation ...\n"
     ]
    },
    {
     "name": "stderr",
     "output_type": "stream",
     "text": [
      "336it [01:42,  2.28s/it]"
     ]
    },
    {
     "name": "stdout",
     "output_type": "stream",
     "text": [
      "[current_batch: 24000] val: 0.3701, [best_batch: 11000] best val: 0.4131\n"
     ]
    },
    {
     "name": "stderr",
     "output_type": "stream",
     "text": [
      "435it [02:08,  3.81it/s]"
     ]
    },
    {
     "name": "stdout",
     "output_type": "stream",
     "text": [
      "[current_batch: 24100] loss: 0.666, learning rate: 0.000100\n"
     ]
    },
    {
     "name": "stderr",
     "output_type": "stream",
     "text": [
      "492it [02:24,  3.79it/s]"
     ]
    },
    {
     "name": "stdout",
     "output_type": "stream",
     "text": [
      "Starting validation ...\n"
     ]
    },
    {
     "name": "stderr",
     "output_type": "stream",
     "text": [
      "493it [02:30,  3.27it/s]"
     ]
    },
    {
     "name": "stdout",
     "output_type": "stream",
     "text": [
      "[current_batch: 24157] val: 0.3649, [best_batch: 11000] best val: 0.4131\n"
     ]
    },
    {
     "name": "stderr",
     "output_type": "stream",
     "text": [
      "\n",
      "42it [00:11,  3.82it/s]"
     ]
    },
    {
     "name": "stdout",
     "output_type": "stream",
     "text": [
      "[current_batch: 24200] loss: 0.311, learning rate: 0.000100\n",
      "Starting validation ...\n"
     ]
    },
    {
     "name": "stderr",
     "output_type": "stream",
     "text": [
      "43it [00:18,  2.29s/it]"
     ]
    },
    {
     "name": "stdout",
     "output_type": "stream",
     "text": [
      "[current_batch: 24200] val: 0.3614, [best_batch: 11000] best val: 0.4131\n"
     ]
    },
    {
     "name": "stderr",
     "output_type": "stream",
     "text": [
      "142it [00:44,  3.81it/s]"
     ]
    },
    {
     "name": "stdout",
     "output_type": "stream",
     "text": [
      "[current_batch: 24300] loss: 0.594, learning rate: 0.000100\n"
     ]
    },
    {
     "name": "stderr",
     "output_type": "stream",
     "text": [
      "242it [01:10,  3.81it/s]"
     ]
    },
    {
     "name": "stdout",
     "output_type": "stream",
     "text": [
      "[current_batch: 24400] loss: 0.687, learning rate: 0.000100\n",
      "Starting validation ...\n"
     ]
    },
    {
     "name": "stderr",
     "output_type": "stream",
     "text": [
      "243it [01:17,  2.29s/it]"
     ]
    },
    {
     "name": "stdout",
     "output_type": "stream",
     "text": [
      "[current_batch: 24400] val: 0.3442, [best_batch: 11000] best val: 0.4131\n"
     ]
    },
    {
     "name": "stderr",
     "output_type": "stream",
     "text": [
      "342it [01:43,  3.77it/s]"
     ]
    },
    {
     "name": "stdout",
     "output_type": "stream",
     "text": [
      "[current_batch: 24500] loss: 0.640, learning rate: 0.000100\n"
     ]
    },
    {
     "name": "stderr",
     "output_type": "stream",
     "text": [
      "442it [02:10,  3.77it/s]"
     ]
    },
    {
     "name": "stdout",
     "output_type": "stream",
     "text": [
      "[current_batch: 24600] loss: 0.684, learning rate: 0.000100\n",
      "Starting validation ...\n"
     ]
    },
    {
     "name": "stderr",
     "output_type": "stream",
     "text": [
      "443it [02:17,  2.29s/it]"
     ]
    },
    {
     "name": "stdout",
     "output_type": "stream",
     "text": [
      "[current_batch: 24600] val: 0.3546, [best_batch: 11000] best val: 0.4131\n"
     ]
    },
    {
     "name": "stderr",
     "output_type": "stream",
     "text": [
      "492it [02:30,  3.84it/s]"
     ]
    },
    {
     "name": "stdout",
     "output_type": "stream",
     "text": [
      "Starting validation ...\n"
     ]
    },
    {
     "name": "stderr",
     "output_type": "stream",
     "text": [
      "493it [02:37,  3.14it/s]"
     ]
    },
    {
     "name": "stdout",
     "output_type": "stream",
     "text": [
      "[current_batch: 24650] val: 0.3528, [best_batch: 11000] best val: 0.4131\n"
     ]
    },
    {
     "name": "stderr",
     "output_type": "stream",
     "text": [
      "\n"
     ]
    }
   ],
   "source": [
    "seed = 2023\n",
    "data_folder = \"pdfvqa/\"\n",
    "training_doc_info_path = data_folder + \"/train_doc_info.pkl\"\n",
    "training_dataframe_path = data_folder + \"/train_dataframe.csv\"\n",
    "validation_doc_info_path = data_folder + \"/val_doc_info.pkl\"\n",
    "validation_dataframe_path = data_folder + \"/val_dataframe.csv\"\n",
    "test_doc_info_path = data_folder + \"/test_doc_info.pkl\"\n",
    "test_dataframe_path = data_folder + \"/test_dataframe_without_answer.csv\"\n",
    "model_folder = \"model/memsum_dqa/\"\n",
    "log_folder = \"log/memsum_dqa/\"\n",
    "vocabulary_file_name = \"model/word_embedding/vocabulary_200dim.pkl\"\n",
    "pretrained_unigram_embeddings_file_name = \"model/word_embedding/unigram_embeddings_200dim.pkl\"\n",
    "num_heads = 8\n",
    "hidden_dim = 1024\n",
    "num_ehe_layers = 3\n",
    "max_seq_len = 200\n",
    "max_doc_len = 200\n",
    "num_of_epochs = 50\n",
    "print_every = 100\n",
    "save_every = 200\n",
    "validate_every = 200\n",
    "restore_old_checkpoint = 1\n",
    "learning_rate = 1e-4\n",
    "warmup_step = 500\n",
    "weight_decay = 0\n",
    "dropout_rate = 0.2\n",
    "n_device = 1\n",
    "batch_size_per_device = 8\n",
    "max_extracted_sentences_per_document = 4\n",
    "moving_average_decay = 0.99\n",
    "p_stop_thres = 0.2\n",
    "\n",
    "set_seed(seed)\n",
    "\n",
    "os.makedirs(log_folder, exist_ok=True)\n",
    "os.makedirs(model_folder, exist_ok=True)\n",
    "\n",
    "train_log_out_file = log_folder + \"/train.log\"\n",
    "val_log_out_file = log_folder + \"/val.log\"\n",
    "\n",
    "training_corpus = load_corpus( training_doc_info_path, training_dataframe_path  )\n",
    "validation_corpus = load_corpus( validation_doc_info_path, validation_dataframe_path )\n",
    "\n",
    "with open( vocabulary_file_name, \"rb\") as f:\n",
    "    words = pickle.load(f)\n",
    "with open(pretrained_unigram_embeddings_file_name, \"rb\") as f:\n",
    "    pretrained_embedding = pickle.load(f)\n",
    "vocab = Vocab(words)\n",
    "vocab_size, embed_dim = pretrained_embedding.shape\n",
    "\n",
    "train_dataset = ExtractionDataset(  training_corpus,  vocab , max_seq_len,  max_doc_len)\n",
    "train_data_loader = DataLoader( train_dataset, batch_size=batch_size_per_device * n_device , shuffle=True, num_workers=4, worker_init_fn = lambda x:[np.random.seed( seed+x ), torch.manual_seed( seed + x) ], drop_last= True,  pin_memory= True )\n",
    "total_number_of_samples = train_dataset.__len__()\n",
    "val_dataset = ExtractionDataset( validation_corpus, vocab, max_seq_len, max_doc_len )\n",
    "val_data_loader = DataLoader( val_dataset, batch_size=batch_size_per_device * n_device , shuffle=False, num_workers=4, worker_init_fn = lambda x:[np.random.seed( seed+x ), torch.manual_seed( seed + x) ], drop_last= False,  pin_memory= True)\n",
    "\n",
    "local_sentence_encoder = LocalSentenceEncoder( vocab_size,vocab.pad_index, embed_dim,num_heads,hidden_dim,pretrained_embedding )\n",
    "global_context_encoder = GlobalContextEncoder( embed_dim, num_heads, hidden_dim )\n",
    "extraction_context_decoder = ExtractionContextDecoder( embed_dim, num_heads, hidden_dim, num_ehe_layers )\n",
    "extractor = Extractor( embed_dim, num_heads )\n",
    "\n",
    "# restore most recent checkpoint\n",
    "if restore_old_checkpoint:\n",
    "    ckpt = load_model( model_folder )\n",
    "else:\n",
    "    ckpt = None\n",
    "\n",
    "if ckpt is not None:\n",
    "    local_sentence_encoder.load_state_dict( ckpt[\"local_sentence_encoder\"] )\n",
    "    global_context_encoder.load_state_dict( ckpt[\"global_context_encoder\"] )\n",
    "    extraction_context_decoder.load_state_dict( ckpt[\"extraction_context_decoder\"] )\n",
    "    extractor.load_state_dict( ckpt[\"extractor\"] )\n",
    "    LOG(\"model restored!\", train_log_out_file)\n",
    "    print(\"model restored!\")\n",
    "\n",
    "gpu_list = np.arange(n_device).tolist()\n",
    "device = torch.device(  \"cuda:%d\"%( gpu_list[0] ) if torch.cuda.is_available() else \"cpu\" )\n",
    "\n",
    "local_sentence_encoder_ema = copy.deepcopy( local_sentence_encoder ).to(device)\n",
    "global_context_encoder_ema = copy.deepcopy( global_context_encoder  ).to(device)\n",
    "extraction_context_decoder_ema = copy.deepcopy( extraction_context_decoder ).to(device)\n",
    "extractor_ema = copy.deepcopy( extractor ).to(device)\n",
    "\n",
    "local_sentence_encoder.to(device)\n",
    "global_context_encoder.to(device)\n",
    "extraction_context_decoder.to(device)\n",
    "extractor.to(device)\n",
    "\n",
    "if device.type == \"cuda\" and n_device > 1:\n",
    "    local_sentence_encoder = nn.DataParallel( local_sentence_encoder, gpu_list )\n",
    "    global_context_encoder = nn.DataParallel( global_context_encoder, gpu_list )\n",
    "    extraction_context_decoder = nn.DataParallel( extraction_context_decoder, gpu_list )\n",
    "    extractor = nn.DataParallel( extractor, gpu_list )\n",
    "\n",
    "    local_sentence_encoder_ema = nn.DataParallel( local_sentence_encoder_ema, gpu_list )\n",
    "    global_context_encoder_ema = nn.DataParallel( global_context_encoder_ema, gpu_list )\n",
    "    extraction_context_decoder_ema = nn.DataParallel( extraction_context_decoder_ema, gpu_list )\n",
    "    extractor_ema = nn.DataParallel( extractor_ema, gpu_list )\n",
    "\n",
    "    model_parameters = [ par for par in local_sentence_encoder.module.parameters() if par.requires_grad  ]  + \\\n",
    "                    [ par for par in global_context_encoder.module.parameters() if par.requires_grad  ]   + \\\n",
    "                    [ par for par in extraction_context_decoder.module.parameters() if par.requires_grad  ]  + \\\n",
    "                    [ par for par in extractor.module.parameters() if par.requires_grad  ]\n",
    "else:\n",
    "    model_parameters =  [ par for par in local_sentence_encoder.parameters() if par.requires_grad  ]  + \\\n",
    "                    [ par for par in global_context_encoder.parameters() if par.requires_grad  ]   + \\\n",
    "                    [ par for par in extraction_context_decoder.parameters() if par.requires_grad  ]  + \\\n",
    "                    [ par for par in extractor.parameters() if par.requires_grad  ]\n",
    "\n",
    "optimizer = torch.optim.Adam( model_parameters , lr= learning_rate , weight_decay = weight_decay )\n",
    "\n",
    "if ckpt is not None:\n",
    "    try:\n",
    "        optimizer.load_state_dict( ckpt[\"optimizer\"] )\n",
    "        LOG(\"optimizer restored!\", train_log_out_file)\n",
    "        print(\"optimizer restored!\")\n",
    "    except:\n",
    "        pass\n",
    "\n",
    "current_epoch = 0\n",
    "current_batch = 0\n",
    "\n",
    "if ckpt is not None:\n",
    "    current_batch = ckpt[\"current_batch\"]\n",
    "    current_epoch = int( current_batch * batch_size_per_device * n_device / total_number_of_samples )\n",
    "    LOG(\"current_batch restored!\", train_log_out_file)\n",
    "    print(\"current_batch restored!\")\n",
    "\n",
    "ce_loss_criterion = nn.CrossEntropyLoss( reduction=\"none\", ignore_index=-1 )\n",
    "bce_loss_criterion = nn.BCEWithLogitsLoss( reduction=\"none\" )\n",
    "\n",
    "max_val_score = None\n",
    "best_ckpt_step = None\n",
    "\n",
    "for epoch in range( current_epoch, num_of_epochs ):\n",
    "    running_loss = 0\n",
    "\n",
    "    for count, batch in tqdm(enumerate(train_data_loader)):\n",
    "        loss = train_iteration(batch)\n",
    "        running_loss += loss\n",
    "\n",
    "        update_moving_average(  local_sentence_encoder_ema,  local_sentence_encoder, moving_average_decay)\n",
    "        update_moving_average(  global_context_encoder_ema ,  global_context_encoder, moving_average_decay)\n",
    "        update_moving_average(  extraction_context_decoder_ema,  extraction_context_decoder, moving_average_decay)\n",
    "        update_moving_average(  extractor_ema,  extractor, moving_average_decay)\n",
    "\n",
    "        current_batch +=1\n",
    "        if current_batch % print_every == 0:\n",
    "            current_learning_rate = get_lr( optimizer )[0]\n",
    "            LOG( \"[current_batch: %05d] loss: %.3f, learning rate: %f\"%( current_batch, running_loss/print_every,  current_learning_rate  ), train_log_out_file )\n",
    "            print( \"[current_batch: %05d] loss: %.3f, learning rate: %f\"%( current_batch, running_loss/print_every, current_learning_rate  ) )\n",
    "            os.system( \"nvidia-smi > %s/gpu_usage.log\"%( log_folder ) )\n",
    "            running_loss = 0\n",
    "\n",
    "        if ( validate_every != 0 and  current_batch % validate_every == 0 ) or count == len(train_data_loader) - 1:\n",
    "            print(\"Starting validation ...\")\n",
    "            LOG(\"Starting validation ...\", train_log_out_file)\n",
    "            # validation\n",
    "            val_score = validate()\n",
    "\n",
    "            ## only save the checkpoint that performs best on validation set so far\n",
    "            if max_val_score is None or val_score > max_val_score:\n",
    "                max_val_score = val_score\n",
    "                best_ckpt_step = current_batch\n",
    "                save_model(  {\n",
    "                    \"current_batch\":current_batch,\n",
    "                    \"local_sentence_encoder\": local_sentence_encoder_ema,\n",
    "                    \"global_context_encoder\": global_context_encoder_ema,\n",
    "                    \"extraction_context_decoder\":extraction_context_decoder_ema,\n",
    "                    \"extractor\":extractor_ema,\n",
    "                    \"optimizer\": optimizer.state_dict()\n",
    "                    } , model_folder+\"/model_batch_%d.pt\"%(current_batch), max_to_keep = 1 )\n",
    "\n",
    "            if max_val_score is not None:\n",
    "                print(\"[current_batch: %05d] val: %.4f, [best_batch: %05d] best val: %.4f\"%(current_batch, val_score, best_ckpt_step, max_val_score))\n",
    "                LOG(\"[current_batch: %05d] val: %.4f, [best_batch: %05d] best val: %.4f\"%(current_batch, val_score, best_ckpt_step, max_val_score), val_log_out_file)\n",
    "            else:\n",
    "                print(\"[current_batch: %05d] val: %.4f\"%(current_batch, val_score ))\n",
    "                LOG(\"[current_batch: %05d] val: %.4f\"%(current_batch, val_score ), val_log_out_file)\n"
   ]
  },
  {
   "cell_type": "markdown",
   "id": "73eb194e-63ba-4d0d-ba2c-76ae090a96cd",
   "metadata": {
    "id": "73eb194e-63ba-4d0d-ba2c-76ae090a96cd"
   },
   "source": [
    "# Load the checkpoint that performs best on the validation set"
   ]
  },
  {
   "cell_type": "code",
   "execution_count": 10,
   "id": "c6488cce-959d-4ea7-8f89-8e31659e1507",
   "metadata": {
    "colab": {
     "base_uri": "https://localhost:8080/"
    },
    "id": "c6488cce-959d-4ea7-8f89-8e31659e1507",
    "outputId": "9e420ff1-03f9-4fcb-c0e2-7e95a14b396c",
    "tags": []
   },
   "outputs": [
    {
     "name": "stdout",
     "output_type": "stream",
     "text": [
      "Final model checkpoint path: model/memsum_dqa/model_batch_11000.pt\n"
     ]
    }
   ],
   "source": [
    "model_ckpt_path = sorted(glob(\"model/memsum_dqa/*.pt\"), key = os.path.getmtime  )[-1]\n",
    "print(\"Final model checkpoint path:\", model_ckpt_path)"
   ]
  },
  {
   "cell_type": "code",
   "execution_count": 11,
   "id": "d9d7eef6-26d5-4cab-b4b4-7340d9c5c895",
   "metadata": {
    "id": "d9d7eef6-26d5-4cab-b4b4-7340d9c5c895",
    "tags": []
   },
   "outputs": [],
   "source": [
    "memsum_pdf_vqa = MemSumPDFVQA( model_ckpt_path,\n",
    "                               \"model/word_embedding/vocabulary_200dim.pkl\",\n",
    "                               0\n",
    "                             )"
   ]
  },
  {
   "cell_type": "markdown",
   "id": "4ddef701-62c3-4577-bab7-6cb1de3be4d6",
   "metadata": {
    "id": "4ddef701-62c3-4577-bab7-6cb1de3be4d6"
   },
   "source": [
    "# Validate"
   ]
  },
  {
   "cell_type": "code",
   "execution_count": 12,
   "id": "f13cf93a-8a2e-4f46-a71e-37d3bf0ae91e",
   "metadata": {
    "id": "f13cf93a-8a2e-4f46-a71e-37d3bf0ae91e",
    "tags": []
   },
   "outputs": [],
   "source": [
    "val_corpus, paper_dict = load_dataset_for_inference( validation_doc_info_path, validation_dataframe_path )\n",
    "for example in val_corpus:\n",
    "    prediction = memsum_pdf_vqa.inference(\n",
    "                                            example[\"question\"],\n",
    "                                            example[\"question_type\"],\n",
    "                                            paper_dict[ example[\"pmcid\"] ],\n",
    "                                            p_stop_thres = 0.2,\n",
    "                                            max_extracted_sentences_per_document = 4\n",
    "                                         )\n",
    "    example[\"prediction_global_ids\"] = set(prediction)"
   ]
  },
  {
   "cell_type": "code",
   "execution_count": 13,
   "id": "d575a3a6-5811-41d2-ae5d-7b4802030eec",
   "metadata": {
    "colab": {
     "base_uri": "https://localhost:8080/"
    },
    "id": "d575a3a6-5811-41d2-ae5d-7b4802030eec",
    "outputId": "47be7be2-3cdc-46c9-ba26-b067a0739290",
    "tags": []
   },
   "outputs": [
    {
     "name": "stdout",
     "output_type": "stream",
     "text": [
      "parent_relationship_understanding: 0.33905579399141633\n",
      "child_relationship_understanding: 0.7130434782608696\n",
      "overall: 0.41308089500860584\n"
     ]
    }
   ],
   "source": [
    "#### question type \"parent_relationship_understanding\"\n",
    "label_ids, pred_ids = [], []\n",
    "for example in val_corpus:\n",
    "    if example[\"question_type\"] == \"parent_relationship_understanding\":\n",
    "        label_ids.append( example[\"answer_global_ids\"] )\n",
    "        pred_ids.append( example[\"prediction_global_ids\"] )\n",
    "print( \"parent_relationship_understanding:\", calculate_exact_match_ratio( label_ids, pred_ids  ) )\n",
    "\n",
    "#### question type \"child_relationship_understanding\"\n",
    "label_ids, pred_ids = [], []\n",
    "for example in val_corpus:\n",
    "    if example[\"question_type\"] == \"child_relationship_understanding\":\n",
    "        label_ids.append( example[\"answer_global_ids\"] )\n",
    "        pred_ids.append( example[\"prediction_global_ids\"] )\n",
    "print( \"child_relationship_understanding:\", calculate_exact_match_ratio( label_ids, pred_ids  ) )\n",
    "\n",
    "#### question type overall\n",
    "label_ids, pred_ids = [], []\n",
    "for example in val_corpus:\n",
    "    label_ids.append( example[\"answer_global_ids\"] )\n",
    "    pred_ids.append( example[\"prediction_global_ids\"] )\n",
    "print( \"overall:\", calculate_exact_match_ratio( label_ids, pred_ids  ) )"
   ]
  },
  {
   "cell_type": "markdown",
   "id": "905e16b2-622a-492a-aa29-3c651bdfbf79",
   "metadata": {
    "id": "905e16b2-622a-492a-aa29-3c651bdfbf79"
   },
   "source": [
    "# Test"
   ]
  },
  {
   "cell_type": "code",
   "execution_count": 14,
   "id": "5ee704a3-2229-4425-acfe-71672b537bda",
   "metadata": {
    "id": "5ee704a3-2229-4425-acfe-71672b537bda",
    "tags": []
   },
   "outputs": [],
   "source": [
    "corpus, paper_dict = load_dataset_for_inference( test_doc_info_path, test_dataframe_path )\n",
    "predicted_labels = []\n",
    "for idx in range(len(corpus)):\n",
    "    question = corpus[idx][\"question\"]\n",
    "    question_type = corpus[idx][\"question_type\"]\n",
    "    doc_content = paper_dict[ corpus[idx][\"pmcid\"] ]\n",
    "    predicted_labels.append(  memsum_pdf_vqa.inference( question, question_type, doc_content,\n",
    "                                                            p_stop_thres = 0.2, max_extracted_sentences_per_document = 4 ) )\n",
    "\n",
    "id_list = range(0, len(predicted_labels))\n",
    "df = pd.DataFrame(id_list, columns=['id'])\n",
    "df['answer'] = predicted_labels\n",
    "\n",
    "df.to_csv('submission.csv', index=False)"
   ]
  },
  {
   "cell_type": "code",
   "execution_count": null,
   "id": "42ccf6da-7310-4944-a893-a2d60db7e9a3",
   "metadata": {
    "id": "42ccf6da-7310-4944-a893-a2d60db7e9a3"
   },
   "outputs": [],
   "source": []
  }
 ],
 "metadata": {
  "accelerator": "GPU",
  "colab": {
   "gpuType": "T4",
   "provenance": []
  },
  "kernelspec": {
   "display_name": "Python [conda env:pdf_vqa]",
   "language": "python",
   "name": "conda-env-pdf_vqa-py"
  },
  "language_info": {
   "codemirror_mode": {
    "name": "ipython",
    "version": 3
   },
   "file_extension": ".py",
   "mimetype": "text/x-python",
   "name": "python",
   "nbconvert_exporter": "python",
   "pygments_lexer": "ipython3",
   "version": "3.10.13"
  },
  "widgets": {
   "application/vnd.jupyter.widget-state+json": {
    "05ad848d6281427fab530f3a101b4f42": {
     "model_module": "@jupyter-widgets/controls",
     "model_module_version": "1.5.0",
     "model_name": "ProgressStyleModel",
     "state": {
      "_model_module": "@jupyter-widgets/controls",
      "_model_module_version": "1.5.0",
      "_model_name": "ProgressStyleModel",
      "_view_count": null,
      "_view_module": "@jupyter-widgets/base",
      "_view_module_version": "1.2.0",
      "_view_name": "StyleView",
      "bar_color": null,
      "description_width": ""
     }
    },
    "0ec8359579cf454eb8418b623081b77c": {
     "model_module": "@jupyter-widgets/base",
     "model_module_version": "1.2.0",
     "model_name": "LayoutModel",
     "state": {
      "_model_module": "@jupyter-widgets/base",
      "_model_module_version": "1.2.0",
      "_model_name": "LayoutModel",
      "_view_count": null,
      "_view_module": "@jupyter-widgets/base",
      "_view_module_version": "1.2.0",
      "_view_name": "LayoutView",
      "align_content": null,
      "align_items": null,
      "align_self": null,
      "border": null,
      "bottom": null,
      "display": null,
      "flex": null,
      "flex_flow": null,
      "grid_area": null,
      "grid_auto_columns": null,
      "grid_auto_flow": null,
      "grid_auto_rows": null,
      "grid_column": null,
      "grid_gap": null,
      "grid_row": null,
      "grid_template_areas": null,
      "grid_template_columns": null,
      "grid_template_rows": null,
      "height": null,
      "justify_content": null,
      "justify_items": null,
      "left": null,
      "margin": null,
      "max_height": null,
      "max_width": null,
      "min_height": null,
      "min_width": null,
      "object_fit": null,
      "object_position": null,
      "order": null,
      "overflow": null,
      "overflow_x": null,
      "overflow_y": null,
      "padding": null,
      "right": null,
      "top": null,
      "visibility": null,
      "width": null
     }
    },
    "2079af9844a5427f958c2c7d724ee696": {
     "model_module": "@jupyter-widgets/base",
     "model_module_version": "1.2.0",
     "model_name": "LayoutModel",
     "state": {
      "_model_module": "@jupyter-widgets/base",
      "_model_module_version": "1.2.0",
      "_model_name": "LayoutModel",
      "_view_count": null,
      "_view_module": "@jupyter-widgets/base",
      "_view_module_version": "1.2.0",
      "_view_name": "LayoutView",
      "align_content": null,
      "align_items": null,
      "align_self": null,
      "border": null,
      "bottom": null,
      "display": null,
      "flex": null,
      "flex_flow": null,
      "grid_area": null,
      "grid_auto_columns": null,
      "grid_auto_flow": null,
      "grid_auto_rows": null,
      "grid_column": null,
      "grid_gap": null,
      "grid_row": null,
      "grid_template_areas": null,
      "grid_template_columns": null,
      "grid_template_rows": null,
      "height": null,
      "justify_content": null,
      "justify_items": null,
      "left": null,
      "margin": null,
      "max_height": null,
      "max_width": null,
      "min_height": null,
      "min_width": null,
      "object_fit": null,
      "object_position": null,
      "order": null,
      "overflow": null,
      "overflow_x": null,
      "overflow_y": null,
      "padding": null,
      "right": null,
      "top": null,
      "visibility": null,
      "width": null
     }
    },
    "207aeac09db54c65b20efacf063ec460": {
     "model_module": "@jupyter-widgets/base",
     "model_module_version": "1.2.0",
     "model_name": "LayoutModel",
     "state": {
      "_model_module": "@jupyter-widgets/base",
      "_model_module_version": "1.2.0",
      "_model_name": "LayoutModel",
      "_view_count": null,
      "_view_module": "@jupyter-widgets/base",
      "_view_module_version": "1.2.0",
      "_view_name": "LayoutView",
      "align_content": null,
      "align_items": null,
      "align_self": null,
      "border": null,
      "bottom": null,
      "display": null,
      "flex": null,
      "flex_flow": null,
      "grid_area": null,
      "grid_auto_columns": null,
      "grid_auto_flow": null,
      "grid_auto_rows": null,
      "grid_column": null,
      "grid_gap": null,
      "grid_row": null,
      "grid_template_areas": null,
      "grid_template_columns": null,
      "grid_template_rows": null,
      "height": null,
      "justify_content": null,
      "justify_items": null,
      "left": null,
      "margin": null,
      "max_height": null,
      "max_width": null,
      "min_height": null,
      "min_width": null,
      "object_fit": null,
      "object_position": null,
      "order": null,
      "overflow": null,
      "overflow_x": null,
      "overflow_y": null,
      "padding": null,
      "right": null,
      "top": null,
      "visibility": null,
      "width": null
     }
    },
    "23029918f7b94963af98e1b8ba8f63af": {
     "model_module": "@jupyter-widgets/base",
     "model_module_version": "1.2.0",
     "model_name": "LayoutModel",
     "state": {
      "_model_module": "@jupyter-widgets/base",
      "_model_module_version": "1.2.0",
      "_model_name": "LayoutModel",
      "_view_count": null,
      "_view_module": "@jupyter-widgets/base",
      "_view_module_version": "1.2.0",
      "_view_name": "LayoutView",
      "align_content": null,
      "align_items": null,
      "align_self": null,
      "border": null,
      "bottom": null,
      "display": null,
      "flex": null,
      "flex_flow": null,
      "grid_area": null,
      "grid_auto_columns": null,
      "grid_auto_flow": null,
      "grid_auto_rows": null,
      "grid_column": null,
      "grid_gap": null,
      "grid_row": null,
      "grid_template_areas": null,
      "grid_template_columns": null,
      "grid_template_rows": null,
      "height": null,
      "justify_content": null,
      "justify_items": null,
      "left": null,
      "margin": null,
      "max_height": null,
      "max_width": null,
      "min_height": null,
      "min_width": null,
      "object_fit": null,
      "object_position": null,
      "order": null,
      "overflow": null,
      "overflow_x": null,
      "overflow_y": null,
      "padding": null,
      "right": null,
      "top": null,
      "visibility": null,
      "width": null
     }
    },
    "232f3f8add6f47f49c89179bc8c7c56b": {
     "model_module": "@jupyter-widgets/controls",
     "model_module_version": "1.5.0",
     "model_name": "HBoxModel",
     "state": {
      "_dom_classes": [],
      "_model_module": "@jupyter-widgets/controls",
      "_model_module_version": "1.5.0",
      "_model_name": "HBoxModel",
      "_view_count": null,
      "_view_module": "@jupyter-widgets/controls",
      "_view_module_version": "1.5.0",
      "_view_name": "HBoxView",
      "box_style": "",
      "children": [
       "IPY_MODEL_fd8c9eabfe8043b981a9de76ef65ab34",
       "IPY_MODEL_eadb3bd69e9a4348adfad594e2d6f8bf",
       "IPY_MODEL_cba9608376b24d65a66df315e5ab9986"
      ],
      "layout": "IPY_MODEL_7a5ac2f2ca824a099120c89fd5a86a3e"
     }
    },
    "26f48747186d43d7a151195403825066": {
     "model_module": "@jupyter-widgets/base",
     "model_module_version": "1.2.0",
     "model_name": "LayoutModel",
     "state": {
      "_model_module": "@jupyter-widgets/base",
      "_model_module_version": "1.2.0",
      "_model_name": "LayoutModel",
      "_view_count": null,
      "_view_module": "@jupyter-widgets/base",
      "_view_module_version": "1.2.0",
      "_view_name": "LayoutView",
      "align_content": null,
      "align_items": null,
      "align_self": null,
      "border": null,
      "bottom": null,
      "display": null,
      "flex": null,
      "flex_flow": null,
      "grid_area": null,
      "grid_auto_columns": null,
      "grid_auto_flow": null,
      "grid_auto_rows": null,
      "grid_column": null,
      "grid_gap": null,
      "grid_row": null,
      "grid_template_areas": null,
      "grid_template_columns": null,
      "grid_template_rows": null,
      "height": null,
      "justify_content": null,
      "justify_items": null,
      "left": null,
      "margin": null,
      "max_height": null,
      "max_width": null,
      "min_height": null,
      "min_width": null,
      "object_fit": null,
      "object_position": null,
      "order": null,
      "overflow": null,
      "overflow_x": null,
      "overflow_y": null,
      "padding": null,
      "right": null,
      "top": null,
      "visibility": null,
      "width": null
     }
    },
    "28526b79c63f4c16a0898af880d8ec23": {
     "model_module": "@jupyter-widgets/controls",
     "model_module_version": "1.5.0",
     "model_name": "HTMLModel",
     "state": {
      "_dom_classes": [],
      "_model_module": "@jupyter-widgets/controls",
      "_model_module_version": "1.5.0",
      "_model_name": "HTMLModel",
      "_view_count": null,
      "_view_module": "@jupyter-widgets/controls",
      "_view_module_version": "1.5.0",
      "_view_name": "HTMLView",
      "description": "",
      "description_tooltip": null,
      "layout": "IPY_MODEL_682447066f5a4646a22bbc60509a80c9",
      "placeholder": "​",
      "style": "IPY_MODEL_d28d30e3fdef4c4d90677181d83e8285",
      "value": " 28.0/28.0 [00:00&lt;00:00, 586B/s]"
     }
    },
    "28739bac4e9749fe9431e2dcd04ca1a9": {
     "model_module": "@jupyter-widgets/base",
     "model_module_version": "1.2.0",
     "model_name": "LayoutModel",
     "state": {
      "_model_module": "@jupyter-widgets/base",
      "_model_module_version": "1.2.0",
      "_model_name": "LayoutModel",
      "_view_count": null,
      "_view_module": "@jupyter-widgets/base",
      "_view_module_version": "1.2.0",
      "_view_name": "LayoutView",
      "align_content": null,
      "align_items": null,
      "align_self": null,
      "border": null,
      "bottom": null,
      "display": null,
      "flex": null,
      "flex_flow": null,
      "grid_area": null,
      "grid_auto_columns": null,
      "grid_auto_flow": null,
      "grid_auto_rows": null,
      "grid_column": null,
      "grid_gap": null,
      "grid_row": null,
      "grid_template_areas": null,
      "grid_template_columns": null,
      "grid_template_rows": null,
      "height": null,
      "justify_content": null,
      "justify_items": null,
      "left": null,
      "margin": null,
      "max_height": null,
      "max_width": null,
      "min_height": null,
      "min_width": null,
      "object_fit": null,
      "object_position": null,
      "order": null,
      "overflow": null,
      "overflow_x": null,
      "overflow_y": null,
      "padding": null,
      "right": null,
      "top": null,
      "visibility": null,
      "width": null
     }
    },
    "2afb7ba9c28c4df68a9ca2d317ddf627": {
     "model_module": "@jupyter-widgets/controls",
     "model_module_version": "1.5.0",
     "model_name": "DescriptionStyleModel",
     "state": {
      "_model_module": "@jupyter-widgets/controls",
      "_model_module_version": "1.5.0",
      "_model_name": "DescriptionStyleModel",
      "_view_count": null,
      "_view_module": "@jupyter-widgets/base",
      "_view_module_version": "1.2.0",
      "_view_name": "StyleView",
      "description_width": ""
     }
    },
    "3014475b5fd34b63aab8acf4652885a1": {
     "model_module": "@jupyter-widgets/base",
     "model_module_version": "1.2.0",
     "model_name": "LayoutModel",
     "state": {
      "_model_module": "@jupyter-widgets/base",
      "_model_module_version": "1.2.0",
      "_model_name": "LayoutModel",
      "_view_count": null,
      "_view_module": "@jupyter-widgets/base",
      "_view_module_version": "1.2.0",
      "_view_name": "LayoutView",
      "align_content": null,
      "align_items": null,
      "align_self": null,
      "border": null,
      "bottom": null,
      "display": null,
      "flex": null,
      "flex_flow": null,
      "grid_area": null,
      "grid_auto_columns": null,
      "grid_auto_flow": null,
      "grid_auto_rows": null,
      "grid_column": null,
      "grid_gap": null,
      "grid_row": null,
      "grid_template_areas": null,
      "grid_template_columns": null,
      "grid_template_rows": null,
      "height": null,
      "justify_content": null,
      "justify_items": null,
      "left": null,
      "margin": null,
      "max_height": null,
      "max_width": null,
      "min_height": null,
      "min_width": null,
      "object_fit": null,
      "object_position": null,
      "order": null,
      "overflow": null,
      "overflow_x": null,
      "overflow_y": null,
      "padding": null,
      "right": null,
      "top": null,
      "visibility": null,
      "width": null
     }
    },
    "303f53ba924b4eff9388504130c640f6": {
     "model_module": "@jupyter-widgets/controls",
     "model_module_version": "1.5.0",
     "model_name": "HTMLModel",
     "state": {
      "_dom_classes": [],
      "_model_module": "@jupyter-widgets/controls",
      "_model_module_version": "1.5.0",
      "_model_name": "HTMLModel",
      "_view_count": null,
      "_view_module": "@jupyter-widgets/controls",
      "_view_module_version": "1.5.0",
      "_view_name": "HTMLView",
      "description": "",
      "description_tooltip": null,
      "layout": "IPY_MODEL_e9d2115751394f2aaabbda37a86a034c",
      "placeholder": "​",
      "style": "IPY_MODEL_72ed39f7f7fd4f55bf34b731eda11f9a",
      "value": " 1.52k/1.52k [00:00&lt;00:00, 25.3kB/s]"
     }
    },
    "3330dc8ced0f4535a3f57c69bc7390a0": {
     "model_module": "@jupyter-widgets/controls",
     "model_module_version": "1.5.0",
     "model_name": "HTMLModel",
     "state": {
      "_dom_classes": [],
      "_model_module": "@jupyter-widgets/controls",
      "_model_module_version": "1.5.0",
      "_model_name": "HTMLModel",
      "_view_count": null,
      "_view_module": "@jupyter-widgets/controls",
      "_view_module_version": "1.5.0",
      "_view_name": "HTMLView",
      "description": "",
      "description_tooltip": null,
      "layout": "IPY_MODEL_2079af9844a5427f958c2c7d724ee696",
      "placeholder": "​",
      "style": "IPY_MODEL_c2abb75bbb984e99a69bf9e2a49f8df0",
      "value": " 4.16M/4.16M [00:00&lt;00:00, 8.73MB/s]"
     }
    },
    "36114c23f39f42769518f56a2344767c": {
     "model_module": "@jupyter-widgets/controls",
     "model_module_version": "1.5.0",
     "model_name": "FloatProgressModel",
     "state": {
      "_dom_classes": [],
      "_model_module": "@jupyter-widgets/controls",
      "_model_module_version": "1.5.0",
      "_model_name": "FloatProgressModel",
      "_view_count": null,
      "_view_module": "@jupyter-widgets/controls",
      "_view_module_version": "1.5.0",
      "_view_name": "ProgressView",
      "bar_style": "success",
      "description": "",
      "description_tooltip": null,
      "layout": "IPY_MODEL_541d8585ca3a4c389143e16a309955e1",
      "max": 1519,
      "min": 0,
      "orientation": "horizontal",
      "style": "IPY_MODEL_05ad848d6281427fab530f3a101b4f42",
      "value": 1519
     }
    },
    "38cfc669b59047a0b70a575798cb53e1": {
     "model_module": "@jupyter-widgets/controls",
     "model_module_version": "1.5.0",
     "model_name": "ProgressStyleModel",
     "state": {
      "_model_module": "@jupyter-widgets/controls",
      "_model_module_version": "1.5.0",
      "_model_name": "ProgressStyleModel",
      "_view_count": null,
      "_view_module": "@jupyter-widgets/base",
      "_view_module_version": "1.2.0",
      "_view_name": "StyleView",
      "bar_color": null,
      "description_width": ""
     }
    },
    "4c1ab550bd614800ae988c6524b62c05": {
     "model_module": "@jupyter-widgets/controls",
     "model_module_version": "1.5.0",
     "model_name": "HTMLModel",
     "state": {
      "_dom_classes": [],
      "_model_module": "@jupyter-widgets/controls",
      "_model_module_version": "1.5.0",
      "_model_name": "HTMLModel",
      "_view_count": null,
      "_view_module": "@jupyter-widgets/controls",
      "_view_module_version": "1.5.0",
      "_view_name": "HTMLView",
      "description": "",
      "description_tooltip": null,
      "layout": "IPY_MODEL_207aeac09db54c65b20efacf063ec460",
      "placeholder": "​",
      "style": "IPY_MODEL_af06775a93c64bb8a9afdcaa5662f874",
      "value": "Downloading (…)febd6/.gitattributes: 100%"
     }
    },
    "4fbb67cad6214f5c9c13166bc8770955": {
     "model_module": "@jupyter-widgets/controls",
     "model_module_version": "1.5.0",
     "model_name": "HBoxModel",
     "state": {
      "_dom_classes": [],
      "_model_module": "@jupyter-widgets/controls",
      "_model_module_version": "1.5.0",
      "_model_name": "HBoxModel",
      "_view_count": null,
      "_view_module": "@jupyter-widgets/controls",
      "_view_module_version": "1.5.0",
      "_view_name": "HBoxView",
      "box_style": "",
      "children": [
       "IPY_MODEL_d957ccb2c1e14065ac7a5e3a553b7cf8",
       "IPY_MODEL_63d8ef7901044146b6bee38efaf95512",
       "IPY_MODEL_28526b79c63f4c16a0898af880d8ec23"
      ],
      "layout": "IPY_MODEL_f0a5b24e6cfc4e0c90e60eb6278856d9"
     }
    },
    "502614b7d9954c2da711e1bf5ec9836a": {
     "model_module": "@jupyter-widgets/controls",
     "model_module_version": "1.5.0",
     "model_name": "ProgressStyleModel",
     "state": {
      "_model_module": "@jupyter-widgets/controls",
      "_model_module_version": "1.5.0",
      "_model_name": "ProgressStyleModel",
      "_view_count": null,
      "_view_module": "@jupyter-widgets/base",
      "_view_module_version": "1.2.0",
      "_view_name": "StyleView",
      "bar_color": null,
      "description_width": ""
     }
    },
    "526202591f4f48ccbe2ef8c535459688": {
     "model_module": "@jupyter-widgets/base",
     "model_module_version": "1.2.0",
     "model_name": "LayoutModel",
     "state": {
      "_model_module": "@jupyter-widgets/base",
      "_model_module_version": "1.2.0",
      "_model_name": "LayoutModel",
      "_view_count": null,
      "_view_module": "@jupyter-widgets/base",
      "_view_module_version": "1.2.0",
      "_view_name": "LayoutView",
      "align_content": null,
      "align_items": null,
      "align_self": null,
      "border": null,
      "bottom": null,
      "display": null,
      "flex": null,
      "flex_flow": null,
      "grid_area": null,
      "grid_auto_columns": null,
      "grid_auto_flow": null,
      "grid_auto_rows": null,
      "grid_column": null,
      "grid_gap": null,
      "grid_row": null,
      "grid_template_areas": null,
      "grid_template_columns": null,
      "grid_template_rows": null,
      "height": null,
      "justify_content": null,
      "justify_items": null,
      "left": null,
      "margin": null,
      "max_height": null,
      "max_width": null,
      "min_height": null,
      "min_width": null,
      "object_fit": null,
      "object_position": null,
      "order": null,
      "overflow": null,
      "overflow_x": null,
      "overflow_y": null,
      "padding": null,
      "right": null,
      "top": null,
      "visibility": null,
      "width": null
     }
    },
    "541d8585ca3a4c389143e16a309955e1": {
     "model_module": "@jupyter-widgets/base",
     "model_module_version": "1.2.0",
     "model_name": "LayoutModel",
     "state": {
      "_model_module": "@jupyter-widgets/base",
      "_model_module_version": "1.2.0",
      "_model_name": "LayoutModel",
      "_view_count": null,
      "_view_module": "@jupyter-widgets/base",
      "_view_module_version": "1.2.0",
      "_view_name": "LayoutView",
      "align_content": null,
      "align_items": null,
      "align_self": null,
      "border": null,
      "bottom": null,
      "display": null,
      "flex": null,
      "flex_flow": null,
      "grid_area": null,
      "grid_auto_columns": null,
      "grid_auto_flow": null,
      "grid_auto_rows": null,
      "grid_column": null,
      "grid_gap": null,
      "grid_row": null,
      "grid_template_areas": null,
      "grid_template_columns": null,
      "grid_template_rows": null,
      "height": null,
      "justify_content": null,
      "justify_items": null,
      "left": null,
      "margin": null,
      "max_height": null,
      "max_width": null,
      "min_height": null,
      "min_width": null,
      "object_fit": null,
      "object_position": null,
      "order": null,
      "overflow": null,
      "overflow_x": null,
      "overflow_y": null,
      "padding": null,
      "right": null,
      "top": null,
      "visibility": null,
      "width": null
     }
    },
    "58099c4bef5b4be7984e42c443109ac6": {
     "model_module": "@jupyter-widgets/controls",
     "model_module_version": "1.5.0",
     "model_name": "HBoxModel",
     "state": {
      "_dom_classes": [],
      "_model_module": "@jupyter-widgets/controls",
      "_model_module_version": "1.5.0",
      "_model_name": "HBoxModel",
      "_view_count": null,
      "_view_module": "@jupyter-widgets/controls",
      "_view_module_version": "1.5.0",
      "_view_name": "HBoxView",
      "box_style": "",
      "children": [
       "IPY_MODEL_5e7411c4c14c43b58ba3e6e8a9a3f5ec",
       "IPY_MODEL_6d4daeff7ca64840990e9011d7cf2174",
       "IPY_MODEL_3330dc8ced0f4535a3f57c69bc7390a0"
      ],
      "layout": "IPY_MODEL_e33b4b027b414d3aa2dc1a0fced4d24b"
     }
    },
    "5db19cbda4cb41a7bbc96590e83b9181": {
     "model_module": "@jupyter-widgets/controls",
     "model_module_version": "1.5.0",
     "model_name": "ProgressStyleModel",
     "state": {
      "_model_module": "@jupyter-widgets/controls",
      "_model_module_version": "1.5.0",
      "_model_name": "ProgressStyleModel",
      "_view_count": null,
      "_view_module": "@jupyter-widgets/base",
      "_view_module_version": "1.2.0",
      "_view_name": "StyleView",
      "bar_color": null,
      "description_width": ""
     }
    },
    "5e7411c4c14c43b58ba3e6e8a9a3f5ec": {
     "model_module": "@jupyter-widgets/controls",
     "model_module_version": "1.5.0",
     "model_name": "HTMLModel",
     "state": {
      "_dom_classes": [],
      "_model_module": "@jupyter-widgets/controls",
      "_model_module_version": "1.5.0",
      "_model_name": "HTMLModel",
      "_view_count": null,
      "_view_module": "@jupyter-widgets/controls",
      "_view_module_version": "1.5.0",
      "_view_name": "HTMLView",
      "description": "",
      "description_tooltip": null,
      "layout": "IPY_MODEL_28739bac4e9749fe9431e2dcd04ca1a9",
      "placeholder": "​",
      "style": "IPY_MODEL_9a5ddcd9ab8249cdb7755eb05c6df151",
      "value": "Downloading vocabulary_200dim.pkl: 100%"
     }
    },
    "61e3f3b235a54e4eaa966a3366d21dd0": {
     "model_module": "@jupyter-widgets/base",
     "model_module_version": "1.2.0",
     "model_name": "LayoutModel",
     "state": {
      "_model_module": "@jupyter-widgets/base",
      "_model_module_version": "1.2.0",
      "_model_name": "LayoutModel",
      "_view_count": null,
      "_view_module": "@jupyter-widgets/base",
      "_view_module_version": "1.2.0",
      "_view_name": "LayoutView",
      "align_content": null,
      "align_items": null,
      "align_self": null,
      "border": null,
      "bottom": null,
      "display": null,
      "flex": null,
      "flex_flow": null,
      "grid_area": null,
      "grid_auto_columns": null,
      "grid_auto_flow": null,
      "grid_auto_rows": null,
      "grid_column": null,
      "grid_gap": null,
      "grid_row": null,
      "grid_template_areas": null,
      "grid_template_columns": null,
      "grid_template_rows": null,
      "height": null,
      "justify_content": null,
      "justify_items": null,
      "left": null,
      "margin": null,
      "max_height": null,
      "max_width": null,
      "min_height": null,
      "min_width": null,
      "object_fit": null,
      "object_position": null,
      "order": null,
      "overflow": null,
      "overflow_x": null,
      "overflow_y": null,
      "padding": null,
      "right": null,
      "top": null,
      "visibility": null,
      "width": null
     }
    },
    "63d8ef7901044146b6bee38efaf95512": {
     "model_module": "@jupyter-widgets/controls",
     "model_module_version": "1.5.0",
     "model_name": "FloatProgressModel",
     "state": {
      "_dom_classes": [],
      "_model_module": "@jupyter-widgets/controls",
      "_model_module_version": "1.5.0",
      "_model_name": "FloatProgressModel",
      "_view_count": null,
      "_view_module": "@jupyter-widgets/controls",
      "_view_module_version": "1.5.0",
      "_view_name": "ProgressView",
      "bar_style": "success",
      "description": "",
      "description_tooltip": null,
      "layout": "IPY_MODEL_23029918f7b94963af98e1b8ba8f63af",
      "max": 28,
      "min": 0,
      "orientation": "horizontal",
      "style": "IPY_MODEL_38cfc669b59047a0b70a575798cb53e1",
      "value": 28
     }
    },
    "6686869d827940aa82a4398a0da8f3d2": {
     "model_module": "@jupyter-widgets/base",
     "model_module_version": "1.2.0",
     "model_name": "LayoutModel",
     "state": {
      "_model_module": "@jupyter-widgets/base",
      "_model_module_version": "1.2.0",
      "_model_name": "LayoutModel",
      "_view_count": null,
      "_view_module": "@jupyter-widgets/base",
      "_view_module_version": "1.2.0",
      "_view_name": "LayoutView",
      "align_content": null,
      "align_items": null,
      "align_self": null,
      "border": null,
      "bottom": null,
      "display": null,
      "flex": null,
      "flex_flow": null,
      "grid_area": null,
      "grid_auto_columns": null,
      "grid_auto_flow": null,
      "grid_auto_rows": null,
      "grid_column": null,
      "grid_gap": null,
      "grid_row": null,
      "grid_template_areas": null,
      "grid_template_columns": null,
      "grid_template_rows": null,
      "height": null,
      "justify_content": null,
      "justify_items": null,
      "left": null,
      "margin": null,
      "max_height": null,
      "max_width": null,
      "min_height": null,
      "min_width": null,
      "object_fit": null,
      "object_position": null,
      "order": null,
      "overflow": null,
      "overflow_x": null,
      "overflow_y": null,
      "padding": null,
      "right": null,
      "top": null,
      "visibility": null,
      "width": null
     }
    },
    "682447066f5a4646a22bbc60509a80c9": {
     "model_module": "@jupyter-widgets/base",
     "model_module_version": "1.2.0",
     "model_name": "LayoutModel",
     "state": {
      "_model_module": "@jupyter-widgets/base",
      "_model_module_version": "1.2.0",
      "_model_name": "LayoutModel",
      "_view_count": null,
      "_view_module": "@jupyter-widgets/base",
      "_view_module_version": "1.2.0",
      "_view_name": "LayoutView",
      "align_content": null,
      "align_items": null,
      "align_self": null,
      "border": null,
      "bottom": null,
      "display": null,
      "flex": null,
      "flex_flow": null,
      "grid_area": null,
      "grid_auto_columns": null,
      "grid_auto_flow": null,
      "grid_auto_rows": null,
      "grid_column": null,
      "grid_gap": null,
      "grid_row": null,
      "grid_template_areas": null,
      "grid_template_columns": null,
      "grid_template_rows": null,
      "height": null,
      "justify_content": null,
      "justify_items": null,
      "left": null,
      "margin": null,
      "max_height": null,
      "max_width": null,
      "min_height": null,
      "min_width": null,
      "object_fit": null,
      "object_position": null,
      "order": null,
      "overflow": null,
      "overflow_x": null,
      "overflow_y": null,
      "padding": null,
      "right": null,
      "top": null,
      "visibility": null,
      "width": null
     }
    },
    "6d4daeff7ca64840990e9011d7cf2174": {
     "model_module": "@jupyter-widgets/controls",
     "model_module_version": "1.5.0",
     "model_name": "FloatProgressModel",
     "state": {
      "_dom_classes": [],
      "_model_module": "@jupyter-widgets/controls",
      "_model_module_version": "1.5.0",
      "_model_name": "FloatProgressModel",
      "_view_count": null,
      "_view_module": "@jupyter-widgets/controls",
      "_view_module_version": "1.5.0",
      "_view_name": "ProgressView",
      "bar_style": "success",
      "description": "",
      "description_tooltip": null,
      "layout": "IPY_MODEL_6686869d827940aa82a4398a0da8f3d2",
      "max": 4157881,
      "min": 0,
      "orientation": "horizontal",
      "style": "IPY_MODEL_7ad6bc0bde93424daa66e3a2a27bdd0b",
      "value": 4157881
     }
    },
    "72ed39f7f7fd4f55bf34b731eda11f9a": {
     "model_module": "@jupyter-widgets/controls",
     "model_module_version": "1.5.0",
     "model_name": "DescriptionStyleModel",
     "state": {
      "_model_module": "@jupyter-widgets/controls",
      "_model_module_version": "1.5.0",
      "_model_name": "DescriptionStyleModel",
      "_view_count": null,
      "_view_module": "@jupyter-widgets/base",
      "_view_module_version": "1.2.0",
      "_view_name": "StyleView",
      "description_width": ""
     }
    },
    "7a5ac2f2ca824a099120c89fd5a86a3e": {
     "model_module": "@jupyter-widgets/base",
     "model_module_version": "1.2.0",
     "model_name": "LayoutModel",
     "state": {
      "_model_module": "@jupyter-widgets/base",
      "_model_module_version": "1.2.0",
      "_model_name": "LayoutModel",
      "_view_count": null,
      "_view_module": "@jupyter-widgets/base",
      "_view_module_version": "1.2.0",
      "_view_name": "LayoutView",
      "align_content": null,
      "align_items": null,
      "align_self": null,
      "border": null,
      "bottom": null,
      "display": null,
      "flex": null,
      "flex_flow": null,
      "grid_area": null,
      "grid_auto_columns": null,
      "grid_auto_flow": null,
      "grid_auto_rows": null,
      "grid_column": null,
      "grid_gap": null,
      "grid_row": null,
      "grid_template_areas": null,
      "grid_template_columns": null,
      "grid_template_rows": null,
      "height": null,
      "justify_content": null,
      "justify_items": null,
      "left": null,
      "margin": null,
      "max_height": null,
      "max_width": null,
      "min_height": null,
      "min_width": null,
      "object_fit": null,
      "object_position": null,
      "order": null,
      "overflow": null,
      "overflow_x": null,
      "overflow_y": null,
      "padding": null,
      "right": null,
      "top": null,
      "visibility": null,
      "width": null
     }
    },
    "7ad6bc0bde93424daa66e3a2a27bdd0b": {
     "model_module": "@jupyter-widgets/controls",
     "model_module_version": "1.5.0",
     "model_name": "ProgressStyleModel",
     "state": {
      "_model_module": "@jupyter-widgets/controls",
      "_model_module_version": "1.5.0",
      "_model_name": "ProgressStyleModel",
      "_view_count": null,
      "_view_module": "@jupyter-widgets/base",
      "_view_module_version": "1.2.0",
      "_view_name": "StyleView",
      "bar_color": null,
      "description_width": ""
     }
    },
    "90a43222c3704f649505ecc0a3697830": {
     "model_module": "@jupyter-widgets/controls",
     "model_module_version": "1.5.0",
     "model_name": "HTMLModel",
     "state": {
      "_dom_classes": [],
      "_model_module": "@jupyter-widgets/controls",
      "_model_module_version": "1.5.0",
      "_model_name": "HTMLModel",
      "_view_count": null,
      "_view_module": "@jupyter-widgets/controls",
      "_view_module_version": "1.5.0",
      "_view_name": "HTMLView",
      "description": "",
      "description_tooltip": null,
      "layout": "IPY_MODEL_61e3f3b235a54e4eaa966a3366d21dd0",
      "placeholder": "​",
      "style": "IPY_MODEL_cc3da3c7b0f04a368f987fe5cb4c2e81",
      "value": " 4/4 [00:09&lt;00:00,  3.44s/it]"
     }
    },
    "95c5c894b75242a8a07abaede3e831dd": {
     "model_module": "@jupyter-widgets/controls",
     "model_module_version": "1.5.0",
     "model_name": "HTMLModel",
     "state": {
      "_dom_classes": [],
      "_model_module": "@jupyter-widgets/controls",
      "_model_module_version": "1.5.0",
      "_model_name": "HTMLModel",
      "_view_count": null,
      "_view_module": "@jupyter-widgets/controls",
      "_view_module_version": "1.5.0",
      "_view_name": "HTMLView",
      "description": "",
      "description_tooltip": null,
      "layout": "IPY_MODEL_526202591f4f48ccbe2ef8c535459688",
      "placeholder": "​",
      "style": "IPY_MODEL_2afb7ba9c28c4df68a9ca2d317ddf627",
      "value": "Fetching 4 files: 100%"
     }
    },
    "984a08c6e90545ceb77f6328fb30e890": {
     "model_module": "@jupyter-widgets/base",
     "model_module_version": "1.2.0",
     "model_name": "LayoutModel",
     "state": {
      "_model_module": "@jupyter-widgets/base",
      "_model_module_version": "1.2.0",
      "_model_name": "LayoutModel",
      "_view_count": null,
      "_view_module": "@jupyter-widgets/base",
      "_view_module_version": "1.2.0",
      "_view_name": "LayoutView",
      "align_content": null,
      "align_items": null,
      "align_self": null,
      "border": null,
      "bottom": null,
      "display": null,
      "flex": null,
      "flex_flow": null,
      "grid_area": null,
      "grid_auto_columns": null,
      "grid_auto_flow": null,
      "grid_auto_rows": null,
      "grid_column": null,
      "grid_gap": null,
      "grid_row": null,
      "grid_template_areas": null,
      "grid_template_columns": null,
      "grid_template_rows": null,
      "height": null,
      "justify_content": null,
      "justify_items": null,
      "left": null,
      "margin": null,
      "max_height": null,
      "max_width": null,
      "min_height": null,
      "min_width": null,
      "object_fit": null,
      "object_position": null,
      "order": null,
      "overflow": null,
      "overflow_x": null,
      "overflow_y": null,
      "padding": null,
      "right": null,
      "top": null,
      "visibility": null,
      "width": null
     }
    },
    "9a5ddcd9ab8249cdb7755eb05c6df151": {
     "model_module": "@jupyter-widgets/controls",
     "model_module_version": "1.5.0",
     "model_name": "DescriptionStyleModel",
     "state": {
      "_model_module": "@jupyter-widgets/controls",
      "_model_module_version": "1.5.0",
      "_model_name": "DescriptionStyleModel",
      "_view_count": null,
      "_view_module": "@jupyter-widgets/base",
      "_view_module_version": "1.2.0",
      "_view_name": "StyleView",
      "description_width": ""
     }
    },
    "9afd4ba62b2147caa2e003cb1fe97c62": {
     "model_module": "@jupyter-widgets/controls",
     "model_module_version": "1.5.0",
     "model_name": "DescriptionStyleModel",
     "state": {
      "_model_module": "@jupyter-widgets/controls",
      "_model_module_version": "1.5.0",
      "_model_name": "DescriptionStyleModel",
      "_view_count": null,
      "_view_module": "@jupyter-widgets/base",
      "_view_module_version": "1.2.0",
      "_view_name": "StyleView",
      "description_width": ""
     }
    },
    "a64a7391274b4aa484b89c88399f86ed": {
     "model_module": "@jupyter-widgets/controls",
     "model_module_version": "1.5.0",
     "model_name": "FloatProgressModel",
     "state": {
      "_dom_classes": [],
      "_model_module": "@jupyter-widgets/controls",
      "_model_module_version": "1.5.0",
      "_model_name": "FloatProgressModel",
      "_view_count": null,
      "_view_module": "@jupyter-widgets/controls",
      "_view_module_version": "1.5.0",
      "_view_name": "ProgressView",
      "bar_style": "success",
      "description": "",
      "description_tooltip": null,
      "layout": "IPY_MODEL_c86b84613cd44cdebba77e6d10f0297e",
      "max": 4,
      "min": 0,
      "orientation": "horizontal",
      "style": "IPY_MODEL_5db19cbda4cb41a7bbc96590e83b9181",
      "value": 4
     }
    },
    "a7595652edef4cd2b646db7092da7839": {
     "model_module": "@jupyter-widgets/controls",
     "model_module_version": "1.5.0",
     "model_name": "HBoxModel",
     "state": {
      "_dom_classes": [],
      "_model_module": "@jupyter-widgets/controls",
      "_model_module_version": "1.5.0",
      "_model_name": "HBoxModel",
      "_view_count": null,
      "_view_module": "@jupyter-widgets/controls",
      "_view_module_version": "1.5.0",
      "_view_name": "HBoxView",
      "box_style": "",
      "children": [
       "IPY_MODEL_4c1ab550bd614800ae988c6524b62c05",
       "IPY_MODEL_36114c23f39f42769518f56a2344767c",
       "IPY_MODEL_303f53ba924b4eff9388504130c640f6"
      ],
      "layout": "IPY_MODEL_26f48747186d43d7a151195403825066"
     }
    },
    "af06775a93c64bb8a9afdcaa5662f874": {
     "model_module": "@jupyter-widgets/controls",
     "model_module_version": "1.5.0",
     "model_name": "DescriptionStyleModel",
     "state": {
      "_model_module": "@jupyter-widgets/controls",
      "_model_module_version": "1.5.0",
      "_model_name": "DescriptionStyleModel",
      "_view_count": null,
      "_view_module": "@jupyter-widgets/base",
      "_view_module_version": "1.2.0",
      "_view_name": "StyleView",
      "description_width": ""
     }
    },
    "c2abb75bbb984e99a69bf9e2a49f8df0": {
     "model_module": "@jupyter-widgets/controls",
     "model_module_version": "1.5.0",
     "model_name": "DescriptionStyleModel",
     "state": {
      "_model_module": "@jupyter-widgets/controls",
      "_model_module_version": "1.5.0",
      "_model_name": "DescriptionStyleModel",
      "_view_count": null,
      "_view_module": "@jupyter-widgets/base",
      "_view_module_version": "1.2.0",
      "_view_name": "StyleView",
      "description_width": ""
     }
    },
    "c74def50c1d74adaab2b8d0f92f51f8b": {
     "model_module": "@jupyter-widgets/base",
     "model_module_version": "1.2.0",
     "model_name": "LayoutModel",
     "state": {
      "_model_module": "@jupyter-widgets/base",
      "_model_module_version": "1.2.0",
      "_model_name": "LayoutModel",
      "_view_count": null,
      "_view_module": "@jupyter-widgets/base",
      "_view_module_version": "1.2.0",
      "_view_name": "LayoutView",
      "align_content": null,
      "align_items": null,
      "align_self": null,
      "border": null,
      "bottom": null,
      "display": null,
      "flex": null,
      "flex_flow": null,
      "grid_area": null,
      "grid_auto_columns": null,
      "grid_auto_flow": null,
      "grid_auto_rows": null,
      "grid_column": null,
      "grid_gap": null,
      "grid_row": null,
      "grid_template_areas": null,
      "grid_template_columns": null,
      "grid_template_rows": null,
      "height": null,
      "justify_content": null,
      "justify_items": null,
      "left": null,
      "margin": null,
      "max_height": null,
      "max_width": null,
      "min_height": null,
      "min_width": null,
      "object_fit": null,
      "object_position": null,
      "order": null,
      "overflow": null,
      "overflow_x": null,
      "overflow_y": null,
      "padding": null,
      "right": null,
      "top": null,
      "visibility": null,
      "width": null
     }
    },
    "c86b84613cd44cdebba77e6d10f0297e": {
     "model_module": "@jupyter-widgets/base",
     "model_module_version": "1.2.0",
     "model_name": "LayoutModel",
     "state": {
      "_model_module": "@jupyter-widgets/base",
      "_model_module_version": "1.2.0",
      "_model_name": "LayoutModel",
      "_view_count": null,
      "_view_module": "@jupyter-widgets/base",
      "_view_module_version": "1.2.0",
      "_view_name": "LayoutView",
      "align_content": null,
      "align_items": null,
      "align_self": null,
      "border": null,
      "bottom": null,
      "display": null,
      "flex": null,
      "flex_flow": null,
      "grid_area": null,
      "grid_auto_columns": null,
      "grid_auto_flow": null,
      "grid_auto_rows": null,
      "grid_column": null,
      "grid_gap": null,
      "grid_row": null,
      "grid_template_areas": null,
      "grid_template_columns": null,
      "grid_template_rows": null,
      "height": null,
      "justify_content": null,
      "justify_items": null,
      "left": null,
      "margin": null,
      "max_height": null,
      "max_width": null,
      "min_height": null,
      "min_width": null,
      "object_fit": null,
      "object_position": null,
      "order": null,
      "overflow": null,
      "overflow_x": null,
      "overflow_y": null,
      "padding": null,
      "right": null,
      "top": null,
      "visibility": null,
      "width": null
     }
    },
    "cba9608376b24d65a66df315e5ab9986": {
     "model_module": "@jupyter-widgets/controls",
     "model_module_version": "1.5.0",
     "model_name": "HTMLModel",
     "state": {
      "_dom_classes": [],
      "_model_module": "@jupyter-widgets/controls",
      "_model_module_version": "1.5.0",
      "_model_name": "HTMLModel",
      "_view_count": null,
      "_view_module": "@jupyter-widgets/controls",
      "_view_module_version": "1.5.0",
      "_view_name": "HTMLView",
      "description": "",
      "description_tooltip": null,
      "layout": "IPY_MODEL_c74def50c1d74adaab2b8d0f92f51f8b",
      "placeholder": "​",
      "style": "IPY_MODEL_9afd4ba62b2147caa2e003cb1fe97c62",
      "value": " 320M/320M [00:07&lt;00:00, 35.6MB/s]"
     }
    },
    "cc3da3c7b0f04a368f987fe5cb4c2e81": {
     "model_module": "@jupyter-widgets/controls",
     "model_module_version": "1.5.0",
     "model_name": "DescriptionStyleModel",
     "state": {
      "_model_module": "@jupyter-widgets/controls",
      "_model_module_version": "1.5.0",
      "_model_name": "DescriptionStyleModel",
      "_view_count": null,
      "_view_module": "@jupyter-widgets/base",
      "_view_module_version": "1.2.0",
      "_view_name": "StyleView",
      "description_width": ""
     }
    },
    "cfdbed5b62474df3848702758e1ecf56": {
     "model_module": "@jupyter-widgets/controls",
     "model_module_version": "1.5.0",
     "model_name": "HBoxModel",
     "state": {
      "_dom_classes": [],
      "_model_module": "@jupyter-widgets/controls",
      "_model_module_version": "1.5.0",
      "_model_name": "HBoxModel",
      "_view_count": null,
      "_view_module": "@jupyter-widgets/controls",
      "_view_module_version": "1.5.0",
      "_view_name": "HBoxView",
      "box_style": "",
      "children": [
       "IPY_MODEL_95c5c894b75242a8a07abaede3e831dd",
       "IPY_MODEL_a64a7391274b4aa484b89c88399f86ed",
       "IPY_MODEL_90a43222c3704f649505ecc0a3697830"
      ],
      "layout": "IPY_MODEL_0ec8359579cf454eb8418b623081b77c"
     }
    },
    "d28d30e3fdef4c4d90677181d83e8285": {
     "model_module": "@jupyter-widgets/controls",
     "model_module_version": "1.5.0",
     "model_name": "DescriptionStyleModel",
     "state": {
      "_model_module": "@jupyter-widgets/controls",
      "_model_module_version": "1.5.0",
      "_model_name": "DescriptionStyleModel",
      "_view_count": null,
      "_view_module": "@jupyter-widgets/base",
      "_view_module_version": "1.2.0",
      "_view_name": "StyleView",
      "description_width": ""
     }
    },
    "d69816d736f84a8ba4ab8deedad300a7": {
     "model_module": "@jupyter-widgets/base",
     "model_module_version": "1.2.0",
     "model_name": "LayoutModel",
     "state": {
      "_model_module": "@jupyter-widgets/base",
      "_model_module_version": "1.2.0",
      "_model_name": "LayoutModel",
      "_view_count": null,
      "_view_module": "@jupyter-widgets/base",
      "_view_module_version": "1.2.0",
      "_view_name": "LayoutView",
      "align_content": null,
      "align_items": null,
      "align_self": null,
      "border": null,
      "bottom": null,
      "display": null,
      "flex": null,
      "flex_flow": null,
      "grid_area": null,
      "grid_auto_columns": null,
      "grid_auto_flow": null,
      "grid_auto_rows": null,
      "grid_column": null,
      "grid_gap": null,
      "grid_row": null,
      "grid_template_areas": null,
      "grid_template_columns": null,
      "grid_template_rows": null,
      "height": null,
      "justify_content": null,
      "justify_items": null,
      "left": null,
      "margin": null,
      "max_height": null,
      "max_width": null,
      "min_height": null,
      "min_width": null,
      "object_fit": null,
      "object_position": null,
      "order": null,
      "overflow": null,
      "overflow_x": null,
      "overflow_y": null,
      "padding": null,
      "right": null,
      "top": null,
      "visibility": null,
      "width": null
     }
    },
    "d957ccb2c1e14065ac7a5e3a553b7cf8": {
     "model_module": "@jupyter-widgets/controls",
     "model_module_version": "1.5.0",
     "model_name": "HTMLModel",
     "state": {
      "_dom_classes": [],
      "_model_module": "@jupyter-widgets/controls",
      "_model_module_version": "1.5.0",
      "_model_name": "HTMLModel",
      "_view_count": null,
      "_view_module": "@jupyter-widgets/controls",
      "_view_module_version": "1.5.0",
      "_view_name": "HTMLView",
      "description": "",
      "description_tooltip": null,
      "layout": "IPY_MODEL_984a08c6e90545ceb77f6328fb30e890",
      "placeholder": "​",
      "style": "IPY_MODEL_eee51e1031ca42b098e2e9621ede15d9",
      "value": "Downloading (…)3b269febd6/README.md: 100%"
     }
    },
    "e33b4b027b414d3aa2dc1a0fced4d24b": {
     "model_module": "@jupyter-widgets/base",
     "model_module_version": "1.2.0",
     "model_name": "LayoutModel",
     "state": {
      "_model_module": "@jupyter-widgets/base",
      "_model_module_version": "1.2.0",
      "_model_name": "LayoutModel",
      "_view_count": null,
      "_view_module": "@jupyter-widgets/base",
      "_view_module_version": "1.2.0",
      "_view_name": "LayoutView",
      "align_content": null,
      "align_items": null,
      "align_self": null,
      "border": null,
      "bottom": null,
      "display": null,
      "flex": null,
      "flex_flow": null,
      "grid_area": null,
      "grid_auto_columns": null,
      "grid_auto_flow": null,
      "grid_auto_rows": null,
      "grid_column": null,
      "grid_gap": null,
      "grid_row": null,
      "grid_template_areas": null,
      "grid_template_columns": null,
      "grid_template_rows": null,
      "height": null,
      "justify_content": null,
      "justify_items": null,
      "left": null,
      "margin": null,
      "max_height": null,
      "max_width": null,
      "min_height": null,
      "min_width": null,
      "object_fit": null,
      "object_position": null,
      "order": null,
      "overflow": null,
      "overflow_x": null,
      "overflow_y": null,
      "padding": null,
      "right": null,
      "top": null,
      "visibility": null,
      "width": null
     }
    },
    "e586c60390c84bbc84b0e3a5720da134": {
     "model_module": "@jupyter-widgets/controls",
     "model_module_version": "1.5.0",
     "model_name": "DescriptionStyleModel",
     "state": {
      "_model_module": "@jupyter-widgets/controls",
      "_model_module_version": "1.5.0",
      "_model_name": "DescriptionStyleModel",
      "_view_count": null,
      "_view_module": "@jupyter-widgets/base",
      "_view_module_version": "1.2.0",
      "_view_name": "StyleView",
      "description_width": ""
     }
    },
    "e9d2115751394f2aaabbda37a86a034c": {
     "model_module": "@jupyter-widgets/base",
     "model_module_version": "1.2.0",
     "model_name": "LayoutModel",
     "state": {
      "_model_module": "@jupyter-widgets/base",
      "_model_module_version": "1.2.0",
      "_model_name": "LayoutModel",
      "_view_count": null,
      "_view_module": "@jupyter-widgets/base",
      "_view_module_version": "1.2.0",
      "_view_name": "LayoutView",
      "align_content": null,
      "align_items": null,
      "align_self": null,
      "border": null,
      "bottom": null,
      "display": null,
      "flex": null,
      "flex_flow": null,
      "grid_area": null,
      "grid_auto_columns": null,
      "grid_auto_flow": null,
      "grid_auto_rows": null,
      "grid_column": null,
      "grid_gap": null,
      "grid_row": null,
      "grid_template_areas": null,
      "grid_template_columns": null,
      "grid_template_rows": null,
      "height": null,
      "justify_content": null,
      "justify_items": null,
      "left": null,
      "margin": null,
      "max_height": null,
      "max_width": null,
      "min_height": null,
      "min_width": null,
      "object_fit": null,
      "object_position": null,
      "order": null,
      "overflow": null,
      "overflow_x": null,
      "overflow_y": null,
      "padding": null,
      "right": null,
      "top": null,
      "visibility": null,
      "width": null
     }
    },
    "eadb3bd69e9a4348adfad594e2d6f8bf": {
     "model_module": "@jupyter-widgets/controls",
     "model_module_version": "1.5.0",
     "model_name": "FloatProgressModel",
     "state": {
      "_dom_classes": [],
      "_model_module": "@jupyter-widgets/controls",
      "_model_module_version": "1.5.0",
      "_model_name": "FloatProgressModel",
      "_view_count": null,
      "_view_module": "@jupyter-widgets/controls",
      "_view_module_version": "1.5.0",
      "_view_name": "ProgressView",
      "bar_style": "success",
      "description": "",
      "description_tooltip": null,
      "layout": "IPY_MODEL_3014475b5fd34b63aab8acf4652885a1",
      "max": 320002555,
      "min": 0,
      "orientation": "horizontal",
      "style": "IPY_MODEL_502614b7d9954c2da711e1bf5ec9836a",
      "value": 320002555
     }
    },
    "eee51e1031ca42b098e2e9621ede15d9": {
     "model_module": "@jupyter-widgets/controls",
     "model_module_version": "1.5.0",
     "model_name": "DescriptionStyleModel",
     "state": {
      "_model_module": "@jupyter-widgets/controls",
      "_model_module_version": "1.5.0",
      "_model_name": "DescriptionStyleModel",
      "_view_count": null,
      "_view_module": "@jupyter-widgets/base",
      "_view_module_version": "1.2.0",
      "_view_name": "StyleView",
      "description_width": ""
     }
    },
    "f0a5b24e6cfc4e0c90e60eb6278856d9": {
     "model_module": "@jupyter-widgets/base",
     "model_module_version": "1.2.0",
     "model_name": "LayoutModel",
     "state": {
      "_model_module": "@jupyter-widgets/base",
      "_model_module_version": "1.2.0",
      "_model_name": "LayoutModel",
      "_view_count": null,
      "_view_module": "@jupyter-widgets/base",
      "_view_module_version": "1.2.0",
      "_view_name": "LayoutView",
      "align_content": null,
      "align_items": null,
      "align_self": null,
      "border": null,
      "bottom": null,
      "display": null,
      "flex": null,
      "flex_flow": null,
      "grid_area": null,
      "grid_auto_columns": null,
      "grid_auto_flow": null,
      "grid_auto_rows": null,
      "grid_column": null,
      "grid_gap": null,
      "grid_row": null,
      "grid_template_areas": null,
      "grid_template_columns": null,
      "grid_template_rows": null,
      "height": null,
      "justify_content": null,
      "justify_items": null,
      "left": null,
      "margin": null,
      "max_height": null,
      "max_width": null,
      "min_height": null,
      "min_width": null,
      "object_fit": null,
      "object_position": null,
      "order": null,
      "overflow": null,
      "overflow_x": null,
      "overflow_y": null,
      "padding": null,
      "right": null,
      "top": null,
      "visibility": null,
      "width": null
     }
    },
    "fd8c9eabfe8043b981a9de76ef65ab34": {
     "model_module": "@jupyter-widgets/controls",
     "model_module_version": "1.5.0",
     "model_name": "HTMLModel",
     "state": {
      "_dom_classes": [],
      "_model_module": "@jupyter-widgets/controls",
      "_model_module_version": "1.5.0",
      "_model_name": "HTMLModel",
      "_view_count": null,
      "_view_module": "@jupyter-widgets/controls",
      "_view_module_version": "1.5.0",
      "_view_name": "HTMLView",
      "description": "",
      "description_tooltip": null,
      "layout": "IPY_MODEL_d69816d736f84a8ba4ab8deedad300a7",
      "placeholder": "​",
      "style": "IPY_MODEL_e586c60390c84bbc84b0e3a5720da134",
      "value": "Downloading (…)mbeddings_200dim.pkl: 100%"
     }
    }
   }
  }
 },
 "nbformat": 4,
 "nbformat_minor": 5
}
